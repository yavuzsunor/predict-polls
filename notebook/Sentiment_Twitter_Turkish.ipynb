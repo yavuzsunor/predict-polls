{
 "cells": [
  {
   "cell_type": "markdown",
   "metadata": {
    "id": "JyBg39aTo8Ol"
   },
   "source": [
    "### Import Libraries"
   ]
  },
  {
   "cell_type": "code",
   "execution_count": 82,
   "metadata": {
    "colab": {
     "base_uri": "https://localhost:8080/"
    },
    "id": "O_xKvWGmdo-L",
    "outputId": "e5b07b1a-8845-4d4c-d60d-7f121138f74f"
   },
   "outputs": [
    {
     "name": "stdout",
     "output_type": "stream",
     "text": [
      "Looking in indexes: https://pypi.org/simple, https://us-python.pkg.dev/colab-wheels/public/simple/\n",
      "Collecting zemberek-python\n",
      "  Downloading zemberek_python-0.2.3-py3-none-any.whl (95.1 MB)\n",
      "\u001b[2K     \u001b[90m━━━━━━━━━━━━━━━━━━━━━━━━━━━━━━━━━━━━━━━━\u001b[0m \u001b[32m95.1/95.1 MB\u001b[0m \u001b[31m10.1 MB/s\u001b[0m eta \u001b[36m0:00:00\u001b[0m\n",
      "\u001b[?25hCollecting antlr4-python3-runtime==4.8 (from zemberek-python)\n",
      "  Downloading antlr4-python3-runtime-4.8.tar.gz (112 kB)\n",
      "\u001b[2K     \u001b[90m━━━━━━━━━━━━━━━━━━━━━━━━━━━━━━━━━━━━━━\u001b[0m \u001b[32m112.4/112.4 kB\u001b[0m \u001b[31m13.4 MB/s\u001b[0m eta \u001b[36m0:00:00\u001b[0m\n",
      "\u001b[?25h  Preparing metadata (setup.py) ... \u001b[?25l\u001b[?25hdone\n",
      "Requirement already satisfied: numpy>=1.19.0 in /usr/local/lib/python3.10/dist-packages (from zemberek-python) (1.22.4)\n",
      "Building wheels for collected packages: antlr4-python3-runtime\n",
      "  Building wheel for antlr4-python3-runtime (setup.py) ... \u001b[?25l\u001b[?25hdone\n",
      "  Created wheel for antlr4-python3-runtime: filename=antlr4_python3_runtime-4.8-py3-none-any.whl size=141210 sha256=fca624ac5449617ccec310598e8c48ce77ab843e666f41b9b7204da114f7c1b3\n",
      "  Stored in directory: /root/.cache/pip/wheels/a7/20/bd/e1477d664f22d99989fd28ee1a43d6633dddb5cb9e801350d5\n",
      "Successfully built antlr4-python3-runtime\n",
      "Installing collected packages: antlr4-python3-runtime, zemberek-python\n",
      "Successfully installed antlr4-python3-runtime-4.8 zemberek-python-0.2.3\n"
     ]
    }
   ],
   "source": [
    "# !pip install transformers\n",
    "!pip install zemberek-python"
   ]
  },
  {
   "cell_type": "code",
   "execution_count": 1,
   "metadata": {
    "id": "cDAwP-n-o5kY"
   },
   "outputs": [
    {
     "name": "stderr",
     "output_type": "stream",
     "text": [
      "/Users/yavuzsunor/anaconda3/lib/python3.7/site-packages/pandas/compat/_optional.py:138: UserWarning: Pandas requires version '2.7.0' or newer of 'numexpr' (version '2.6.9' currently installed).\n",
      "  warnings.warn(msg, UserWarning)\n"
     ]
    }
   ],
   "source": [
    "import pandas as pd\n",
    "import numpy as np\n",
    "import matplotlib.pyplot as plt\n",
    "from sklearn.model_selection import train_test_split"
   ]
  },
  {
   "cell_type": "code",
   "execution_count": 2,
   "metadata": {
    "id": "DSFlMXW9dfch"
   },
   "outputs": [],
   "source": [
    "import torch\n",
    "import transformers \n",
    "# from transformers import BertTokenizer, TFBertModel, BertConfig\n",
    "# from transformers import DistilBertModel,DistilBertTokenizer"
   ]
  },
  {
   "cell_type": "code",
   "execution_count": 5,
   "metadata": {
    "id": "QKM9PeU9qa2L"
   },
   "outputs": [],
   "source": [
    "import string\n",
    "from nltk import word_tokenize\n",
    "from nltk.util import ngrams\n",
    "from collections import Counter"
   ]
  },
  {
   "cell_type": "code",
   "execution_count": 6,
   "metadata": {
    "colab": {
     "base_uri": "https://localhost:8080/"
    },
    "id": "h9QCdmBXsPY-",
    "outputId": "daa03616-9270-44b6-8fca-15e80bae2c69"
   },
   "outputs": [
    {
     "name": "stderr",
     "output_type": "stream",
     "text": [
      "[nltk_data] Downloading package stopwords to /root/nltk_data...\n",
      "[nltk_data]   Unzipping corpora/stopwords.zip.\n",
      "[nltk_data] Downloading package punkt to /root/nltk_data...\n",
      "[nltk_data]   Unzipping tokenizers/punkt.zip.\n"
     ]
    },
    {
     "data": {
      "text/plain": [
       "True"
      ]
     },
     "execution_count": 6,
     "metadata": {},
     "output_type": "execute_result"
    }
   ],
   "source": [
    "import nltk\n",
    "nltk.download('stopwords')\n",
    "nltk.download('punkt')"
   ]
  },
  {
   "cell_type": "code",
   "execution_count": 7,
   "metadata": {
    "id": "SRHbyKIfYLZA"
   },
   "outputs": [],
   "source": [
    "from nltk.corpus import stopwords"
   ]
  },
  {
   "cell_type": "markdown",
   "metadata": {
    "id": "fI-fl0gXqBQy"
   },
   "source": [
    "### Load Dataset"
   ]
  },
  {
   "cell_type": "code",
   "execution_count": 8,
   "metadata": {
    "colab": {
     "base_uri": "https://localhost:8080/",
     "height": 73
    },
    "id": "XM3js8JgRgzo",
    "outputId": "bd05ed11-236e-4b1e-afe2-bb8050f424e5"
   },
   "outputs": [
    {
     "data": {
      "text/html": [
       "\n",
       "     <input type=\"file\" id=\"files-a94bbf52-f373-4d6c-be79-e21cfc616790\" name=\"files[]\" multiple disabled\n",
       "        style=\"border:none\" />\n",
       "     <output id=\"result-a94bbf52-f373-4d6c-be79-e21cfc616790\">\n",
       "      Upload widget is only available when the cell has been executed in the\n",
       "      current browser session. Please rerun this cell to enable.\n",
       "      </output>\n",
       "      <script>// Copyright 2017 Google LLC\n",
       "//\n",
       "// Licensed under the Apache License, Version 2.0 (the \"License\");\n",
       "// you may not use this file except in compliance with the License.\n",
       "// You may obtain a copy of the License at\n",
       "//\n",
       "//      http://www.apache.org/licenses/LICENSE-2.0\n",
       "//\n",
       "// Unless required by applicable law or agreed to in writing, software\n",
       "// distributed under the License is distributed on an \"AS IS\" BASIS,\n",
       "// WITHOUT WARRANTIES OR CONDITIONS OF ANY KIND, either express or implied.\n",
       "// See the License for the specific language governing permissions and\n",
       "// limitations under the License.\n",
       "\n",
       "/**\n",
       " * @fileoverview Helpers for google.colab Python module.\n",
       " */\n",
       "(function(scope) {\n",
       "function span(text, styleAttributes = {}) {\n",
       "  const element = document.createElement('span');\n",
       "  element.textContent = text;\n",
       "  for (const key of Object.keys(styleAttributes)) {\n",
       "    element.style[key] = styleAttributes[key];\n",
       "  }\n",
       "  return element;\n",
       "}\n",
       "\n",
       "// Max number of bytes which will be uploaded at a time.\n",
       "const MAX_PAYLOAD_SIZE = 100 * 1024;\n",
       "\n",
       "function _uploadFiles(inputId, outputId) {\n",
       "  const steps = uploadFilesStep(inputId, outputId);\n",
       "  const outputElement = document.getElementById(outputId);\n",
       "  // Cache steps on the outputElement to make it available for the next call\n",
       "  // to uploadFilesContinue from Python.\n",
       "  outputElement.steps = steps;\n",
       "\n",
       "  return _uploadFilesContinue(outputId);\n",
       "}\n",
       "\n",
       "// This is roughly an async generator (not supported in the browser yet),\n",
       "// where there are multiple asynchronous steps and the Python side is going\n",
       "// to poll for completion of each step.\n",
       "// This uses a Promise to block the python side on completion of each step,\n",
       "// then passes the result of the previous step as the input to the next step.\n",
       "function _uploadFilesContinue(outputId) {\n",
       "  const outputElement = document.getElementById(outputId);\n",
       "  const steps = outputElement.steps;\n",
       "\n",
       "  const next = steps.next(outputElement.lastPromiseValue);\n",
       "  return Promise.resolve(next.value.promise).then((value) => {\n",
       "    // Cache the last promise value to make it available to the next\n",
       "    // step of the generator.\n",
       "    outputElement.lastPromiseValue = value;\n",
       "    return next.value.response;\n",
       "  });\n",
       "}\n",
       "\n",
       "/**\n",
       " * Generator function which is called between each async step of the upload\n",
       " * process.\n",
       " * @param {string} inputId Element ID of the input file picker element.\n",
       " * @param {string} outputId Element ID of the output display.\n",
       " * @return {!Iterable<!Object>} Iterable of next steps.\n",
       " */\n",
       "function* uploadFilesStep(inputId, outputId) {\n",
       "  const inputElement = document.getElementById(inputId);\n",
       "  inputElement.disabled = false;\n",
       "\n",
       "  const outputElement = document.getElementById(outputId);\n",
       "  outputElement.innerHTML = '';\n",
       "\n",
       "  const pickedPromise = new Promise((resolve) => {\n",
       "    inputElement.addEventListener('change', (e) => {\n",
       "      resolve(e.target.files);\n",
       "    });\n",
       "  });\n",
       "\n",
       "  const cancel = document.createElement('button');\n",
       "  inputElement.parentElement.appendChild(cancel);\n",
       "  cancel.textContent = 'Cancel upload';\n",
       "  const cancelPromise = new Promise((resolve) => {\n",
       "    cancel.onclick = () => {\n",
       "      resolve(null);\n",
       "    };\n",
       "  });\n",
       "\n",
       "  // Wait for the user to pick the files.\n",
       "  const files = yield {\n",
       "    promise: Promise.race([pickedPromise, cancelPromise]),\n",
       "    response: {\n",
       "      action: 'starting',\n",
       "    }\n",
       "  };\n",
       "\n",
       "  cancel.remove();\n",
       "\n",
       "  // Disable the input element since further picks are not allowed.\n",
       "  inputElement.disabled = true;\n",
       "\n",
       "  if (!files) {\n",
       "    return {\n",
       "      response: {\n",
       "        action: 'complete',\n",
       "      }\n",
       "    };\n",
       "  }\n",
       "\n",
       "  for (const file of files) {\n",
       "    const li = document.createElement('li');\n",
       "    li.append(span(file.name, {fontWeight: 'bold'}));\n",
       "    li.append(span(\n",
       "        `(${file.type || 'n/a'}) - ${file.size} bytes, ` +\n",
       "        `last modified: ${\n",
       "            file.lastModifiedDate ? file.lastModifiedDate.toLocaleDateString() :\n",
       "                                    'n/a'} - `));\n",
       "    const percent = span('0% done');\n",
       "    li.appendChild(percent);\n",
       "\n",
       "    outputElement.appendChild(li);\n",
       "\n",
       "    const fileDataPromise = new Promise((resolve) => {\n",
       "      const reader = new FileReader();\n",
       "      reader.onload = (e) => {\n",
       "        resolve(e.target.result);\n",
       "      };\n",
       "      reader.readAsArrayBuffer(file);\n",
       "    });\n",
       "    // Wait for the data to be ready.\n",
       "    let fileData = yield {\n",
       "      promise: fileDataPromise,\n",
       "      response: {\n",
       "        action: 'continue',\n",
       "      }\n",
       "    };\n",
       "\n",
       "    // Use a chunked sending to avoid message size limits. See b/62115660.\n",
       "    let position = 0;\n",
       "    do {\n",
       "      const length = Math.min(fileData.byteLength - position, MAX_PAYLOAD_SIZE);\n",
       "      const chunk = new Uint8Array(fileData, position, length);\n",
       "      position += length;\n",
       "\n",
       "      const base64 = btoa(String.fromCharCode.apply(null, chunk));\n",
       "      yield {\n",
       "        response: {\n",
       "          action: 'append',\n",
       "          file: file.name,\n",
       "          data: base64,\n",
       "        },\n",
       "      };\n",
       "\n",
       "      let percentDone = fileData.byteLength === 0 ?\n",
       "          100 :\n",
       "          Math.round((position / fileData.byteLength) * 100);\n",
       "      percent.textContent = `${percentDone}% done`;\n",
       "\n",
       "    } while (position < fileData.byteLength);\n",
       "  }\n",
       "\n",
       "  // All done.\n",
       "  yield {\n",
       "    response: {\n",
       "      action: 'complete',\n",
       "    }\n",
       "  };\n",
       "}\n",
       "\n",
       "scope.google = scope.google || {};\n",
       "scope.google.colab = scope.google.colab || {};\n",
       "scope.google.colab._files = {\n",
       "  _uploadFiles,\n",
       "  _uploadFilesContinue,\n",
       "};\n",
       "})(self);\n",
       "</script> "
      ],
      "text/plain": [
       "<IPython.core.display.HTML object>"
      ]
     },
     "metadata": {},
     "output_type": "display_data"
    },
    {
     "name": "stdout",
     "output_type": "stream",
     "text": [
      "Saving newcsv.csv to newcsv.csv\n"
     ]
    }
   ],
   "source": [
    "from google.colab import files\n",
    " \n",
    "uploaded = files.upload()"
   ]
  },
  {
   "cell_type": "code",
   "execution_count": 7,
   "metadata": {
    "id": "m5uCnmDbSdc8"
   },
   "outputs": [],
   "source": [
    "# # alternative data read \n",
    "# f = open(\"newcsv.csv\", \"rb\")\n",
    "# text = f.read().decode(errors='replace')\n",
    "\n",
    "dataset_train = pd.read_csv('data/newcsv.csv', encoding='windows-1254')\n",
    "# dataset_test = pd.read_csv('sentimentSet.csv')"
   ]
  },
  {
   "cell_type": "code",
   "execution_count": null,
   "metadata": {
    "colab": {
     "base_uri": "https://localhost:8080/"
    },
    "id": "ktmrqcyWXtl8",
    "outputId": "3d990450-d3fc-4bfc-8066-12f80d962a5e"
   },
   "outputs": [
    {
     "name": "stdout",
     "output_type": "stream",
     "text": [
      "<class 'pandas.core.frame.DataFrame'>\n",
      "RangeIndex: 11119 entries, 0 to 11118\n",
      "Data columns (total 2 columns):\n",
      " #   Column    Non-Null Count  Dtype \n",
      "---  ------    --------------  ----- \n",
      " 0   Tip       11119 non-null  object\n",
      " 1   Paylaşım  11117 non-null  object\n",
      "dtypes: object(2)\n",
      "memory usage: 173.9+ KB\n"
     ]
    }
   ],
   "source": [
    "dataset_train.info()"
   ]
  },
  {
   "cell_type": "code",
   "execution_count": null,
   "metadata": {
    "colab": {
     "base_uri": "https://localhost:8080/"
    },
    "id": "yL-DtFA_iLGu",
    "outputId": "7b4fc802-9a27-4067-a3fa-e778a172e52d"
   },
   "outputs": [
    {
     "data": {
      "text/plain": [
       "Pozitif    6115\n",
       "Negatif    5004\n",
       "Name: Tip, dtype: int64"
      ]
     },
     "execution_count": 8,
     "metadata": {},
     "output_type": "execute_result"
    }
   ],
   "source": [
    "dataset_train.Tip.value_counts()"
   ]
  },
  {
   "cell_type": "code",
   "execution_count": 8,
   "metadata": {
    "id": "YVq3bp2zjF8v"
   },
   "outputs": [],
   "source": [
    "dataset_train.rename(columns = {'Tip':'Label', 'Paylaşım':'Tweets'}, inplace=True)\n",
    "dataset_train['Label'] = dataset_train['Label'].apply(lambda x: 1 if x == 'Pozitif' else 0)"
   ]
  },
  {
   "cell_type": "code",
   "execution_count": null,
   "metadata": {
    "colab": {
     "base_uri": "https://localhost:8080/",
     "height": 206
    },
    "id": "dLG-AMWgkPTc",
    "outputId": "4dc24dff-415d-4f22-b15f-e8035a8cf22c"
   },
   "outputs": [
    {
     "data": {
      "text/html": [
       "\n",
       "  <div id=\"df-7ca113eb-9987-408d-94b5-637de6a6bf47\">\n",
       "    <div class=\"colab-df-container\">\n",
       "      <div>\n",
       "<style scoped>\n",
       "    .dataframe tbody tr th:only-of-type {\n",
       "        vertical-align: middle;\n",
       "    }\n",
       "\n",
       "    .dataframe tbody tr th {\n",
       "        vertical-align: top;\n",
       "    }\n",
       "\n",
       "    .dataframe thead th {\n",
       "        text-align: right;\n",
       "    }\n",
       "</style>\n",
       "<table border=\"1\" class=\"dataframe\">\n",
       "  <thead>\n",
       "    <tr style=\"text-align: right;\">\n",
       "      <th></th>\n",
       "      <th>Label</th>\n",
       "      <th>Tweets</th>\n",
       "    </tr>\n",
       "  </thead>\n",
       "  <tbody>\n",
       "    <tr>\n",
       "      <th>0</th>\n",
       "      <td>0</td>\n",
       "      <td>doğa ağzımıza sıçsa hakkı var</td>\n",
       "    </tr>\n",
       "    <tr>\n",
       "      <th>1</th>\n",
       "      <td>1</td>\n",
       "      <td>anne bir sanatçıdır güzel eseri yavrusudur</td>\n",
       "    </tr>\n",
       "    <tr>\n",
       "      <th>2</th>\n",
       "      <td>0</td>\n",
       "      <td>ibrahimin oğlunu koruyan tanrı ben sokayım</td>\n",
       "    </tr>\n",
       "    <tr>\n",
       "      <th>3</th>\n",
       "      <td>0</td>\n",
       "      <td>köpeğim suratına sıçsın senin namussuz karı</td>\n",
       "    </tr>\n",
       "    <tr>\n",
       "      <th>4</th>\n",
       "      <td>0</td>\n",
       "      <td>ben söğüşledim birazda sen söğüşle</td>\n",
       "    </tr>\n",
       "  </tbody>\n",
       "</table>\n",
       "</div>\n",
       "      <button class=\"colab-df-convert\" onclick=\"convertToInteractive('df-7ca113eb-9987-408d-94b5-637de6a6bf47')\"\n",
       "              title=\"Convert this dataframe to an interactive table.\"\n",
       "              style=\"display:none;\">\n",
       "        \n",
       "  <svg xmlns=\"http://www.w3.org/2000/svg\" height=\"24px\"viewBox=\"0 0 24 24\"\n",
       "       width=\"24px\">\n",
       "    <path d=\"M0 0h24v24H0V0z\" fill=\"none\"/>\n",
       "    <path d=\"M18.56 5.44l.94 2.06.94-2.06 2.06-.94-2.06-.94-.94-2.06-.94 2.06-2.06.94zm-11 1L8.5 8.5l.94-2.06 2.06-.94-2.06-.94L8.5 2.5l-.94 2.06-2.06.94zm10 10l.94 2.06.94-2.06 2.06-.94-2.06-.94-.94-2.06-.94 2.06-2.06.94z\"/><path d=\"M17.41 7.96l-1.37-1.37c-.4-.4-.92-.59-1.43-.59-.52 0-1.04.2-1.43.59L10.3 9.45l-7.72 7.72c-.78.78-.78 2.05 0 2.83L4 21.41c.39.39.9.59 1.41.59.51 0 1.02-.2 1.41-.59l7.78-7.78 2.81-2.81c.8-.78.8-2.07 0-2.86zM5.41 20L4 18.59l7.72-7.72 1.47 1.35L5.41 20z\"/>\n",
       "  </svg>\n",
       "      </button>\n",
       "      \n",
       "  <style>\n",
       "    .colab-df-container {\n",
       "      display:flex;\n",
       "      flex-wrap:wrap;\n",
       "      gap: 12px;\n",
       "    }\n",
       "\n",
       "    .colab-df-convert {\n",
       "      background-color: #E8F0FE;\n",
       "      border: none;\n",
       "      border-radius: 50%;\n",
       "      cursor: pointer;\n",
       "      display: none;\n",
       "      fill: #1967D2;\n",
       "      height: 32px;\n",
       "      padding: 0 0 0 0;\n",
       "      width: 32px;\n",
       "    }\n",
       "\n",
       "    .colab-df-convert:hover {\n",
       "      background-color: #E2EBFA;\n",
       "      box-shadow: 0px 1px 2px rgba(60, 64, 67, 0.3), 0px 1px 3px 1px rgba(60, 64, 67, 0.15);\n",
       "      fill: #174EA6;\n",
       "    }\n",
       "\n",
       "    [theme=dark] .colab-df-convert {\n",
       "      background-color: #3B4455;\n",
       "      fill: #D2E3FC;\n",
       "    }\n",
       "\n",
       "    [theme=dark] .colab-df-convert:hover {\n",
       "      background-color: #434B5C;\n",
       "      box-shadow: 0px 1px 3px 1px rgba(0, 0, 0, 0.15);\n",
       "      filter: drop-shadow(0px 1px 2px rgba(0, 0, 0, 0.3));\n",
       "      fill: #FFFFFF;\n",
       "    }\n",
       "  </style>\n",
       "\n",
       "      <script>\n",
       "        const buttonEl =\n",
       "          document.querySelector('#df-7ca113eb-9987-408d-94b5-637de6a6bf47 button.colab-df-convert');\n",
       "        buttonEl.style.display =\n",
       "          google.colab.kernel.accessAllowed ? 'block' : 'none';\n",
       "\n",
       "        async function convertToInteractive(key) {\n",
       "          const element = document.querySelector('#df-7ca113eb-9987-408d-94b5-637de6a6bf47');\n",
       "          const dataTable =\n",
       "            await google.colab.kernel.invokeFunction('convertToInteractive',\n",
       "                                                     [key], {});\n",
       "          if (!dataTable) return;\n",
       "\n",
       "          const docLinkHtml = 'Like what you see? Visit the ' +\n",
       "            '<a target=\"_blank\" href=https://colab.research.google.com/notebooks/data_table.ipynb>data table notebook</a>'\n",
       "            + ' to learn more about interactive tables.';\n",
       "          element.innerHTML = '';\n",
       "          dataTable['output_type'] = 'display_data';\n",
       "          await google.colab.output.renderOutput(dataTable, element);\n",
       "          const docLink = document.createElement('div');\n",
       "          docLink.innerHTML = docLinkHtml;\n",
       "          element.appendChild(docLink);\n",
       "        }\n",
       "      </script>\n",
       "    </div>\n",
       "  </div>\n",
       "  "
      ],
      "text/plain": [
       "   Label                                        Tweets\n",
       "0      0                doğa ağzımıza sıçsa hakkı var \n",
       "1      1   anne bir sanatçıdır güzel eseri yavrusudur \n",
       "2      0   ibrahimin oğlunu koruyan tanrı ben sokayım \n",
       "3      0  köpeğim suratına sıçsın senin namussuz karı \n",
       "4      0           ben söğüşledim birazda sen söğüşle "
      ]
     },
     "execution_count": 10,
     "metadata": {},
     "output_type": "execute_result"
    }
   ],
   "source": [
    "dataset_train.head()"
   ]
  },
  {
   "cell_type": "code",
   "execution_count": null,
   "metadata": {
    "colab": {
     "base_uri": "https://localhost:8080/",
     "height": 112
    },
    "id": "ax4bwA0kuxcE",
    "outputId": "14287d09-b5b1-45fb-d391-d1f280acd051"
   },
   "outputs": [
    {
     "data": {
      "text/html": [
       "\n",
       "  <div id=\"df-59507399-ce22-4a1b-b69d-a31133277431\">\n",
       "    <div class=\"colab-df-container\">\n",
       "      <div>\n",
       "<style scoped>\n",
       "    .dataframe tbody tr th:only-of-type {\n",
       "        vertical-align: middle;\n",
       "    }\n",
       "\n",
       "    .dataframe tbody tr th {\n",
       "        vertical-align: top;\n",
       "    }\n",
       "\n",
       "    .dataframe thead th {\n",
       "        text-align: right;\n",
       "    }\n",
       "</style>\n",
       "<table border=\"1\" class=\"dataframe\">\n",
       "  <thead>\n",
       "    <tr style=\"text-align: right;\">\n",
       "      <th></th>\n",
       "      <th>Label</th>\n",
       "      <th>Tweets</th>\n",
       "    </tr>\n",
       "  </thead>\n",
       "  <tbody>\n",
       "    <tr>\n",
       "      <th>4049</th>\n",
       "      <td>1</td>\n",
       "      <td>NaN</td>\n",
       "    </tr>\n",
       "    <tr>\n",
       "      <th>6860</th>\n",
       "      <td>1</td>\n",
       "      <td>NaN</td>\n",
       "    </tr>\n",
       "  </tbody>\n",
       "</table>\n",
       "</div>\n",
       "      <button class=\"colab-df-convert\" onclick=\"convertToInteractive('df-59507399-ce22-4a1b-b69d-a31133277431')\"\n",
       "              title=\"Convert this dataframe to an interactive table.\"\n",
       "              style=\"display:none;\">\n",
       "        \n",
       "  <svg xmlns=\"http://www.w3.org/2000/svg\" height=\"24px\"viewBox=\"0 0 24 24\"\n",
       "       width=\"24px\">\n",
       "    <path d=\"M0 0h24v24H0V0z\" fill=\"none\"/>\n",
       "    <path d=\"M18.56 5.44l.94 2.06.94-2.06 2.06-.94-2.06-.94-.94-2.06-.94 2.06-2.06.94zm-11 1L8.5 8.5l.94-2.06 2.06-.94-2.06-.94L8.5 2.5l-.94 2.06-2.06.94zm10 10l.94 2.06.94-2.06 2.06-.94-2.06-.94-.94-2.06-.94 2.06-2.06.94z\"/><path d=\"M17.41 7.96l-1.37-1.37c-.4-.4-.92-.59-1.43-.59-.52 0-1.04.2-1.43.59L10.3 9.45l-7.72 7.72c-.78.78-.78 2.05 0 2.83L4 21.41c.39.39.9.59 1.41.59.51 0 1.02-.2 1.41-.59l7.78-7.78 2.81-2.81c.8-.78.8-2.07 0-2.86zM5.41 20L4 18.59l7.72-7.72 1.47 1.35L5.41 20z\"/>\n",
       "  </svg>\n",
       "      </button>\n",
       "      \n",
       "  <style>\n",
       "    .colab-df-container {\n",
       "      display:flex;\n",
       "      flex-wrap:wrap;\n",
       "      gap: 12px;\n",
       "    }\n",
       "\n",
       "    .colab-df-convert {\n",
       "      background-color: #E8F0FE;\n",
       "      border: none;\n",
       "      border-radius: 50%;\n",
       "      cursor: pointer;\n",
       "      display: none;\n",
       "      fill: #1967D2;\n",
       "      height: 32px;\n",
       "      padding: 0 0 0 0;\n",
       "      width: 32px;\n",
       "    }\n",
       "\n",
       "    .colab-df-convert:hover {\n",
       "      background-color: #E2EBFA;\n",
       "      box-shadow: 0px 1px 2px rgba(60, 64, 67, 0.3), 0px 1px 3px 1px rgba(60, 64, 67, 0.15);\n",
       "      fill: #174EA6;\n",
       "    }\n",
       "\n",
       "    [theme=dark] .colab-df-convert {\n",
       "      background-color: #3B4455;\n",
       "      fill: #D2E3FC;\n",
       "    }\n",
       "\n",
       "    [theme=dark] .colab-df-convert:hover {\n",
       "      background-color: #434B5C;\n",
       "      box-shadow: 0px 1px 3px 1px rgba(0, 0, 0, 0.15);\n",
       "      filter: drop-shadow(0px 1px 2px rgba(0, 0, 0, 0.3));\n",
       "      fill: #FFFFFF;\n",
       "    }\n",
       "  </style>\n",
       "\n",
       "      <script>\n",
       "        const buttonEl =\n",
       "          document.querySelector('#df-59507399-ce22-4a1b-b69d-a31133277431 button.colab-df-convert');\n",
       "        buttonEl.style.display =\n",
       "          google.colab.kernel.accessAllowed ? 'block' : 'none';\n",
       "\n",
       "        async function convertToInteractive(key) {\n",
       "          const element = document.querySelector('#df-59507399-ce22-4a1b-b69d-a31133277431');\n",
       "          const dataTable =\n",
       "            await google.colab.kernel.invokeFunction('convertToInteractive',\n",
       "                                                     [key], {});\n",
       "          if (!dataTable) return;\n",
       "\n",
       "          const docLinkHtml = 'Like what you see? Visit the ' +\n",
       "            '<a target=\"_blank\" href=https://colab.research.google.com/notebooks/data_table.ipynb>data table notebook</a>'\n",
       "            + ' to learn more about interactive tables.';\n",
       "          element.innerHTML = '';\n",
       "          dataTable['output_type'] = 'display_data';\n",
       "          await google.colab.output.renderOutput(dataTable, element);\n",
       "          const docLink = document.createElement('div');\n",
       "          docLink.innerHTML = docLinkHtml;\n",
       "          element.appendChild(docLink);\n",
       "        }\n",
       "      </script>\n",
       "    </div>\n",
       "  </div>\n",
       "  "
      ],
      "text/plain": [
       "      Label Tweets\n",
       "4049      1    NaN\n",
       "6860      1    NaN"
      ]
     },
     "execution_count": 19,
     "metadata": {},
     "output_type": "execute_result"
    }
   ],
   "source": [
    "dataset_train[dataset_train.Tweets.isna()]"
   ]
  },
  {
   "cell_type": "code",
   "execution_count": 9,
   "metadata": {
    "id": "D7dNja4Su6Xr"
   },
   "outputs": [],
   "source": [
    "dataset_train.dropna(inplace=True)\n",
    "dataset_train.reset_index(drop=True, inplace=True)"
   ]
  },
  {
   "cell_type": "code",
   "execution_count": 10,
   "metadata": {
    "id": "9goxdJjKlNLH"
   },
   "outputs": [],
   "source": [
    "def data_columns_split(dataset):\n",
    "    texts = []\n",
    "    labels = []\n",
    "    for i in range(len(dataset)):\n",
    "      texts.append(dataset['Tweets'][i])\n",
    "      labels.append(dataset['Label'][i])\n",
    "\n",
    "    return texts, labels"
   ]
  },
  {
   "cell_type": "code",
   "execution_count": 11,
   "metadata": {
    "id": "R4TiW_LnopF2"
   },
   "outputs": [],
   "source": [
    "train_texts, train_labels = data_columns_split(dataset_train)"
   ]
  },
  {
   "cell_type": "code",
   "execution_count": 12,
   "metadata": {
    "id": "TxLNshG4oy6u"
   },
   "outputs": [],
   "source": [
    "train_texts, val_texts, train_labels, val_labels = train_test_split(train_texts, train_labels, test_size=0.35)"
   ]
  },
  {
   "cell_type": "markdown",
   "metadata": {
    "id": "6v5xIWUWqJnX"
   },
   "source": [
    "### Unigram and Bigrams for each class"
   ]
  },
  {
   "cell_type": "code",
   "execution_count": null,
   "metadata": {
    "id": "ilVISi8kwRyg"
   },
   "outputs": [],
   "source": [
    "def process_text(dataframe, label=1, gram='uni'):\n",
    "  \n",
    "  stop_words=stopwords.words(\"turkish\")  \n",
    "  exclude = set(string.punctuation)\n",
    "\n",
    "  #sentiments based on given label\n",
    "  df_pos=dataframe[dataframe[\"Label\"]==label]\n",
    "\n",
    "  token_list=[]\n",
    "\n",
    "  for i,r in df_pos.iterrows():\n",
    "      text=''.join(ch for ch in df_pos[\"Tweets\"][i] if ch not in exclude and ch != \"’\") #remove punctuations from the text in order not to distort frequencies\n",
    "      tokens=word_tokenize(text)\n",
    "      tokens=[tok.lower() for tok in tokens if tok not in stop_words] #remove stopwords from the text in order not to distort frequencies\n",
    "      token_list.extend(tokens)\n",
    "      \n",
    "  if gram == 'uni':\n",
    "    frequencies=Counter(token_list)\n",
    "  else:\n",
    "    bigrams=list(ngrams(token_list,2))\n",
    "    frequencies=Counter(bigrams)\n",
    "  \n",
    "  frequencies_sorted=sorted(frequencies.items(), key=lambda k: k[1],reverse=True)\n",
    "  top_15=dict(frequencies_sorted[0:15])\n",
    "\n",
    "  return top_15"
   ]
  },
  {
   "cell_type": "code",
   "execution_count": null,
   "metadata": {
    "id": "_fC8qdkCWvjc"
   },
   "outputs": [],
   "source": [
    "def plot_grams(top_15, sentiment='positive'):\n",
    "  plt.rcdefaults()\n",
    "  fig, ax = plt.subplots()\n",
    "\n",
    "  # Example data\n",
    "  ngram = top_15.keys()\n",
    "  y_pos = np.arange(len(ngram))\n",
    "  performance = top_15.values()\n",
    "\n",
    "\n",
    "  ax.barh(y_pos, performance, align='center')\n",
    "  ax.set_yticks(y_pos)\n",
    "  ax.set_yticklabels(ngram)\n",
    "  ax.invert_yaxis()  # labels read top-to-bottom\n",
    "  ax.set_xlabel('Counts')\n",
    "  first_name = \"John\"\n",
    "  sent = 'Positive' if sentiment == 'positive' else 'Negative'\n",
    "  ax.set_title(\"Top-15 Most Common Bigrams in {} Comments\".format(sent))\n",
    "\n",
    "  plt.show()"
   ]
  },
  {
   "cell_type": "markdown",
   "metadata": {
    "id": "X3nxntf4qPiD"
   },
   "source": [
    "#### Positive class - Unigram & Bigram"
   ]
  },
  {
   "cell_type": "code",
   "execution_count": null,
   "metadata": {
    "colab": {
     "base_uri": "https://localhost:8080/",
     "height": 472
    },
    "id": "4bld3rqWqN9v",
    "outputId": "b318ed7f-a44c-4a67-8b0d-e9e46ed8c12a"
   },
   "outputs": [
    {
     "data": {
      "image/png": "[encoded data removed]",
      "text/plain": [
       "<Figure size 640x480 with 1 Axes>"
      ]
     },
     "metadata": {},
     "output_type": "display_data"
    }
   ],
   "source": [
    "plot_grams(process_text(dataset_train))"
   ]
  },
  {
   "cell_type": "code",
   "execution_count": null,
   "metadata": {
    "colab": {
     "base_uri": "https://localhost:8080/",
     "height": 472
    },
    "id": "sRQ2Vh0AZq8j",
    "outputId": "17efe794-42bf-4f00-ba3c-cb62176498f3"
   },
   "outputs": [
    {
     "data": {
      "image/png": "[encoded data removed]",
      "text/plain": [
       "<Figure size 640x480 with 1 Axes>"
      ]
     },
     "metadata": {},
     "output_type": "display_data"
    }
   ],
   "source": [
    "plot_grams(process_text(dataset_train, gram='bi'))"
   ]
  },
  {
   "cell_type": "markdown",
   "metadata": {
    "id": "6J8oUtEQZQ-8"
   },
   "source": [
    "#### Negative class - Unigram & Bigram"
   ]
  },
  {
   "cell_type": "code",
   "execution_count": null,
   "metadata": {
    "colab": {
     "base_uri": "https://localhost:8080/",
     "height": 472
    },
    "id": "S5qYjUPduFwD",
    "outputId": "fbd35afd-3d64-45f8-d025-d927501c7b1e"
   },
   "outputs": [
    {
     "data": {
      "image/png": "[encoded data removed]",
      "text/plain": [
       "<Figure size 640x480 with 1 Axes>"
      ]
     },
     "metadata": {},
     "output_type": "display_data"
    }
   ],
   "source": [
    "plot_grams(process_text(dataset_train, label=0), sentiment='negative')"
   ]
  },
  {
   "cell_type": "code",
   "execution_count": null,
   "metadata": {
    "colab": {
     "base_uri": "https://localhost:8080/",
     "height": 472
    },
    "id": "kwdo3BbJZclK",
    "outputId": "2adea98f-3c53-4db1-8e3b-c0c9add659ad"
   },
   "outputs": [
    {
     "data": {
      "image/png": "[encoded data removed]",
      "text/plain": [
       "<Figure size 640x480 with 1 Axes>"
      ]
     },
     "metadata": {},
     "output_type": "display_data"
    }
   ],
   "source": [
    "plot_grams(process_text(dataset_train, label=0, gram='bi'), sentiment='negative')"
   ]
  },
  {
   "cell_type": "markdown",
   "metadata": {
    "id": "ojF0aPjVbiaP"
   },
   "source": [
    "### DistilBERT Model fine-tuning "
   ]
  },
  {
   "cell_type": "code",
   "execution_count": 13,
   "metadata": {
    "colab": {
     "base_uri": "https://localhost:8080/",
     "height": 113,
     "referenced_widgets": [
      "6fd9301ab2084e6d9ec3002b48c8590b",
      "91a686c7eee041a090e2bc49d113e0f8",
      "b5148ce2c9d54f8ca3368d55ee0c13d5",
      "3a2063713c9946a4a3f1556fe8fee3fc",
      "daa4502802f94ead822826c9125139d0",
      "cac87be541fe44328de8a73bb890710b",
      "18aebfcffc38484584af56bac15f2057",
      "6eaa33edc2a641e4b3ef7c89d44a9979",
      "39942454ffc74fcf917c5359db0275c9",
      "5e2a5cf02f5747eb88526af37011d618",
      "bff8457eb5bf43348e29243bf177a9c6",
      "5690342333b24896be0a58b42c27ed09",
      "8401f324429b4b929c849b94918ff9d9",
      "8e201fd65f394e3184e9c29eec3509b3",
      "1622079a1bf54151970ac7de5d939d39",
      "d5fffeabe9ab45ae876c84574e913f46",
      "a89b5156b3b846ca92095c7ea3d88156",
      "812e4ff7c92e4c6faca88408b88d55f9",
      "a3108181097d4fa9b7a16ed910e3b297",
      "ae45149ff4b04754959c4f31f3eebed2",
      "b7247f1c93cc464e9e5c0e161bd686a0",
      "91cb707bbca84376a625f3da9394d617",
      "cad1c35c8600486c89fb89797761963f",
      "6cefac00779048538d1f0bc93657d9ba",
      "b348c6fbeb0549aaabf4bc2692ffe2b6",
      "aa9e33fbe73241c187adc9d22b3cd206",
      "0c525162571d48a99f66a0a18a139865",
      "9b8ee2137b9a49deae3b0037bb6d2576",
      "4093b5d380de44cd946ada825133fc7d",
      "eb5098d287a5485b9f9992f38a478c1e",
      "bf2d7208c2d34912a9093fd931c35813",
      "17582c4225bf4ee39acf892a9231390e",
      "5a501f8d7279493a8df49f985d37fd75"
     ]
    },
    "id": "0p5O21RTbt4k",
    "outputId": "26d8ec4a-1444-4236-efd2-69ce018632a7"
   },
   "outputs": [],
   "source": [
    "from transformers import AutoModel, AutoTokenizer\n",
    "\n",
    "# Load pretrained model/tokenizer\n",
    "tokenizer = AutoTokenizer.from_pretrained(\"dbmdz/distilbert-base-turkish-cased\")"
   ]
  },
  {
   "cell_type": "code",
   "execution_count": null,
   "metadata": {
    "id": "kfIrl4FieeeH"
   },
   "outputs": [],
   "source": [
    "def plot_sentence_embeddings_length(text_list, tokenizer):\n",
    "    tokenized_texts = list(map(lambda t: tokenizer.tokenize(t), text_list))\n",
    "    tokenized_texts_len = list(map(lambda t: len(t), tokenized_texts))\n",
    "    fig, ax = plt.subplots(figsize=(8, 5));\n",
    "    ax.hist(tokenized_texts_len, bins=40);\n",
    "    ax.set_xlabel(\"Length of Comment Embeddings\");\n",
    "    ax.set_ylabel(\"Number of Tweets\");\n",
    "    return"
   ]
  },
  {
   "cell_type": "code",
   "execution_count": null,
   "metadata": {
    "colab": {
     "base_uri": "https://localhost:8080/",
     "height": 465
    },
    "id": "FqXDQ8cbejiq",
    "outputId": "4f03ec5a-09a8-489f-96ab-3815c208373c"
   },
   "outputs": [
    {
     "data": {
      "image/png": "[encoded data removed]",
      "text/plain": [
       "<Figure size 800x500 with 1 Axes>"
      ]
     },
     "metadata": {},
     "output_type": "display_data"
    }
   ],
   "source": [
    "plot_sentence_embeddings_length(train_texts, tokenizer)"
   ]
  },
  {
   "cell_type": "code",
   "execution_count": 14,
   "metadata": {
    "colab": {
     "base_uri": "https://localhost:8080/"
    },
    "id": "Vu9t3SA6eXI5",
    "outputId": "3d925df1-1ba4-47a0-f305-b063adedbab7"
   },
   "outputs": [
    {
     "name": "stderr",
     "output_type": "stream",
     "text": [
      "/Users/yavuzsunor/anaconda3/lib/python3.7/site-packages/transformers/tokenization_utils_base.py:2360: FutureWarning: The `pad_to_max_length` argument is deprecated and will be removed in a future version, use `padding=True` or `padding='longest'` to pad to the longest sequence in the batch, or use `padding='max_length'` to pad to a max length. In this case, you can give a specific length with `max_length` (e.g. `max_length=45`) or leave max_length to None to pad to the maximal input size of the model (e.g. 512 for Bert).\n",
      "  FutureWarning,\n"
     ]
    }
   ],
   "source": [
    "train_encodings = tokenizer.batch_encode_plus(train_texts, max_length=128, add_special_tokens=True, return_attention_mask=True, pad_to_max_length=True, truncation=True)\n",
    "val_encodings = tokenizer.batch_encode_plus(val_texts, max_length=128, add_special_tokens=True, return_attention_mask=True, pad_to_max_length=True, truncation=True)"
   ]
  },
  {
   "cell_type": "code",
   "execution_count": 36,
   "metadata": {
    "colab": {
     "base_uri": "https://localhost:8080/"
    },
    "id": "Wgx9V_7Ospx5",
    "outputId": "ef348467-27b6-44ae-b7b7-6b59e17d615e"
   },
   "outputs": [
    {
     "name": "stdout",
     "output_type": "stream",
     "text": [
      "[2, 9485, 26450, 2927, 8058, 9315, 2073, 3600, 10436, 3, 0, 0, 0]\n",
      "[1, 1, 1, 1, 1, 1, 1, 1, 1, 1, 0, 0, 0]\n"
     ]
    }
   ],
   "source": [
    "print(train_encodings['input_ids'][0][:13])\n",
    "print(train_encodings['attention_mask'][0][:13])"
   ]
  },
  {
   "cell_type": "code",
   "execution_count": 37,
   "metadata": {
    "colab": {
     "base_uri": "https://localhost:8080/",
     "height": 104
    },
    "id": "UqNXxJJlcYXQ",
    "outputId": "7e750e93-57a5-47bd-f010-bb56c2124c4c"
   },
   "outputs": [
    {
     "data": {
      "application/vnd.google.colaboratory.intrinsic+json": {
       "type": "string"
      },
      "text/plain": [
       "'[CLS] orospu çocuğu çıkıp kameraya ağlamayı biliyor [SEP] [PAD] [PAD] [PAD] [PAD] [PAD] [PAD] [PAD] [PAD] [PAD] [PAD] [PAD] [PAD] [PAD] [PAD] [PAD] [PAD] [PAD] [PAD] [PAD] [PAD] [PAD] [PAD] [PAD] [PAD] [PAD] [PAD] [PAD] [PAD] [PAD] [PAD] [PAD] [PAD] [PAD] [PAD] [PAD] [PAD] [PAD] [PAD] [PAD] [PAD] [PAD] [PAD] [PAD] [PAD] [PAD] [PAD] [PAD] [PAD] [PAD] [PAD] [PAD] [PAD] [PAD] [PAD] [PAD] [PAD] [PAD] [PAD] [PAD] [PAD] [PAD] [PAD] [PAD] [PAD] [PAD] [PAD] [PAD] [PAD] [PAD] [PAD] [PAD] [PAD] [PAD] [PAD] [PAD] [PAD] [PAD] [PAD] [PAD] [PAD] [PAD] [PAD] [PAD] [PAD] [PAD] [PAD] [PAD] [PAD] [PAD] [PAD] [PAD] [PAD] [PAD] [PAD] [PAD] [PAD] [PAD] [PAD] [PAD] [PAD] [PAD] [PAD] [PAD] [PAD] [PAD] [PAD] [PAD] [PAD] [PAD] [PAD] [PAD] [PAD] [PAD] [PAD] [PAD] [PAD] [PAD] [PAD]'"
      ]
     },
     "execution_count": 37,
     "metadata": {},
     "output_type": "execute_result"
    }
   ],
   "source": [
    "tokenizer.decode(token_ids = train_encodings['input_ids'][1])"
   ]
  },
  {
   "cell_type": "code",
   "execution_count": 15,
   "metadata": {
    "id": "oi2amzJicZhf"
   },
   "outputs": [],
   "source": [
    "class MakeTensor(torch.utils.data.Dataset):\n",
    "    def __init__(self, encodings, labels):\n",
    "        self.encodings = encodings\n",
    "        self.labels = labels\n",
    "\n",
    "    def __getitem__(self, idx):\n",
    "        item = {key: torch.tensor(val[idx]) for key, val in self.encodings.items()}\n",
    "        item['labels'] = torch.tensor(self.labels[idx])\n",
    "        return item\n",
    "\n",
    "    def __len__(self):\n",
    "        return len(self.labels)"
   ]
  },
  {
   "cell_type": "code",
   "execution_count": 16,
   "metadata": {
    "id": "7dIqik3OcaI2"
   },
   "outputs": [],
   "source": [
    "train_dataset = MakeTensor(train_encodings, train_labels)\n",
    "val_dataset = MakeTensor(val_encodings, val_labels)\n",
    "# test_dataset = MakeTensor(test_encodings, test_labels)"
   ]
  },
  {
   "cell_type": "code",
   "execution_count": 29,
   "metadata": {},
   "outputs": [
    {
     "data": {
      "text/plain": [
       "7226"
      ]
     },
     "execution_count": 29,
     "metadata": {},
     "output_type": "execute_result"
    }
   ],
   "source": [
    "len(train_dataset.encodings['input_ids'])"
   ]
  },
  {
   "cell_type": "code",
   "execution_count": 34,
   "metadata": {},
   "outputs": [
    {
     "data": {
      "text/plain": [
       "(7226, 128)"
      ]
     },
     "execution_count": 34,
     "metadata": {},
     "output_type": "execute_result"
    }
   ],
   "source": [
    "np.array(train_dataset.encodings['input_ids']).shape"
   ]
  },
  {
   "cell_type": "code",
   "execution_count": 30,
   "metadata": {},
   "outputs": [
    {
     "data": {
      "text/plain": [
       "7226"
      ]
     },
     "execution_count": 30,
     "metadata": {},
     "output_type": "execute_result"
    }
   ],
   "source": [
    "len(train_dataset.encodings['attention_mask'])"
   ]
  },
  {
   "cell_type": "code",
   "execution_count": 33,
   "metadata": {},
   "outputs": [
    {
     "data": {
      "text/plain": [
       "7226"
      ]
     },
     "execution_count": 33,
     "metadata": {},
     "output_type": "execute_result"
    }
   ],
   "source": [
    "len(train_dataset.labels)"
   ]
  },
  {
   "cell_type": "code",
   "execution_count": 19,
   "metadata": {
    "id": "_Dkxm6jGjtkL"
   },
   "outputs": [],
   "source": [
    "from torch.utils.data import DataLoader"
   ]
  },
  {
   "cell_type": "code",
   "execution_count": 20,
   "metadata": {
    "id": "fSHPU_gbjwwi"
   },
   "outputs": [],
   "source": [
    "train_loader = DataLoader(train_dataset, batch_size=256, shuffle=False)\n",
    "val_loader = DataLoader(val_dataset, batch_size=256, shuffle=False)\n",
    "# test_loader = DataLoader(test_dataset, batch_size=256, shuffle=False)"
   ]
  },
  {
   "cell_type": "markdown",
   "metadata": {
    "id": "QxUfeA-Mx1Ek"
   },
   "source": [
    "#### Load the DistilBERT Turkish language model"
   ]
  },
  {
   "cell_type": "code",
   "execution_count": 21,
   "metadata": {
    "colab": {
     "base_uri": "https://localhost:8080/",
     "height": 121,
     "referenced_widgets": [
      "6b15c711487e4c879b7baaeb98fa54e5",
      "974f8b24c71a40a9b76b209f0a824530",
      "ab06ecd6e855436d8a3e76d4de2e179d",
      "da438f2ca7334ad4be98d12a81edc787",
      "66305be01b63435c861aafe31240c392",
      "74d7708f93b44b3c9087ae8b9111edba",
      "7bdc1bc8ab354fd88866c47eda2bcf45",
      "42e91f093d964d59935ed9312c5f73eb",
      "642edafef88a4b67bf6867830312fe2d",
      "97ee7ad9c74c4265bb0d40e3f142ffd2",
      "5906798bff0845178f5f08c9408f8c44"
     ]
    },
    "id": "XtsWxfA3kmuf",
    "outputId": "4e668320-efc5-4ddc-ceb9-de074c76c1a5"
   },
   "outputs": [
    {
     "data": {
      "application/vnd.jupyter.widget-view+json": {
       "model_id": "6b15c711487e4c879b7baaeb98fa54e5",
       "version_major": 2,
       "version_minor": 0
      },
      "text/plain": [
       "Downloading pytorch_model.bin:   0%|          | 0.00/273M [00:00<?, ?B/s]"
      ]
     },
     "metadata": {},
     "output_type": "display_data"
    },
    {
     "name": "stderr",
     "output_type": "stream",
     "text": [
      "Some weights of the model checkpoint at dbmdz/distilbert-base-turkish-cased were not used when initializing DistilBertModel: ['vocab_layer_norm.weight', 'vocab_projector.bias', 'vocab_layer_norm.bias', 'vocab_transform.weight', 'vocab_transform.bias', 'vocab_projector.weight']\n",
      "- This IS expected if you are initializing DistilBertModel from the checkpoint of a model trained on another task or with another architecture (e.g. initializing a BertForSequenceClassification model from a BertForPreTraining model).\n",
      "- This IS NOT expected if you are initializing DistilBertModel from the checkpoint of a model that you expect to be exactly identical (initializing a BertForSequenceClassification model from a BertForSequenceClassification model).\n"
     ]
    }
   ],
   "source": [
    "model = AutoModel.from_pretrained(\"dbmdz/distilbert-base-turkish-cased\").to(\"cuda\")"
   ]
  },
  {
   "cell_type": "code",
   "execution_count": 22,
   "metadata": {
    "id": "Rjzm4ZsKjxhG"
   },
   "outputs": [],
   "source": [
    "def get_features(data_loader):\n",
    "  for i, batch in enumerate(data_loader):\n",
    "    with torch.no_grad():\n",
    "      input_ids = batch['input_ids'].to('cuda')\n",
    "      attention_mask = batch['attention_mask'].to('cuda')          \n",
    "      last_hidden_states = model(input_ids, attention_mask)\n",
    "      cls_tokens = last_hidden_states[0][:,0,:].cpu().numpy()\n",
    "      if i == 0:\n",
    "        features = cls_tokens\n",
    "      else:\n",
    "        features = np.append(features, cls_tokens, axis=0)\n",
    "\n",
    "  return features"
   ]
  },
  {
   "cell_type": "code",
   "execution_count": 43,
   "metadata": {
    "colab": {
     "base_uri": "https://localhost:8080/"
    },
    "id": "8LboG-bFL6Qa",
    "outputId": "2d5ef0f9-bb90-4e90-a906-3e589e5e5f01"
   },
   "outputs": [
    {
     "name": "stdout",
     "output_type": "stream",
     "text": [
      "torch.Size([256, 128, 768])\n",
      "<class 'torch.Tensor'>\n",
      "torch.Size([256, 128])\n",
      "torch.Size([256, 128])\n"
     ]
    },
    {
     "data": {
      "text/plain": [
       "tensor([[    2, 20104,  1009,  ...,     0,     0,     0],\n",
       "        [    2, 31662,  6331,  ...,     0,     0,     0],\n",
       "        [    2,  5165,  9094,  ...,     0,     0,     0],\n",
       "        ...,\n",
       "        [    2,  2883,  1996,  ...,     0,     0,     0],\n",
       "        [    2, 11125, 12960,  ...,     0,     0,     0],\n",
       "        [    2, 15439,  9031,  ...,     0,     0,     0]], device='cuda:0')"
      ]
     },
     "execution_count": 43,
     "metadata": {},
     "output_type": "execute_result"
    }
   ],
   "source": [
    "# Check the type and structure of the batches\n",
    "for i, batch in enumerate(train_loader):\n",
    "    with torch.no_grad():\n",
    "      input_ids = batch['input_ids'].to('cuda')\n",
    "      attention_mask = batch['attention_mask'].to('cuda')\n",
    "      foo_hidden_state = model(input_ids, attention_mask)\n",
    "      print(foo_hidden_state[0].shape)\n",
    "    break\n",
    "print(type(input_ids))\n",
    "print(input_ids.shape)\n",
    "print(attention_mask.shape)\n",
    "input_ids"
   ]
  },
  {
   "cell_type": "markdown",
   "metadata": {
    "id": "ZJRFZanVkWRH"
   },
   "source": [
    "#### Get the embeddings for each set"
   ]
  },
  {
   "cell_type": "code",
   "execution_count": 54,
   "metadata": {
    "id": "7dKIdwZCkO49"
   },
   "outputs": [],
   "source": [
    "features_tr = get_features(train_loader)\n",
    "features_vl = get_features(val_loader)\n",
    "# features_ts = get_features(test_loader)"
   ]
  },
  {
   "cell_type": "code",
   "execution_count": 55,
   "metadata": {
    "colab": {
     "base_uri": "https://localhost:8080/"
    },
    "id": "Z7BczEKmkSkV",
    "outputId": "21aa736e-2f8f-4d22-f97e-e3d00e65faad"
   },
   "outputs": [
    {
     "name": "stdout",
     "output_type": "stream",
     "text": [
      "(7226, 768)\n",
      "(3891, 768)\n"
     ]
    }
   ],
   "source": [
    "# shape of the final feature sets\n",
    "print(features_tr.shape)\n",
    "print(features_vl.shape)\n",
    "# print(features_ts.shape)"
   ]
  },
  {
   "cell_type": "markdown",
   "metadata": {
    "id": "AUi2_d9um0VH"
   },
   "source": [
    "### Train benchmark models using the embeddings "
   ]
  },
  {
   "cell_type": "code",
   "execution_count": 56,
   "metadata": {
    "colab": {
     "base_uri": "https://localhost:8080/"
    },
    "id": "laDGDgJMm-Vw",
    "outputId": "806c5b16-a3db-421e-97b6-56158c3408f8"
   },
   "outputs": [
    {
     "name": "stdout",
     "output_type": "stream",
     "text": [
      "train score: 0.8180182673678383\n",
      "validation score: 0.8057054741711642\n"
     ]
    },
    {
     "name": "stderr",
     "output_type": "stream",
     "text": [
      "/usr/local/lib/python3.10/dist-packages/sklearn/linear_model/_logistic.py:458: ConvergenceWarning: lbfgs failed to converge (status=1):\n",
      "STOP: TOTAL NO. of ITERATIONS REACHED LIMIT.\n",
      "\n",
      "Increase the number of iterations (max_iter) or scale the data as shown in:\n",
      "    https://scikit-learn.org/stable/modules/preprocessing.html\n",
      "Please also refer to the documentation for alternative solver options:\n",
      "    https://scikit-learn.org/stable/modules/linear_model.html#logistic-regression\n",
      "  n_iter_i = _check_optimize_result(\n"
     ]
    }
   ],
   "source": [
    "#logistic regression\n",
    "from sklearn.linear_model import LogisticRegression\n",
    "lr_clf = LogisticRegression()\n",
    "lr_clf.fit(features_tr, train_labels)\n",
    "print('train score:',lr_clf.score(features_tr, train_labels))\n",
    "print('validation score:',lr_clf.score(features_vl, val_labels))\n",
    "# print('test score:',lr_clf.score(features_ts, test_labels))"
   ]
  },
  {
   "cell_type": "code",
   "execution_count": null,
   "metadata": {
    "colab": {
     "base_uri": "https://localhost:8080/"
    },
    "id": "QpkrQ4HtnVmj",
    "outputId": "52ff29d8-c347-4599-a733-8d21d342557e"
   },
   "outputs": [
    {
     "name": "stdout",
     "output_type": "stream",
     "text": [
      "train score: 0.5254636036534736\n",
      "validation score: 0.5242868157286045\n"
     ]
    }
   ],
   "source": [
    "#naive bayes\n",
    "from sklearn.naive_bayes import GaussianNB\n",
    "gnb = GaussianNB()\n",
    "gnb.fit(features_tr, train_labels)\n",
    "print('train score:',gnb.score(features_tr, train_labels))\n",
    "print('validation score:',gnb.score(features_vl, val_labels))\n",
    "# print('test score:',gnb.score(features_ts, test_labels))"
   ]
  },
  {
   "cell_type": "code",
   "execution_count": null,
   "metadata": {
    "id": "XSRGe71GnfpX"
   },
   "outputs": [],
   "source": [
    "import tensorflow as tf\n",
    "\n",
    "# import tensorflow_hub as hub\n",
    "# from tensorflow import keras\n",
    "from tensorflow.keras.layers import Input,concatenate,Dense\n",
    "from tensorflow.keras.models import Model\n",
    "from tensorflow.keras.optimizers import Adam\n",
    "\n",
    "input1 = Input(shape=(features_tr.shape[1],))\n",
    "dense1 = Dense(128,activation='relu')(input1)\n",
    "dense2 = Dense(1,activation='sigmoid')(dense1)\n",
    "tfmodel = Model(inputs=input1,outputs=dense2)"
   ]
  },
  {
   "cell_type": "code",
   "execution_count": null,
   "metadata": {
    "colab": {
     "base_uri": "https://localhost:8080/",
     "height": 410
    },
    "id": "cuRX45ptnlK5",
    "outputId": "1e98d289-c519-48e3-860b-54e2a785916f"
   },
   "outputs": [
    {
     "data": {
      "image/png": "[encoded data removed]",
      "text/plain": [
       "<IPython.core.display.Image object>"
      ]
     },
     "execution_count": 84,
     "metadata": {},
     "output_type": "execute_result"
    }
   ],
   "source": [
    "tf.keras.utils.plot_model(tfmodel, show_shapes=True, dpi=128)"
   ]
  },
  {
   "cell_type": "code",
   "execution_count": null,
   "metadata": {
    "colab": {
     "base_uri": "https://localhost:8080/"
    },
    "id": "e8UitymQoz0c",
    "outputId": "2b4d0773-be2f-422c-9414-40d9b13a6118"
   },
   "outputs": [
    {
     "name": "stdout",
     "output_type": "stream",
     "text": [
      "Epoch 1/10\n",
      "226/226 [==============================] - 4s 10ms/step - loss: 0.5877 - accuracy: 0.6911 - val_loss: 0.5655 - val_accuracy: 0.7325\n",
      "Epoch 2/10\n",
      "226/226 [==============================] - 3s 11ms/step - loss: 0.5568 - accuracy: 0.7318 - val_loss: 0.5619 - val_accuracy: 0.7371\n",
      "Epoch 3/10\n",
      "226/226 [==============================] - 2s 10ms/step - loss: 0.5549 - accuracy: 0.7333 - val_loss: 0.5608 - val_accuracy: 0.7332\n"
     ]
    }
   ],
   "source": [
    "loss = tf.keras.losses.BinaryCrossentropy (from_logits=False)\n",
    "\n",
    "lr_schedule = tf.keras.optimizers.schedules.ExponentialDecay(\n",
    "    initial_learning_rate=1e-3,\n",
    "    decay_steps=1000,\n",
    "    decay_rate=1e-3/32)\n",
    "optimizer = tf.keras.optimizers.Adam(learning_rate=lr_schedule)\n",
    "tfmodel.compile(optimizer=optimizer, loss=[loss, loss],metrics=[\"accuracy\"])\n",
    "\n",
    "checkpoint = tf.keras.callbacks.ModelCheckpoint('model.h5', monitor='val_accuracy', save_best_only=True)\n",
    "earlystopping = tf.keras.callbacks.EarlyStopping(monitor='val_accuracy')\n",
    "\n",
    "fine_history = tfmodel.fit(features_tr, np.array(train_labels), validation_data=(features_vl, np.array(val_labels)),\n",
    "                          epochs=10, callbacks=[checkpoint, earlystopping],batch_size=32,verbose=1)"
   ]
  },
  {
   "cell_type": "markdown",
   "metadata": {
    "id": "WU91i3mcqDby"
   },
   "source": [
    "### Inference to predict tweet samples"
   ]
  },
  {
   "cell_type": "markdown",
   "metadata": {
    "id": "Ec5-mHNcYXtG"
   },
   "source": [
    "#### Clean up the tweets"
   ]
  },
  {
   "cell_type": "code",
   "execution_count": 88,
   "metadata": {
    "colab": {
     "base_uri": "https://localhost:8080/"
    },
    "id": "G7rPFVhxb9OA",
    "outputId": "996c6c55-9099-4426-cd09-2add4753d9b6"
   },
   "outputs": [
    {
     "name": "stderr",
     "output_type": "stream",
     "text": [
      "INFO:zemberek.morphology.turkish_morphology:TurkishMorphology instance initialized in 11.705437898635864\n"
     ]
    },
    {
     "name": "stdout",
     "output_type": "stream",
     "text": [
      "2023-05-10 21:20:29,277 - zemberek.morphology.turkish_morphology - INFO\n",
      "Msg: TurkishMorphology instance initialized in 11.705437898635864\n",
      "\n"
     ]
    }
   ],
   "source": [
    "import re\n",
    "from zemberek import (TurkishMorphology,\n",
    "                      TurkishSentenceNormalizer,\n",
    "                      TurkishSpellChecker,\n",
    "                      )\n",
    "morphology = TurkishMorphology.create_with_defaults()\n",
    "normalizer = TurkishSentenceNormalizer(morphology)"
   ]
  },
  {
   "cell_type": "code",
   "execution_count": 98,
   "metadata": {
    "id": "VEL2wYcZicb8"
   },
   "outputs": [],
   "source": [
    "emoji_pattern = re.compile(pattern = \"[\"\n",
    "        u\"\\U0001F600-\\U0001F64F\"  # emoticons\n",
    "        u\"\\U0001F300-\\U0001F5FF\"  # symbols & pictographs\n",
    "        u\"\\U0001F680-\\U0001F6FF\"  # transport & map symbols\n",
    "        u\"\\U0001F1E0-\\U0001F1FF\"  # flags (iOS)\n",
    "        \"]+\", flags = re.UNICODE)\n",
    "\n",
    "def clean_tweet(tweet):\n",
    "    if type(tweet) == np.float:\n",
    "        return \"\"\n",
    "    temp = re.sub(\"'\", \"\", tweet) # to avoid removing contractions in english\n",
    "    temp = re.sub(\"@[A-Za-z0-9iığüşöç]+\",\"\", temp)\n",
    "    temp = re.sub(\"#[A-Za-z0-9iığüşöç]+\",\"\", temp)\n",
    "    temp = re.sub(r'http\\S+', '', temp)\n",
    "    temp = re.sub('[()!?]', ' ', temp)\n",
    "    temp = re.sub('\\[.*?\\]',' ', temp)\n",
    "    temp = emoji_pattern.sub(r'',temp) \n",
    "#     temp = re.sub(\"[^a-z0-9İığüşöç]\",\" \", temp)\n",
    "    temp = temp.split()\n",
    "#     temp = [w for w in temp if not w in stopwords]\n",
    "    temp = \" \".join(word for word in temp)\n",
    "    return temp"
   ]
  },
  {
   "cell_type": "code",
   "execution_count": 100,
   "metadata": {
    "id": "Huar6e2OYU9w"
   },
   "outputs": [],
   "source": [
    "raw_tweets = [\n",
    "    'Özgür ve temiz bir turkiye icin 🇹🇷\\n#SanaSoz \\n#SanaSozBaharlarGelecek \\n#cezevindenseskaydi \\n#bizdendesanasoz \\n#kilicdaroglu \\n#GenelAf \\n#infazduezenlemesi \\n#ADALET \\n#af \\n#MilletTarihYazacak \\n#Milletİttifakı https://t.co/9hhKFNftGs',\n",
    "    'İşte bu! Türkiye’me yeni bir nefes #kılıçdaroğlu https://t.co/APxXlsvV4l',\n",
    "    'MüslümanızElhamdürillah\\nkalkıp da terörisİTlerin desteklediği yalamalara OY verirmiyiz\\nkatiLLErin ittifakçılarına OY verirmiyiz\\nİnsanız Biz,beynimiz var Allah akılfikir ihsan eylemiş\\nanguSdeğilik\\nKuranıkerim yakan bebek katillerine OY istiyor kasetci #Kılıçdaroğlu  ve adaylarda👇 https://t.co/n5hAsxKRqb',\n",
    "    'Şimdi #HaberGlobal; İçişleri bakanı #Soylu, \\n-#Demirtaş\\'ın #PKK\\'ya \"silah bıraktırma\" çıkışı örgüte nefeslenme numarasıdır, diyor.\\nBu doğru değil..\\nPKK ilk defa #Sevr\\'deki bölünme projesi\\'ni #Kılıçdaroğlu ve #Milletittifakı yapılanmasıyla güçlü olrk yakalamıştır, buna oynuyor https://t.co/ppiazSatHI',\n",
    "    'İhanetin arkasında #emperyalizm ile işbirliği yapan #Türksolu var.\\n-09 temmuz 1934 1.Kürdoloji kongresi\"\\n-1955 Moskova Komünist yazarlar kongresi\\n-1978 Lice, Fis köyü #PKK\\'nın kuruluşu.\\nBu iğrenç sol, #Kılıçdaroğlu ile harekete geçti.. https://t.co/feD6TwpwiF',\n",
    "    'Ne diyor #Kılıçdaroğlu; \"#Kürtkimliği\\'ni meclise kabul ettireceğim, #yerelyönetimler yasasını çıkaracağım\". Bu sinsi bir Sevr çıkışıdır\\n#Sevr\\'i imzlayanlar \"vatan haini\" ilan edilmiştir.\\nBu ihaneti #Atatürk ve arkadaşları \"Kurtuluş savaşı\" sonrası #Lozan\\'da yırtıp atmışlardır. https://t.co/JJJWQ2M8kW',\n",
    "    'Kılıçdaroğlu Bu Sefer Çok Güçlü. #kılıçdaroğlu #chp https://t.co/JgSoLgI1da @YouTube aracılığıyla',\n",
    "    \"@__KESAFET64__ #Kılıçdaroğlu’na oy yok👎🏻\",\n",
    "    '#MuhammetYakut #Tether\\n#kilicdaroglu #ibbguvenligizambekliyor %4 zam %300 enflasyon bu gidiş nereye',\n",
    "    \"Kılıçdaroğlu 'Alevi' notuyla paylaştığı videoda ilk kez oy kullanacak gençlere seslendi \\nhttps://t.co/nFj6WBQhxT \\n#kılıçdaroğlu #alevi https://t.co/l63u311gYD\",\n",
    "    'Optimar, İlk kez oy kullanacak gençlerin nabzının tutulduğu anketinin sonuçlarını yayınladı:   📷 % 51,2 Erdoğan,  📷 % 39,2 Kılıçdaroğlu   📷 % 7,4 Muharrem İnce  📷 % 1,1 Sinan Oğan  \\n\\n#anket #optimar #seçim2023 #erdoğan #kılıçdaroğlu #ince #oğan https://t.co/NE2ORt22E4',\n",
    "    'Optimar, İlk kez oy kullanacak gençlerin nabzının tutulduğu anketinin sonuçlarını yayınladı:  \\n📷 % 51,2 Erdoğan, \\n📷 % 39,2 Kılıçdaroğlu  \\n📷 % 7,4 Muharrem İnce \\n📷 % 1,1 Sinan Oğan\\n\\n#anket #optimar #seçim2023 #erdoğan #kılıçdaroğlu #ince #oğan https://t.co/vzMPbnh3rT'\n",
    "]"
   ]
  },
  {
   "cell_type": "code",
   "execution_count": 102,
   "metadata": {
    "colab": {
     "base_uri": "https://localhost:8080/"
    },
    "id": "Ttyyw1sUaFEp",
    "outputId": "55e984f9-5589-43cf-d19c-5da00cf7fb63"
   },
   "outputs": [
    {
     "name": "stderr",
     "output_type": "stream",
     "text": [
      "<ipython-input-98-303cb65ce918>:9: DeprecationWarning: `np.float` is a deprecated alias for the builtin `float`. To silence this warning, use `float` by itself. Doing this will not modify any behavior and is safe. If you specifically wanted the numpy scalar type, use `np.float64` here.\n",
      "Deprecated in NumPy 1.20; for more details and guidance: https://numpy.org/devdocs/release/1.20.0-notes.html#deprecations\n",
      "  if type(tweet) == np.float:\n"
     ]
    },
    {
     "data": {
      "text/plain": [
       "['özgür ve temiz bir türkiye için ittifakı',\n",
       " 'işte bu türkiyeme yeni bir nefes',\n",
       " 'müslümanizelhamdürillah kalkıp da teröristlerin desteklediği yalamalara oy verir miyiz katillerin ittifakçılarına oy verir miyiz insanız biz , beynimiz var allah akılfikir ihsan eylemiş angusdeğilik kuranıkerim yakan bebek katillerine oy istiyor kasetçi ve adaylarda',\n",
       " 'şimdi ; içişleri bakanı , - \" silah bıraktırma \" çıkışı örgüte nefeslenme numarasıdır , diyor . bu doğru değil . . pkk ilk defa bölünme projesini ve yapılanmasıyla güçlü olarak yakalamıştır , buna oynuyor',\n",
       " 'ihanetin arkasında ile işbirliği yapan var . -09 temmuz 1934 1. kürdoloji kongresi \" -1955 moskova komünist yazarlar kongresi -1978 lice , fiş köyü kuruluşu . bu iğrenç sol , ile harekete geçti . .',\n",
       " 'ne diyor ; \" meclise kabul ettireceğim , yasasını çıkaracağım \" . bu sinsi bir sevr çıkısıdır imzalayanlar \" vatan haini \" ilan edilmiştir . bu ihaneti ve arkadaşları \" kurtuluş savaşı \" sonrası yırtıp atmışlardır .',\n",
       " 'kılıçdaroğlu bu sefer çok güçlü . aracılığıyla',\n",
       " '@__kesafet64__ ’ na oy yok',\n",
       " '%4 zam %300 enflasyon bu gidiş nereye',\n",
       " 'kılıçdaroğlu alevi notuyla paylaştığı videoda ilk kez oy kullanacak gençlere seslendi',\n",
       " 'optimal , ilk kez oy kullanacak gençlerin nabzının tutulduğu anketinin sonuçlarını yayınladı : % 51,2 erdoğan , % 39,2 kılıçdaroğlu % 7,4 muharrem ince % 1,1 sinan oğan',\n",
       " 'optimal , ilk kez oy kullanacak gençlerin nabzının tutulduğu anketinin sonuçlarını yayınladı : % 51,2 erdoğan , % 39,2 kılıçdaroğlu % 7,4 muharrem ince % 1,1 sinan oğan']"
      ]
     },
     "execution_count": 102,
     "metadata": {},
     "output_type": "execute_result"
    }
   ],
   "source": [
    "tweet_samples = []\n",
    "for tweet in raw_tweets:\n",
    "  tweet_samples.append(normalizer.normalize(clean_tweet(tweet))) \n",
    "tweet_samples"
   ]
  },
  {
   "cell_type": "code",
   "execution_count": 103,
   "metadata": {
    "colab": {
     "base_uri": "https://localhost:8080/"
    },
    "id": "QaKdRVPZroEu",
    "outputId": "1fb15043-2992-4050-95ae-5553dee1a3d6"
   },
   "outputs": [
    {
     "name": "stderr",
     "output_type": "stream",
     "text": [
      "/usr/local/lib/python3.10/dist-packages/transformers/tokenization_utils_base.py:2364: FutureWarning: The `pad_to_max_length` argument is deprecated and will be removed in a future version, use `padding=True` or `padding='longest'` to pad to the longest sequence in the batch, or use `padding='max_length'` to pad to a max length. In this case, you can give a specific length with `max_length` (e.g. `max_length=45`) or leave max_length to None to pad to the maximal input size of the model (e.g. 512 for Bert).\n",
      "  warnings.warn(\n"
     ]
    }
   ],
   "source": [
    "test_encodings = tokenizer.batch_encode_plus(tweet_samples, \n",
    "                                             max_length=128, \n",
    "                                             add_special_tokens=True, \n",
    "                                             return_attention_mask=True, \n",
    "                                             pad_to_max_length=True, \n",
    "                                             truncation=True)"
   ]
  },
  {
   "cell_type": "code",
   "execution_count": 109,
   "metadata": {
    "colab": {
     "base_uri": "https://localhost:8080/",
     "height": 104
    },
    "id": "yzdsANgstOTv",
    "outputId": "c2618f1a-f88c-4e2e-9651-0fc2c820934e"
   },
   "outputs": [
    {
     "data": {
      "application/vnd.google.colaboratory.intrinsic+json": {
       "type": "string"
      },
      "text/plain": [
       "'[CLS] özgür ve temiz bir türkiye için ittifakı [SEP] [PAD] [PAD] [PAD] [PAD] [PAD] [PAD] [PAD] [PAD] [PAD] [PAD] [PAD] [PAD] [PAD] [PAD] [PAD] [PAD] [PAD] [PAD] [PAD] [PAD] [PAD] [PAD] [PAD] [PAD] [PAD] [PAD] [PAD] [PAD] [PAD] [PAD] [PAD] [PAD] [PAD] [PAD] [PAD] [PAD] [PAD] [PAD] [PAD] [PAD] [PAD] [PAD] [PAD] [PAD] [PAD] [PAD] [PAD] [PAD] [PAD] [PAD] [PAD] [PAD] [PAD] [PAD] [PAD] [PAD] [PAD] [PAD] [PAD] [PAD] [PAD] [PAD] [PAD] [PAD] [PAD] [PAD] [PAD] [PAD] [PAD] [PAD] [PAD] [PAD] [PAD] [PAD] [PAD] [PAD] [PAD] [PAD] [PAD] [PAD] [PAD] [PAD] [PAD] [PAD] [PAD] [PAD] [PAD] [PAD] [PAD] [PAD] [PAD] [PAD] [PAD] [PAD] [PAD] [PAD] [PAD] [PAD] [PAD] [PAD] [PAD] [PAD] [PAD] [PAD] [PAD] [PAD] [PAD] [PAD] [PAD] [PAD] [PAD] [PAD] [PAD] [PAD] [PAD] [PAD] [PAD] [PAD]'"
      ]
     },
     "execution_count": 109,
     "metadata": {},
     "output_type": "execute_result"
    }
   ],
   "source": [
    "tokenizer.decode(token_ids = test_encodings['input_ids'][0])"
   ]
  },
  {
   "cell_type": "code",
   "execution_count": 72,
   "metadata": {
    "colab": {
     "base_uri": "https://localhost:8080/"
    },
    "id": "QI5SqeQztQ_f",
    "outputId": "589ac975-0445-4408-a0d2-f1dbabd8d272"
   },
   "outputs": [
    {
     "name": "stdout",
     "output_type": "stream",
     "text": [
      "[2, 4742, 1992, 3477, 1996, 13604, 2058, 13604, 10618, 1048, 3, 0, 0]\n",
      "[1, 1, 1, 1, 1, 1, 1, 1, 1, 1, 1, 0, 0]\n"
     ]
    }
   ],
   "source": [
    "print(test_encodings['input_ids'][0][:13])\n",
    "print(test_encodings['attention_mask'][0][:13])"
   ]
  },
  {
   "cell_type": "markdown",
   "metadata": {
    "id": "ocvUXgtdm6T0"
   },
   "source": [
    "#### Predicting with Logistic Regression"
   ]
  },
  {
   "cell_type": "code",
   "execution_count": 110,
   "metadata": {
    "colab": {
     "base_uri": "https://localhost:8080/"
    },
    "id": "IN1wsePHtuG3",
    "outputId": "1a5bad4c-99e4-4c3f-9d61-0a16002ad4ea"
   },
   "outputs": [
    {
     "name": "stdout",
     "output_type": "stream",
     "text": [
      "özgür ve temiz bir türkiye için ittifakı\n",
      "prob of being positive: 0.9214828733872201 \n",
      "\n",
      "işte bu türkiyeme yeni bir nefes\n",
      "prob of being positive: 0.5256655868871485 \n",
      "\n",
      "müslümanizelhamdürillah kalkıp da teröristlerin desteklediği yalamalara oy verir miyiz katillerin ittifakçılarına oy verir miyiz insanız biz , beynimiz var allah akılfikir ihsan eylemiş angusdeğilik kuranıkerim yakan bebek katillerine oy istiyor kasetçi ve adaylarda\n",
      "prob of being positive: 0.25324038419934325 \n",
      "\n",
      "şimdi ; içişleri bakanı , - \" silah bıraktırma \" çıkışı örgüte nefeslenme numarasıdır , diyor . bu doğru değil . . pkk ilk defa bölünme projesini ve yapılanmasıyla güçlü olarak yakalamıştır , buna oynuyor\n",
      "prob of being positive: 0.7833471352203267 \n",
      "\n",
      "ihanetin arkasında ile işbirliği yapan var . -09 temmuz 1934 1. kürdoloji kongresi \" -1955 moskova komünist yazarlar kongresi -1978 lice , fiş köyü kuruluşu . bu iğrenç sol , ile harekete geçti . .\n",
      "prob of being positive: 0.6464728541697184 \n",
      "\n",
      "ne diyor ; \" meclise kabul ettireceğim , yasasını çıkaracağım \" . bu sinsi bir sevr çıkısıdır imzalayanlar \" vatan haini \" ilan edilmiştir . bu ihaneti ve arkadaşları \" kurtuluş savaşı \" sonrası yırtıp atmışlardır .\n",
      "prob of being positive: 0.7622904328577776 \n",
      "\n",
      "kılıçdaroğlu bu sefer çok güçlü . aracılığıyla\n",
      "prob of being positive: 0.8809981582920587 \n",
      "\n",
      "@__kesafet64__ ’ na oy yok\n",
      "prob of being positive: 0.7794669127940496 \n",
      "\n",
      "%4 zam %300 enflasyon bu gidiş nereye\n",
      "prob of being positive: 0.8710571409056056 \n",
      "\n",
      "kılıçdaroğlu alevi notuyla paylaştığı videoda ilk kez oy kullanacak gençlere seslendi\n",
      "prob of being positive: 0.9716660842440298 \n",
      "\n",
      "optimal , ilk kez oy kullanacak gençlerin nabzının tutulduğu anketinin sonuçlarını yayınladı : % 51,2 erdoğan , % 39,2 kılıçdaroğlu % 7,4 muharrem ince % 1,1 sinan oğan\n",
      "prob of being positive: 0.8996876849186045 \n",
      "\n",
      "optimal , ilk kez oy kullanacak gençlerin nabzının tutulduğu anketinin sonuçlarını yayınladı : % 51,2 erdoğan , % 39,2 kılıçdaroğlu % 7,4 muharrem ince % 1,1 sinan oğan\n",
      "prob of being positive: 0.8996876849186045 \n",
      "\n"
     ]
    }
   ],
   "source": [
    "for i in range(len(test_encodings['input_ids'])):\n",
    "  with torch.no_grad():\n",
    "    test_input = torch.tensor(test_encodings['input_ids'][i]).to('cuda')\n",
    "    test_attention = torch.tensor(test_encodings['attention_mask'][i]).to('cuda')\n",
    "    last_hidden_state = model(test_input[None,:], test_attention[None,:])\n",
    "    cls_token = last_hidden_state[0][:,0,:].cpu().numpy()\n",
    "    if i == 0:\n",
    "      test_features = cls_token\n",
    "    else:\n",
    "      test_features = np.append(test_features, cls_token, axis=0)\n",
    "\n",
    "predictions = lr_clf.predict_proba(test_features)\n",
    "\n",
    "for i, text in enumerate(tweet_samples):\n",
    "  print(text)\n",
    "  print(\"prob of being positive:\", predictions[i][1], '\\n')"
   ]
  }
 ],
 "metadata": {
  "accelerator": "GPU",
  "colab": {
   "gpuType": "T4",
   "provenance": []
  },
  "gpuClass": "standard",
  "kernelspec": {
   "display_name": "Python 3 (ipykernel)",
   "language": "python",
   "name": "python3"
  },
  "language_info": {
   "codemirror_mode": {
    "name": "ipython",
    "version": 3
   },
   "file_extension": ".py",
   "mimetype": "text/x-python",
   "name": "python",
   "nbconvert_exporter": "python",
   "pygments_lexer": "ipython3",
   "version": "3.8.16"
  },
  "vscode": {
   "interpreter": {
    "hash": "e0ebce42ce0448866db4caa0f707d07cf16daa423916a7b91b6483f39eeb83b2"
   }
  },
  "widgets": {
   "application/vnd.jupyter.widget-state+json": {
    "0c525162571d48a99f66a0a18a139865": {
     "model_module": "@jupyter-widgets/base",
     "model_module_version": "1.2.0",
     "model_name": "LayoutModel",
     "state": {
      "_model_module": "@jupyter-widgets/base",
      "_model_module_version": "1.2.0",
      "_model_name": "LayoutModel",
      "_view_count": null,
      "_view_module": "@jupyter-widgets/base",
      "_view_module_version": "1.2.0",
      "_view_name": "LayoutView",
      "align_content": null,
      "align_items": null,
      "align_self": null,
      "border": null,
      "bottom": null,
      "display": null,
      "flex": null,
      "flex_flow": null,
      "grid_area": null,
      "grid_auto_columns": null,
      "grid_auto_flow": null,
      "grid_auto_rows": null,
      "grid_column": null,
      "grid_gap": null,
      "grid_row": null,
      "grid_template_areas": null,
      "grid_template_columns": null,
      "grid_template_rows": null,
      "height": null,
      "justify_content": null,
      "justify_items": null,
      "left": null,
      "margin": null,
      "max_height": null,
      "max_width": null,
      "min_height": null,
      "min_width": null,
      "object_fit": null,
      "object_position": null,
      "order": null,
      "overflow": null,
      "overflow_x": null,
      "overflow_y": null,
      "padding": null,
      "right": null,
      "top": null,
      "visibility": null,
      "width": null
     }
    },
    "1622079a1bf54151970ac7de5d939d39": {
     "model_module": "@jupyter-widgets/controls",
     "model_module_version": "1.5.0",
     "model_name": "HTMLModel",
     "state": {
      "_dom_classes": [],
      "_model_module": "@jupyter-widgets/controls",
      "_model_module_version": "1.5.0",
      "_model_name": "HTMLModel",
      "_view_count": null,
      "_view_module": "@jupyter-widgets/controls",
      "_view_module_version": "1.5.0",
      "_view_name": "HTMLView",
      "description": "",
      "description_tooltip": null,
      "layout": "IPY_MODEL_b7247f1c93cc464e9e5c0e161bd686a0",
      "placeholder": "​",
      "style": "IPY_MODEL_91cb707bbca84376a625f3da9394d617",
      "value": " 410/410 [00:00&lt;00:00, 21.5kB/s]"
     }
    },
    "17582c4225bf4ee39acf892a9231390e": {
     "model_module": "@jupyter-widgets/base",
     "model_module_version": "1.2.0",
     "model_name": "LayoutModel",
     "state": {
      "_model_module": "@jupyter-widgets/base",
      "_model_module_version": "1.2.0",
      "_model_name": "LayoutModel",
      "_view_count": null,
      "_view_module": "@jupyter-widgets/base",
      "_view_module_version": "1.2.0",
      "_view_name": "LayoutView",
      "align_content": null,
      "align_items": null,
      "align_self": null,
      "border": null,
      "bottom": null,
      "display": null,
      "flex": null,
      "flex_flow": null,
      "grid_area": null,
      "grid_auto_columns": null,
      "grid_auto_flow": null,
      "grid_auto_rows": null,
      "grid_column": null,
      "grid_gap": null,
      "grid_row": null,
      "grid_template_areas": null,
      "grid_template_columns": null,
      "grid_template_rows": null,
      "height": null,
      "justify_content": null,
      "justify_items": null,
      "left": null,
      "margin": null,
      "max_height": null,
      "max_width": null,
      "min_height": null,
      "min_width": null,
      "object_fit": null,
      "object_position": null,
      "order": null,
      "overflow": null,
      "overflow_x": null,
      "overflow_y": null,
      "padding": null,
      "right": null,
      "top": null,
      "visibility": null,
      "width": null
     }
    },
    "18aebfcffc38484584af56bac15f2057": {
     "model_module": "@jupyter-widgets/controls",
     "model_module_version": "1.5.0",
     "model_name": "DescriptionStyleModel",
     "state": {
      "_model_module": "@jupyter-widgets/controls",
      "_model_module_version": "1.5.0",
      "_model_name": "DescriptionStyleModel",
      "_view_count": null,
      "_view_module": "@jupyter-widgets/base",
      "_view_module_version": "1.2.0",
      "_view_name": "StyleView",
      "description_width": ""
     }
    },
    "39942454ffc74fcf917c5359db0275c9": {
     "model_module": "@jupyter-widgets/controls",
     "model_module_version": "1.5.0",
     "model_name": "ProgressStyleModel",
     "state": {
      "_model_module": "@jupyter-widgets/controls",
      "_model_module_version": "1.5.0",
      "_model_name": "ProgressStyleModel",
      "_view_count": null,
      "_view_module": "@jupyter-widgets/base",
      "_view_module_version": "1.2.0",
      "_view_name": "StyleView",
      "bar_color": null,
      "description_width": ""
     }
    },
    "3a2063713c9946a4a3f1556fe8fee3fc": {
     "model_module": "@jupyter-widgets/controls",
     "model_module_version": "1.5.0",
     "model_name": "HTMLModel",
     "state": {
      "_dom_classes": [],
      "_model_module": "@jupyter-widgets/controls",
      "_model_module_version": "1.5.0",
      "_model_name": "HTMLModel",
      "_view_count": null,
      "_view_module": "@jupyter-widgets/controls",
      "_view_module_version": "1.5.0",
      "_view_name": "HTMLView",
      "description": "",
      "description_tooltip": null,
      "layout": "IPY_MODEL_5e2a5cf02f5747eb88526af37011d618",
      "placeholder": "​",
      "style": "IPY_MODEL_bff8457eb5bf43348e29243bf177a9c6",
      "value": " 60.0/60.0 [00:00&lt;00:00, 4.08kB/s]"
     }
    },
    "4093b5d380de44cd946ada825133fc7d": {
     "model_module": "@jupyter-widgets/controls",
     "model_module_version": "1.5.0",
     "model_name": "DescriptionStyleModel",
     "state": {
      "_model_module": "@jupyter-widgets/controls",
      "_model_module_version": "1.5.0",
      "_model_name": "DescriptionStyleModel",
      "_view_count": null,
      "_view_module": "@jupyter-widgets/base",
      "_view_module_version": "1.2.0",
      "_view_name": "StyleView",
      "description_width": ""
     }
    },
    "42e91f093d964d59935ed9312c5f73eb": {
     "model_module": "@jupyter-widgets/base",
     "model_module_version": "1.2.0",
     "model_name": "LayoutModel",
     "state": {
      "_model_module": "@jupyter-widgets/base",
      "_model_module_version": "1.2.0",
      "_model_name": "LayoutModel",
      "_view_count": null,
      "_view_module": "@jupyter-widgets/base",
      "_view_module_version": "1.2.0",
      "_view_name": "LayoutView",
      "align_content": null,
      "align_items": null,
      "align_self": null,
      "border": null,
      "bottom": null,
      "display": null,
      "flex": null,
      "flex_flow": null,
      "grid_area": null,
      "grid_auto_columns": null,
      "grid_auto_flow": null,
      "grid_auto_rows": null,
      "grid_column": null,
      "grid_gap": null,
      "grid_row": null,
      "grid_template_areas": null,
      "grid_template_columns": null,
      "grid_template_rows": null,
      "height": null,
      "justify_content": null,
      "justify_items": null,
      "left": null,
      "margin": null,
      "max_height": null,
      "max_width": null,
      "min_height": null,
      "min_width": null,
      "object_fit": null,
      "object_position": null,
      "order": null,
      "overflow": null,
      "overflow_x": null,
      "overflow_y": null,
      "padding": null,
      "right": null,
      "top": null,
      "visibility": null,
      "width": null
     }
    },
    "5690342333b24896be0a58b42c27ed09": {
     "model_module": "@jupyter-widgets/controls",
     "model_module_version": "1.5.0",
     "model_name": "HBoxModel",
     "state": {
      "_dom_classes": [],
      "_model_module": "@jupyter-widgets/controls",
      "_model_module_version": "1.5.0",
      "_model_name": "HBoxModel",
      "_view_count": null,
      "_view_module": "@jupyter-widgets/controls",
      "_view_module_version": "1.5.0",
      "_view_name": "HBoxView",
      "box_style": "",
      "children": [
       "IPY_MODEL_8401f324429b4b929c849b94918ff9d9",
       "IPY_MODEL_8e201fd65f394e3184e9c29eec3509b3",
       "IPY_MODEL_1622079a1bf54151970ac7de5d939d39"
      ],
      "layout": "IPY_MODEL_d5fffeabe9ab45ae876c84574e913f46"
     }
    },
    "5906798bff0845178f5f08c9408f8c44": {
     "model_module": "@jupyter-widgets/controls",
     "model_module_version": "1.5.0",
     "model_name": "DescriptionStyleModel",
     "state": {
      "_model_module": "@jupyter-widgets/controls",
      "_model_module_version": "1.5.0",
      "_model_name": "DescriptionStyleModel",
      "_view_count": null,
      "_view_module": "@jupyter-widgets/base",
      "_view_module_version": "1.2.0",
      "_view_name": "StyleView",
      "description_width": ""
     }
    },
    "5a501f8d7279493a8df49f985d37fd75": {
     "model_module": "@jupyter-widgets/controls",
     "model_module_version": "1.5.0",
     "model_name": "DescriptionStyleModel",
     "state": {
      "_model_module": "@jupyter-widgets/controls",
      "_model_module_version": "1.5.0",
      "_model_name": "DescriptionStyleModel",
      "_view_count": null,
      "_view_module": "@jupyter-widgets/base",
      "_view_module_version": "1.2.0",
      "_view_name": "StyleView",
      "description_width": ""
     }
    },
    "5e2a5cf02f5747eb88526af37011d618": {
     "model_module": "@jupyter-widgets/base",
     "model_module_version": "1.2.0",
     "model_name": "LayoutModel",
     "state": {
      "_model_module": "@jupyter-widgets/base",
      "_model_module_version": "1.2.0",
      "_model_name": "LayoutModel",
      "_view_count": null,
      "_view_module": "@jupyter-widgets/base",
      "_view_module_version": "1.2.0",
      "_view_name": "LayoutView",
      "align_content": null,
      "align_items": null,
      "align_self": null,
      "border": null,
      "bottom": null,
      "display": null,
      "flex": null,
      "flex_flow": null,
      "grid_area": null,
      "grid_auto_columns": null,
      "grid_auto_flow": null,
      "grid_auto_rows": null,
      "grid_column": null,
      "grid_gap": null,
      "grid_row": null,
      "grid_template_areas": null,
      "grid_template_columns": null,
      "grid_template_rows": null,
      "height": null,
      "justify_content": null,
      "justify_items": null,
      "left": null,
      "margin": null,
      "max_height": null,
      "max_width": null,
      "min_height": null,
      "min_width": null,
      "object_fit": null,
      "object_position": null,
      "order": null,
      "overflow": null,
      "overflow_x": null,
      "overflow_y": null,
      "padding": null,
      "right": null,
      "top": null,
      "visibility": null,
      "width": null
     }
    },
    "642edafef88a4b67bf6867830312fe2d": {
     "model_module": "@jupyter-widgets/controls",
     "model_module_version": "1.5.0",
     "model_name": "ProgressStyleModel",
     "state": {
      "_model_module": "@jupyter-widgets/controls",
      "_model_module_version": "1.5.0",
      "_model_name": "ProgressStyleModel",
      "_view_count": null,
      "_view_module": "@jupyter-widgets/base",
      "_view_module_version": "1.2.0",
      "_view_name": "StyleView",
      "bar_color": null,
      "description_width": ""
     }
    },
    "66305be01b63435c861aafe31240c392": {
     "model_module": "@jupyter-widgets/base",
     "model_module_version": "1.2.0",
     "model_name": "LayoutModel",
     "state": {
      "_model_module": "@jupyter-widgets/base",
      "_model_module_version": "1.2.0",
      "_model_name": "LayoutModel",
      "_view_count": null,
      "_view_module": "@jupyter-widgets/base",
      "_view_module_version": "1.2.0",
      "_view_name": "LayoutView",
      "align_content": null,
      "align_items": null,
      "align_self": null,
      "border": null,
      "bottom": null,
      "display": null,
      "flex": null,
      "flex_flow": null,
      "grid_area": null,
      "grid_auto_columns": null,
      "grid_auto_flow": null,
      "grid_auto_rows": null,
      "grid_column": null,
      "grid_gap": null,
      "grid_row": null,
      "grid_template_areas": null,
      "grid_template_columns": null,
      "grid_template_rows": null,
      "height": null,
      "justify_content": null,
      "justify_items": null,
      "left": null,
      "margin": null,
      "max_height": null,
      "max_width": null,
      "min_height": null,
      "min_width": null,
      "object_fit": null,
      "object_position": null,
      "order": null,
      "overflow": null,
      "overflow_x": null,
      "overflow_y": null,
      "padding": null,
      "right": null,
      "top": null,
      "visibility": null,
      "width": null
     }
    },
    "6b15c711487e4c879b7baaeb98fa54e5": {
     "model_module": "@jupyter-widgets/controls",
     "model_module_version": "1.5.0",
     "model_name": "HBoxModel",
     "state": {
      "_dom_classes": [],
      "_model_module": "@jupyter-widgets/controls",
      "_model_module_version": "1.5.0",
      "_model_name": "HBoxModel",
      "_view_count": null,
      "_view_module": "@jupyter-widgets/controls",
      "_view_module_version": "1.5.0",
      "_view_name": "HBoxView",
      "box_style": "",
      "children": [
       "IPY_MODEL_974f8b24c71a40a9b76b209f0a824530",
       "IPY_MODEL_ab06ecd6e855436d8a3e76d4de2e179d",
       "IPY_MODEL_da438f2ca7334ad4be98d12a81edc787"
      ],
      "layout": "IPY_MODEL_66305be01b63435c861aafe31240c392"
     }
    },
    "6cefac00779048538d1f0bc93657d9ba": {
     "model_module": "@jupyter-widgets/controls",
     "model_module_version": "1.5.0",
     "model_name": "HTMLModel",
     "state": {
      "_dom_classes": [],
      "_model_module": "@jupyter-widgets/controls",
      "_model_module_version": "1.5.0",
      "_model_name": "HTMLModel",
      "_view_count": null,
      "_view_module": "@jupyter-widgets/controls",
      "_view_module_version": "1.5.0",
      "_view_name": "HTMLView",
      "description": "",
      "description_tooltip": null,
      "layout": "IPY_MODEL_9b8ee2137b9a49deae3b0037bb6d2576",
      "placeholder": "​",
      "style": "IPY_MODEL_4093b5d380de44cd946ada825133fc7d",
      "value": "Downloading (…)solve/main/vocab.txt: 100%"
     }
    },
    "6eaa33edc2a641e4b3ef7c89d44a9979": {
     "model_module": "@jupyter-widgets/base",
     "model_module_version": "1.2.0",
     "model_name": "LayoutModel",
     "state": {
      "_model_module": "@jupyter-widgets/base",
      "_model_module_version": "1.2.0",
      "_model_name": "LayoutModel",
      "_view_count": null,
      "_view_module": "@jupyter-widgets/base",
      "_view_module_version": "1.2.0",
      "_view_name": "LayoutView",
      "align_content": null,
      "align_items": null,
      "align_self": null,
      "border": null,
      "bottom": null,
      "display": null,
      "flex": null,
      "flex_flow": null,
      "grid_area": null,
      "grid_auto_columns": null,
      "grid_auto_flow": null,
      "grid_auto_rows": null,
      "grid_column": null,
      "grid_gap": null,
      "grid_row": null,
      "grid_template_areas": null,
      "grid_template_columns": null,
      "grid_template_rows": null,
      "height": null,
      "justify_content": null,
      "justify_items": null,
      "left": null,
      "margin": null,
      "max_height": null,
      "max_width": null,
      "min_height": null,
      "min_width": null,
      "object_fit": null,
      "object_position": null,
      "order": null,
      "overflow": null,
      "overflow_x": null,
      "overflow_y": null,
      "padding": null,
      "right": null,
      "top": null,
      "visibility": null,
      "width": null
     }
    },
    "6fd9301ab2084e6d9ec3002b48c8590b": {
     "model_module": "@jupyter-widgets/controls",
     "model_module_version": "1.5.0",
     "model_name": "HBoxModel",
     "state": {
      "_dom_classes": [],
      "_model_module": "@jupyter-widgets/controls",
      "_model_module_version": "1.5.0",
      "_model_name": "HBoxModel",
      "_view_count": null,
      "_view_module": "@jupyter-widgets/controls",
      "_view_module_version": "1.5.0",
      "_view_name": "HBoxView",
      "box_style": "",
      "children": [
       "IPY_MODEL_91a686c7eee041a090e2bc49d113e0f8",
       "IPY_MODEL_b5148ce2c9d54f8ca3368d55ee0c13d5",
       "IPY_MODEL_3a2063713c9946a4a3f1556fe8fee3fc"
      ],
      "layout": "IPY_MODEL_daa4502802f94ead822826c9125139d0"
     }
    },
    "74d7708f93b44b3c9087ae8b9111edba": {
     "model_module": "@jupyter-widgets/base",
     "model_module_version": "1.2.0",
     "model_name": "LayoutModel",
     "state": {
      "_model_module": "@jupyter-widgets/base",
      "_model_module_version": "1.2.0",
      "_model_name": "LayoutModel",
      "_view_count": null,
      "_view_module": "@jupyter-widgets/base",
      "_view_module_version": "1.2.0",
      "_view_name": "LayoutView",
      "align_content": null,
      "align_items": null,
      "align_self": null,
      "border": null,
      "bottom": null,
      "display": null,
      "flex": null,
      "flex_flow": null,
      "grid_area": null,
      "grid_auto_columns": null,
      "grid_auto_flow": null,
      "grid_auto_rows": null,
      "grid_column": null,
      "grid_gap": null,
      "grid_row": null,
      "grid_template_areas": null,
      "grid_template_columns": null,
      "grid_template_rows": null,
      "height": null,
      "justify_content": null,
      "justify_items": null,
      "left": null,
      "margin": null,
      "max_height": null,
      "max_width": null,
      "min_height": null,
      "min_width": null,
      "object_fit": null,
      "object_position": null,
      "order": null,
      "overflow": null,
      "overflow_x": null,
      "overflow_y": null,
      "padding": null,
      "right": null,
      "top": null,
      "visibility": null,
      "width": null
     }
    },
    "7bdc1bc8ab354fd88866c47eda2bcf45": {
     "model_module": "@jupyter-widgets/controls",
     "model_module_version": "1.5.0",
     "model_name": "DescriptionStyleModel",
     "state": {
      "_model_module": "@jupyter-widgets/controls",
      "_model_module_version": "1.5.0",
      "_model_name": "DescriptionStyleModel",
      "_view_count": null,
      "_view_module": "@jupyter-widgets/base",
      "_view_module_version": "1.2.0",
      "_view_name": "StyleView",
      "description_width": ""
     }
    },
    "812e4ff7c92e4c6faca88408b88d55f9": {
     "model_module": "@jupyter-widgets/controls",
     "model_module_version": "1.5.0",
     "model_name": "DescriptionStyleModel",
     "state": {
      "_model_module": "@jupyter-widgets/controls",
      "_model_module_version": "1.5.0",
      "_model_name": "DescriptionStyleModel",
      "_view_count": null,
      "_view_module": "@jupyter-widgets/base",
      "_view_module_version": "1.2.0",
      "_view_name": "StyleView",
      "description_width": ""
     }
    },
    "8401f324429b4b929c849b94918ff9d9": {
     "model_module": "@jupyter-widgets/controls",
     "model_module_version": "1.5.0",
     "model_name": "HTMLModel",
     "state": {
      "_dom_classes": [],
      "_model_module": "@jupyter-widgets/controls",
      "_model_module_version": "1.5.0",
      "_model_name": "HTMLModel",
      "_view_count": null,
      "_view_module": "@jupyter-widgets/controls",
      "_view_module_version": "1.5.0",
      "_view_name": "HTMLView",
      "description": "",
      "description_tooltip": null,
      "layout": "IPY_MODEL_a89b5156b3b846ca92095c7ea3d88156",
      "placeholder": "​",
      "style": "IPY_MODEL_812e4ff7c92e4c6faca88408b88d55f9",
      "value": "Downloading (…)lve/main/config.json: 100%"
     }
    },
    "8e201fd65f394e3184e9c29eec3509b3": {
     "model_module": "@jupyter-widgets/controls",
     "model_module_version": "1.5.0",
     "model_name": "FloatProgressModel",
     "state": {
      "_dom_classes": [],
      "_model_module": "@jupyter-widgets/controls",
      "_model_module_version": "1.5.0",
      "_model_name": "FloatProgressModel",
      "_view_count": null,
      "_view_module": "@jupyter-widgets/controls",
      "_view_module_version": "1.5.0",
      "_view_name": "ProgressView",
      "bar_style": "success",
      "description": "",
      "description_tooltip": null,
      "layout": "IPY_MODEL_a3108181097d4fa9b7a16ed910e3b297",
      "max": 410,
      "min": 0,
      "orientation": "horizontal",
      "style": "IPY_MODEL_ae45149ff4b04754959c4f31f3eebed2",
      "value": 410
     }
    },
    "91a686c7eee041a090e2bc49d113e0f8": {
     "model_module": "@jupyter-widgets/controls",
     "model_module_version": "1.5.0",
     "model_name": "HTMLModel",
     "state": {
      "_dom_classes": [],
      "_model_module": "@jupyter-widgets/controls",
      "_model_module_version": "1.5.0",
      "_model_name": "HTMLModel",
      "_view_count": null,
      "_view_module": "@jupyter-widgets/controls",
      "_view_module_version": "1.5.0",
      "_view_name": "HTMLView",
      "description": "",
      "description_tooltip": null,
      "layout": "IPY_MODEL_cac87be541fe44328de8a73bb890710b",
      "placeholder": "​",
      "style": "IPY_MODEL_18aebfcffc38484584af56bac15f2057",
      "value": "Downloading (…)okenizer_config.json: 100%"
     }
    },
    "91cb707bbca84376a625f3da9394d617": {
     "model_module": "@jupyter-widgets/controls",
     "model_module_version": "1.5.0",
     "model_name": "DescriptionStyleModel",
     "state": {
      "_model_module": "@jupyter-widgets/controls",
      "_model_module_version": "1.5.0",
      "_model_name": "DescriptionStyleModel",
      "_view_count": null,
      "_view_module": "@jupyter-widgets/base",
      "_view_module_version": "1.2.0",
      "_view_name": "StyleView",
      "description_width": ""
     }
    },
    "974f8b24c71a40a9b76b209f0a824530": {
     "model_module": "@jupyter-widgets/controls",
     "model_module_version": "1.5.0",
     "model_name": "HTMLModel",
     "state": {
      "_dom_classes": [],
      "_model_module": "@jupyter-widgets/controls",
      "_model_module_version": "1.5.0",
      "_model_name": "HTMLModel",
      "_view_count": null,
      "_view_module": "@jupyter-widgets/controls",
      "_view_module_version": "1.5.0",
      "_view_name": "HTMLView",
      "description": "",
      "description_tooltip": null,
      "layout": "IPY_MODEL_74d7708f93b44b3c9087ae8b9111edba",
      "placeholder": "​",
      "style": "IPY_MODEL_7bdc1bc8ab354fd88866c47eda2bcf45",
      "value": "Downloading pytorch_model.bin: 100%"
     }
    },
    "97ee7ad9c74c4265bb0d40e3f142ffd2": {
     "model_module": "@jupyter-widgets/base",
     "model_module_version": "1.2.0",
     "model_name": "LayoutModel",
     "state": {
      "_model_module": "@jupyter-widgets/base",
      "_model_module_version": "1.2.0",
      "_model_name": "LayoutModel",
      "_view_count": null,
      "_view_module": "@jupyter-widgets/base",
      "_view_module_version": "1.2.0",
      "_view_name": "LayoutView",
      "align_content": null,
      "align_items": null,
      "align_self": null,
      "border": null,
      "bottom": null,
      "display": null,
      "flex": null,
      "flex_flow": null,
      "grid_area": null,
      "grid_auto_columns": null,
      "grid_auto_flow": null,
      "grid_auto_rows": null,
      "grid_column": null,
      "grid_gap": null,
      "grid_row": null,
      "grid_template_areas": null,
      "grid_template_columns": null,
      "grid_template_rows": null,
      "height": null,
      "justify_content": null,
      "justify_items": null,
      "left": null,
      "margin": null,
      "max_height": null,
      "max_width": null,
      "min_height": null,
      "min_width": null,
      "object_fit": null,
      "object_position": null,
      "order": null,
      "overflow": null,
      "overflow_x": null,
      "overflow_y": null,
      "padding": null,
      "right": null,
      "top": null,
      "visibility": null,
      "width": null
     }
    },
    "9b8ee2137b9a49deae3b0037bb6d2576": {
     "model_module": "@jupyter-widgets/base",
     "model_module_version": "1.2.0",
     "model_name": "LayoutModel",
     "state": {
      "_model_module": "@jupyter-widgets/base",
      "_model_module_version": "1.2.0",
      "_model_name": "LayoutModel",
      "_view_count": null,
      "_view_module": "@jupyter-widgets/base",
      "_view_module_version": "1.2.0",
      "_view_name": "LayoutView",
      "align_content": null,
      "align_items": null,
      "align_self": null,
      "border": null,
      "bottom": null,
      "display": null,
      "flex": null,
      "flex_flow": null,
      "grid_area": null,
      "grid_auto_columns": null,
      "grid_auto_flow": null,
      "grid_auto_rows": null,
      "grid_column": null,
      "grid_gap": null,
      "grid_row": null,
      "grid_template_areas": null,
      "grid_template_columns": null,
      "grid_template_rows": null,
      "height": null,
      "justify_content": null,
      "justify_items": null,
      "left": null,
      "margin": null,
      "max_height": null,
      "max_width": null,
      "min_height": null,
      "min_width": null,
      "object_fit": null,
      "object_position": null,
      "order": null,
      "overflow": null,
      "overflow_x": null,
      "overflow_y": null,
      "padding": null,
      "right": null,
      "top": null,
      "visibility": null,
      "width": null
     }
    },
    "a3108181097d4fa9b7a16ed910e3b297": {
     "model_module": "@jupyter-widgets/base",
     "model_module_version": "1.2.0",
     "model_name": "LayoutModel",
     "state": {
      "_model_module": "@jupyter-widgets/base",
      "_model_module_version": "1.2.0",
      "_model_name": "LayoutModel",
      "_view_count": null,
      "_view_module": "@jupyter-widgets/base",
      "_view_module_version": "1.2.0",
      "_view_name": "LayoutView",
      "align_content": null,
      "align_items": null,
      "align_self": null,
      "border": null,
      "bottom": null,
      "display": null,
      "flex": null,
      "flex_flow": null,
      "grid_area": null,
      "grid_auto_columns": null,
      "grid_auto_flow": null,
      "grid_auto_rows": null,
      "grid_column": null,
      "grid_gap": null,
      "grid_row": null,
      "grid_template_areas": null,
      "grid_template_columns": null,
      "grid_template_rows": null,
      "height": null,
      "justify_content": null,
      "justify_items": null,
      "left": null,
      "margin": null,
      "max_height": null,
      "max_width": null,
      "min_height": null,
      "min_width": null,
      "object_fit": null,
      "object_position": null,
      "order": null,
      "overflow": null,
      "overflow_x": null,
      "overflow_y": null,
      "padding": null,
      "right": null,
      "top": null,
      "visibility": null,
      "width": null
     }
    },
    "a89b5156b3b846ca92095c7ea3d88156": {
     "model_module": "@jupyter-widgets/base",
     "model_module_version": "1.2.0",
     "model_name": "LayoutModel",
     "state": {
      "_model_module": "@jupyter-widgets/base",
      "_model_module_version": "1.2.0",
      "_model_name": "LayoutModel",
      "_view_count": null,
      "_view_module": "@jupyter-widgets/base",
      "_view_module_version": "1.2.0",
      "_view_name": "LayoutView",
      "align_content": null,
      "align_items": null,
      "align_self": null,
      "border": null,
      "bottom": null,
      "display": null,
      "flex": null,
      "flex_flow": null,
      "grid_area": null,
      "grid_auto_columns": null,
      "grid_auto_flow": null,
      "grid_auto_rows": null,
      "grid_column": null,
      "grid_gap": null,
      "grid_row": null,
      "grid_template_areas": null,
      "grid_template_columns": null,
      "grid_template_rows": null,
      "height": null,
      "justify_content": null,
      "justify_items": null,
      "left": null,
      "margin": null,
      "max_height": null,
      "max_width": null,
      "min_height": null,
      "min_width": null,
      "object_fit": null,
      "object_position": null,
      "order": null,
      "overflow": null,
      "overflow_x": null,
      "overflow_y": null,
      "padding": null,
      "right": null,
      "top": null,
      "visibility": null,
      "width": null
     }
    },
    "aa9e33fbe73241c187adc9d22b3cd206": {
     "model_module": "@jupyter-widgets/controls",
     "model_module_version": "1.5.0",
     "model_name": "HTMLModel",
     "state": {
      "_dom_classes": [],
      "_model_module": "@jupyter-widgets/controls",
      "_model_module_version": "1.5.0",
      "_model_name": "HTMLModel",
      "_view_count": null,
      "_view_module": "@jupyter-widgets/controls",
      "_view_module_version": "1.5.0",
      "_view_name": "HTMLView",
      "description": "",
      "description_tooltip": null,
      "layout": "IPY_MODEL_17582c4225bf4ee39acf892a9231390e",
      "placeholder": "​",
      "style": "IPY_MODEL_5a501f8d7279493a8df49f985d37fd75",
      "value": " 251k/251k [00:00&lt;00:00, 4.89MB/s]"
     }
    },
    "ab06ecd6e855436d8a3e76d4de2e179d": {
     "model_module": "@jupyter-widgets/controls",
     "model_module_version": "1.5.0",
     "model_name": "FloatProgressModel",
     "state": {
      "_dom_classes": [],
      "_model_module": "@jupyter-widgets/controls",
      "_model_module_version": "1.5.0",
      "_model_name": "FloatProgressModel",
      "_view_count": null,
      "_view_module": "@jupyter-widgets/controls",
      "_view_module_version": "1.5.0",
      "_view_name": "ProgressView",
      "bar_style": "success",
      "description": "",
      "description_tooltip": null,
      "layout": "IPY_MODEL_42e91f093d964d59935ed9312c5f73eb",
      "max": 272512865,
      "min": 0,
      "orientation": "horizontal",
      "style": "IPY_MODEL_642edafef88a4b67bf6867830312fe2d",
      "value": 272512865
     }
    },
    "ae45149ff4b04754959c4f31f3eebed2": {
     "model_module": "@jupyter-widgets/controls",
     "model_module_version": "1.5.0",
     "model_name": "ProgressStyleModel",
     "state": {
      "_model_module": "@jupyter-widgets/controls",
      "_model_module_version": "1.5.0",
      "_model_name": "ProgressStyleModel",
      "_view_count": null,
      "_view_module": "@jupyter-widgets/base",
      "_view_module_version": "1.2.0",
      "_view_name": "StyleView",
      "bar_color": null,
      "description_width": ""
     }
    },
    "b348c6fbeb0549aaabf4bc2692ffe2b6": {
     "model_module": "@jupyter-widgets/controls",
     "model_module_version": "1.5.0",
     "model_name": "FloatProgressModel",
     "state": {
      "_dom_classes": [],
      "_model_module": "@jupyter-widgets/controls",
      "_model_module_version": "1.5.0",
      "_model_name": "FloatProgressModel",
      "_view_count": null,
      "_view_module": "@jupyter-widgets/controls",
      "_view_module_version": "1.5.0",
      "_view_name": "ProgressView",
      "bar_style": "success",
      "description": "",
      "description_tooltip": null,
      "layout": "IPY_MODEL_eb5098d287a5485b9f9992f38a478c1e",
      "max": 251003,
      "min": 0,
      "orientation": "horizontal",
      "style": "IPY_MODEL_bf2d7208c2d34912a9093fd931c35813",
      "value": 251003
     }
    },
    "b5148ce2c9d54f8ca3368d55ee0c13d5": {
     "model_module": "@jupyter-widgets/controls",
     "model_module_version": "1.5.0",
     "model_name": "FloatProgressModel",
     "state": {
      "_dom_classes": [],
      "_model_module": "@jupyter-widgets/controls",
      "_model_module_version": "1.5.0",
      "_model_name": "FloatProgressModel",
      "_view_count": null,
      "_view_module": "@jupyter-widgets/controls",
      "_view_module_version": "1.5.0",
      "_view_name": "ProgressView",
      "bar_style": "success",
      "description": "",
      "description_tooltip": null,
      "layout": "IPY_MODEL_6eaa33edc2a641e4b3ef7c89d44a9979",
      "max": 60,
      "min": 0,
      "orientation": "horizontal",
      "style": "IPY_MODEL_39942454ffc74fcf917c5359db0275c9",
      "value": 60
     }
    },
    "b7247f1c93cc464e9e5c0e161bd686a0": {
     "model_module": "@jupyter-widgets/base",
     "model_module_version": "1.2.0",
     "model_name": "LayoutModel",
     "state": {
      "_model_module": "@jupyter-widgets/base",
      "_model_module_version": "1.2.0",
      "_model_name": "LayoutModel",
      "_view_count": null,
      "_view_module": "@jupyter-widgets/base",
      "_view_module_version": "1.2.0",
      "_view_name": "LayoutView",
      "align_content": null,
      "align_items": null,
      "align_self": null,
      "border": null,
      "bottom": null,
      "display": null,
      "flex": null,
      "flex_flow": null,
      "grid_area": null,
      "grid_auto_columns": null,
      "grid_auto_flow": null,
      "grid_auto_rows": null,
      "grid_column": null,
      "grid_gap": null,
      "grid_row": null,
      "grid_template_areas": null,
      "grid_template_columns": null,
      "grid_template_rows": null,
      "height": null,
      "justify_content": null,
      "justify_items": null,
      "left": null,
      "margin": null,
      "max_height": null,
      "max_width": null,
      "min_height": null,
      "min_width": null,
      "object_fit": null,
      "object_position": null,
      "order": null,
      "overflow": null,
      "overflow_x": null,
      "overflow_y": null,
      "padding": null,
      "right": null,
      "top": null,
      "visibility": null,
      "width": null
     }
    },
    "bf2d7208c2d34912a9093fd931c35813": {
     "model_module": "@jupyter-widgets/controls",
     "model_module_version": "1.5.0",
     "model_name": "ProgressStyleModel",
     "state": {
      "_model_module": "@jupyter-widgets/controls",
      "_model_module_version": "1.5.0",
      "_model_name": "ProgressStyleModel",
      "_view_count": null,
      "_view_module": "@jupyter-widgets/base",
      "_view_module_version": "1.2.0",
      "_view_name": "StyleView",
      "bar_color": null,
      "description_width": ""
     }
    },
    "bff8457eb5bf43348e29243bf177a9c6": {
     "model_module": "@jupyter-widgets/controls",
     "model_module_version": "1.5.0",
     "model_name": "DescriptionStyleModel",
     "state": {
      "_model_module": "@jupyter-widgets/controls",
      "_model_module_version": "1.5.0",
      "_model_name": "DescriptionStyleModel",
      "_view_count": null,
      "_view_module": "@jupyter-widgets/base",
      "_view_module_version": "1.2.0",
      "_view_name": "StyleView",
      "description_width": ""
     }
    },
    "cac87be541fe44328de8a73bb890710b": {
     "model_module": "@jupyter-widgets/base",
     "model_module_version": "1.2.0",
     "model_name": "LayoutModel",
     "state": {
      "_model_module": "@jupyter-widgets/base",
      "_model_module_version": "1.2.0",
      "_model_name": "LayoutModel",
      "_view_count": null,
      "_view_module": "@jupyter-widgets/base",
      "_view_module_version": "1.2.0",
      "_view_name": "LayoutView",
      "align_content": null,
      "align_items": null,
      "align_self": null,
      "border": null,
      "bottom": null,
      "display": null,
      "flex": null,
      "flex_flow": null,
      "grid_area": null,
      "grid_auto_columns": null,
      "grid_auto_flow": null,
      "grid_auto_rows": null,
      "grid_column": null,
      "grid_gap": null,
      "grid_row": null,
      "grid_template_areas": null,
      "grid_template_columns": null,
      "grid_template_rows": null,
      "height": null,
      "justify_content": null,
      "justify_items": null,
      "left": null,
      "margin": null,
      "max_height": null,
      "max_width": null,
      "min_height": null,
      "min_width": null,
      "object_fit": null,
      "object_position": null,
      "order": null,
      "overflow": null,
      "overflow_x": null,
      "overflow_y": null,
      "padding": null,
      "right": null,
      "top": null,
      "visibility": null,
      "width": null
     }
    },
    "cad1c35c8600486c89fb89797761963f": {
     "model_module": "@jupyter-widgets/controls",
     "model_module_version": "1.5.0",
     "model_name": "HBoxModel",
     "state": {
      "_dom_classes": [],
      "_model_module": "@jupyter-widgets/controls",
      "_model_module_version": "1.5.0",
      "_model_name": "HBoxModel",
      "_view_count": null,
      "_view_module": "@jupyter-widgets/controls",
      "_view_module_version": "1.5.0",
      "_view_name": "HBoxView",
      "box_style": "",
      "children": [
       "IPY_MODEL_6cefac00779048538d1f0bc93657d9ba",
       "IPY_MODEL_b348c6fbeb0549aaabf4bc2692ffe2b6",
       "IPY_MODEL_aa9e33fbe73241c187adc9d22b3cd206"
      ],
      "layout": "IPY_MODEL_0c525162571d48a99f66a0a18a139865"
     }
    },
    "d5fffeabe9ab45ae876c84574e913f46": {
     "model_module": "@jupyter-widgets/base",
     "model_module_version": "1.2.0",
     "model_name": "LayoutModel",
     "state": {
      "_model_module": "@jupyter-widgets/base",
      "_model_module_version": "1.2.0",
      "_model_name": "LayoutModel",
      "_view_count": null,
      "_view_module": "@jupyter-widgets/base",
      "_view_module_version": "1.2.0",
      "_view_name": "LayoutView",
      "align_content": null,
      "align_items": null,
      "align_self": null,
      "border": null,
      "bottom": null,
      "display": null,
      "flex": null,
      "flex_flow": null,
      "grid_area": null,
      "grid_auto_columns": null,
      "grid_auto_flow": null,
      "grid_auto_rows": null,
      "grid_column": null,
      "grid_gap": null,
      "grid_row": null,
      "grid_template_areas": null,
      "grid_template_columns": null,
      "grid_template_rows": null,
      "height": null,
      "justify_content": null,
      "justify_items": null,
      "left": null,
      "margin": null,
      "max_height": null,
      "max_width": null,
      "min_height": null,
      "min_width": null,
      "object_fit": null,
      "object_position": null,
      "order": null,
      "overflow": null,
      "overflow_x": null,
      "overflow_y": null,
      "padding": null,
      "right": null,
      "top": null,
      "visibility": null,
      "width": null
     }
    },
    "da438f2ca7334ad4be98d12a81edc787": {
     "model_module": "@jupyter-widgets/controls",
     "model_module_version": "1.5.0",
     "model_name": "HTMLModel",
     "state": {
      "_dom_classes": [],
      "_model_module": "@jupyter-widgets/controls",
      "_model_module_version": "1.5.0",
      "_model_name": "HTMLModel",
      "_view_count": null,
      "_view_module": "@jupyter-widgets/controls",
      "_view_module_version": "1.5.0",
      "_view_name": "HTMLView",
      "description": "",
      "description_tooltip": null,
      "layout": "IPY_MODEL_97ee7ad9c74c4265bb0d40e3f142ffd2",
      "placeholder": "​",
      "style": "IPY_MODEL_5906798bff0845178f5f08c9408f8c44",
      "value": " 273M/273M [00:01&lt;00:00, 200MB/s]"
     }
    },
    "daa4502802f94ead822826c9125139d0": {
     "model_module": "@jupyter-widgets/base",
     "model_module_version": "1.2.0",
     "model_name": "LayoutModel",
     "state": {
      "_model_module": "@jupyter-widgets/base",
      "_model_module_version": "1.2.0",
      "_model_name": "LayoutModel",
      "_view_count": null,
      "_view_module": "@jupyter-widgets/base",
      "_view_module_version": "1.2.0",
      "_view_name": "LayoutView",
      "align_content": null,
      "align_items": null,
      "align_self": null,
      "border": null,
      "bottom": null,
      "display": null,
      "flex": null,
      "flex_flow": null,
      "grid_area": null,
      "grid_auto_columns": null,
      "grid_auto_flow": null,
      "grid_auto_rows": null,
      "grid_column": null,
      "grid_gap": null,
      "grid_row": null,
      "grid_template_areas": null,
      "grid_template_columns": null,
      "grid_template_rows": null,
      "height": null,
      "justify_content": null,
      "justify_items": null,
      "left": null,
      "margin": null,
      "max_height": null,
      "max_width": null,
      "min_height": null,
      "min_width": null,
      "object_fit": null,
      "object_position": null,
      "order": null,
      "overflow": null,
      "overflow_x": null,
      "overflow_y": null,
      "padding": null,
      "right": null,
      "top": null,
      "visibility": null,
      "width": null
     }
    },
    "eb5098d287a5485b9f9992f38a478c1e": {
     "model_module": "@jupyter-widgets/base",
     "model_module_version": "1.2.0",
     "model_name": "LayoutModel",
     "state": {
      "_model_module": "@jupyter-widgets/base",
      "_model_module_version": "1.2.0",
      "_model_name": "LayoutModel",
      "_view_count": null,
      "_view_module": "@jupyter-widgets/base",
      "_view_module_version": "1.2.0",
      "_view_name": "LayoutView",
      "align_content": null,
      "align_items": null,
      "align_self": null,
      "border": null,
      "bottom": null,
      "display": null,
      "flex": null,
      "flex_flow": null,
      "grid_area": null,
      "grid_auto_columns": null,
      "grid_auto_flow": null,
      "grid_auto_rows": null,
      "grid_column": null,
      "grid_gap": null,
      "grid_row": null,
      "grid_template_areas": null,
      "grid_template_columns": null,
      "grid_template_rows": null,
      "height": null,
      "justify_content": null,
      "justify_items": null,
      "left": null,
      "margin": null,
      "max_height": null,
      "max_width": null,
      "min_height": null,
      "min_width": null,
      "object_fit": null,
      "object_position": null,
      "order": null,
      "overflow": null,
      "overflow_x": null,
      "overflow_y": null,
      "padding": null,
      "right": null,
      "top": null,
      "visibility": null,
      "width": null
     }
    }
   }
  }
 },
 "nbformat": 4,
 "nbformat_minor": 1
}
