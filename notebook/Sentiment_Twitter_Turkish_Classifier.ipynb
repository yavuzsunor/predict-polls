{
  "nbformat": 4,
  "nbformat_minor": 0,
  "metadata": {
    "colab": {
      "provenance": [],
      "gpuType": "T4"
    },
    "kernelspec": {
      "name": "python3",
      "display_name": "Python 3"
    },
    "language_info": {
      "name": "python"
    },
    "accelerator": "GPU",
    "widgets": {
      "application/vnd.jupyter.widget-state+json": {
        "899ea4222d1f42bfa448b8d70c744bd8": {
          "model_module": "@jupyter-widgets/controls",
          "model_name": "HBoxModel",
          "model_module_version": "1.5.0",
          "state": {
            "_dom_classes": [],
            "_model_module": "@jupyter-widgets/controls",
            "_model_module_version": "1.5.0",
            "_model_name": "HBoxModel",
            "_view_count": null,
            "_view_module": "@jupyter-widgets/controls",
            "_view_module_version": "1.5.0",
            "_view_name": "HBoxView",
            "box_style": "",
            "children": [
              "IPY_MODEL_5c5e25c6c2c048458ee679f74fb35245",
              "IPY_MODEL_92224905f7c047bda79c5889be4ee265",
              "IPY_MODEL_af0e09bcdac74a76832a874f6aa53ed8"
            ],
            "layout": "IPY_MODEL_babc6fd1e6104d279553368d8c5295c1"
          }
        },
        "5c5e25c6c2c048458ee679f74fb35245": {
          "model_module": "@jupyter-widgets/controls",
          "model_name": "HTMLModel",
          "model_module_version": "1.5.0",
          "state": {
            "_dom_classes": [],
            "_model_module": "@jupyter-widgets/controls",
            "_model_module_version": "1.5.0",
            "_model_name": "HTMLModel",
            "_view_count": null,
            "_view_module": "@jupyter-widgets/controls",
            "_view_module_version": "1.5.0",
            "_view_name": "HTMLView",
            "description": "",
            "description_tooltip": null,
            "layout": "IPY_MODEL_592b604789f348f69cccd1a4ba63ec75",
            "placeholder": "​",
            "style": "IPY_MODEL_d1dcab75cb4c430fa145af3f43112ffc",
            "value": "Downloading (…)okenizer_config.json: 100%"
          }
        },
        "92224905f7c047bda79c5889be4ee265": {
          "model_module": "@jupyter-widgets/controls",
          "model_name": "FloatProgressModel",
          "model_module_version": "1.5.0",
          "state": {
            "_dom_classes": [],
            "_model_module": "@jupyter-widgets/controls",
            "_model_module_version": "1.5.0",
            "_model_name": "FloatProgressModel",
            "_view_count": null,
            "_view_module": "@jupyter-widgets/controls",
            "_view_module_version": "1.5.0",
            "_view_name": "ProgressView",
            "bar_style": "success",
            "description": "",
            "description_tooltip": null,
            "layout": "IPY_MODEL_6aaba44846254b5a85c985c7f6606fb6",
            "max": 60,
            "min": 0,
            "orientation": "horizontal",
            "style": "IPY_MODEL_02e9949a794945b1baa843cfae83f795",
            "value": 60
          }
        },
        "af0e09bcdac74a76832a874f6aa53ed8": {
          "model_module": "@jupyter-widgets/controls",
          "model_name": "HTMLModel",
          "model_module_version": "1.5.0",
          "state": {
            "_dom_classes": [],
            "_model_module": "@jupyter-widgets/controls",
            "_model_module_version": "1.5.0",
            "_model_name": "HTMLModel",
            "_view_count": null,
            "_view_module": "@jupyter-widgets/controls",
            "_view_module_version": "1.5.0",
            "_view_name": "HTMLView",
            "description": "",
            "description_tooltip": null,
            "layout": "IPY_MODEL_4377b08d5be34a0aa00780e8c3bba734",
            "placeholder": "​",
            "style": "IPY_MODEL_750bcbcb676d413797bb3171777eb64d",
            "value": " 60.0/60.0 [00:00&lt;00:00, 2.69kB/s]"
          }
        },
        "babc6fd1e6104d279553368d8c5295c1": {
          "model_module": "@jupyter-widgets/base",
          "model_name": "LayoutModel",
          "model_module_version": "1.2.0",
          "state": {
            "_model_module": "@jupyter-widgets/base",
            "_model_module_version": "1.2.0",
            "_model_name": "LayoutModel",
            "_view_count": null,
            "_view_module": "@jupyter-widgets/base",
            "_view_module_version": "1.2.0",
            "_view_name": "LayoutView",
            "align_content": null,
            "align_items": null,
            "align_self": null,
            "border": null,
            "bottom": null,
            "display": null,
            "flex": null,
            "flex_flow": null,
            "grid_area": null,
            "grid_auto_columns": null,
            "grid_auto_flow": null,
            "grid_auto_rows": null,
            "grid_column": null,
            "grid_gap": null,
            "grid_row": null,
            "grid_template_areas": null,
            "grid_template_columns": null,
            "grid_template_rows": null,
            "height": null,
            "justify_content": null,
            "justify_items": null,
            "left": null,
            "margin": null,
            "max_height": null,
            "max_width": null,
            "min_height": null,
            "min_width": null,
            "object_fit": null,
            "object_position": null,
            "order": null,
            "overflow": null,
            "overflow_x": null,
            "overflow_y": null,
            "padding": null,
            "right": null,
            "top": null,
            "visibility": null,
            "width": null
          }
        },
        "592b604789f348f69cccd1a4ba63ec75": {
          "model_module": "@jupyter-widgets/base",
          "model_name": "LayoutModel",
          "model_module_version": "1.2.0",
          "state": {
            "_model_module": "@jupyter-widgets/base",
            "_model_module_version": "1.2.0",
            "_model_name": "LayoutModel",
            "_view_count": null,
            "_view_module": "@jupyter-widgets/base",
            "_view_module_version": "1.2.0",
            "_view_name": "LayoutView",
            "align_content": null,
            "align_items": null,
            "align_self": null,
            "border": null,
            "bottom": null,
            "display": null,
            "flex": null,
            "flex_flow": null,
            "grid_area": null,
            "grid_auto_columns": null,
            "grid_auto_flow": null,
            "grid_auto_rows": null,
            "grid_column": null,
            "grid_gap": null,
            "grid_row": null,
            "grid_template_areas": null,
            "grid_template_columns": null,
            "grid_template_rows": null,
            "height": null,
            "justify_content": null,
            "justify_items": null,
            "left": null,
            "margin": null,
            "max_height": null,
            "max_width": null,
            "min_height": null,
            "min_width": null,
            "object_fit": null,
            "object_position": null,
            "order": null,
            "overflow": null,
            "overflow_x": null,
            "overflow_y": null,
            "padding": null,
            "right": null,
            "top": null,
            "visibility": null,
            "width": null
          }
        },
        "d1dcab75cb4c430fa145af3f43112ffc": {
          "model_module": "@jupyter-widgets/controls",
          "model_name": "DescriptionStyleModel",
          "model_module_version": "1.5.0",
          "state": {
            "_model_module": "@jupyter-widgets/controls",
            "_model_module_version": "1.5.0",
            "_model_name": "DescriptionStyleModel",
            "_view_count": null,
            "_view_module": "@jupyter-widgets/base",
            "_view_module_version": "1.2.0",
            "_view_name": "StyleView",
            "description_width": ""
          }
        },
        "6aaba44846254b5a85c985c7f6606fb6": {
          "model_module": "@jupyter-widgets/base",
          "model_name": "LayoutModel",
          "model_module_version": "1.2.0",
          "state": {
            "_model_module": "@jupyter-widgets/base",
            "_model_module_version": "1.2.0",
            "_model_name": "LayoutModel",
            "_view_count": null,
            "_view_module": "@jupyter-widgets/base",
            "_view_module_version": "1.2.0",
            "_view_name": "LayoutView",
            "align_content": null,
            "align_items": null,
            "align_self": null,
            "border": null,
            "bottom": null,
            "display": null,
            "flex": null,
            "flex_flow": null,
            "grid_area": null,
            "grid_auto_columns": null,
            "grid_auto_flow": null,
            "grid_auto_rows": null,
            "grid_column": null,
            "grid_gap": null,
            "grid_row": null,
            "grid_template_areas": null,
            "grid_template_columns": null,
            "grid_template_rows": null,
            "height": null,
            "justify_content": null,
            "justify_items": null,
            "left": null,
            "margin": null,
            "max_height": null,
            "max_width": null,
            "min_height": null,
            "min_width": null,
            "object_fit": null,
            "object_position": null,
            "order": null,
            "overflow": null,
            "overflow_x": null,
            "overflow_y": null,
            "padding": null,
            "right": null,
            "top": null,
            "visibility": null,
            "width": null
          }
        },
        "02e9949a794945b1baa843cfae83f795": {
          "model_module": "@jupyter-widgets/controls",
          "model_name": "ProgressStyleModel",
          "model_module_version": "1.5.0",
          "state": {
            "_model_module": "@jupyter-widgets/controls",
            "_model_module_version": "1.5.0",
            "_model_name": "ProgressStyleModel",
            "_view_count": null,
            "_view_module": "@jupyter-widgets/base",
            "_view_module_version": "1.2.0",
            "_view_name": "StyleView",
            "bar_color": null,
            "description_width": ""
          }
        },
        "4377b08d5be34a0aa00780e8c3bba734": {
          "model_module": "@jupyter-widgets/base",
          "model_name": "LayoutModel",
          "model_module_version": "1.2.0",
          "state": {
            "_model_module": "@jupyter-widgets/base",
            "_model_module_version": "1.2.0",
            "_model_name": "LayoutModel",
            "_view_count": null,
            "_view_module": "@jupyter-widgets/base",
            "_view_module_version": "1.2.0",
            "_view_name": "LayoutView",
            "align_content": null,
            "align_items": null,
            "align_self": null,
            "border": null,
            "bottom": null,
            "display": null,
            "flex": null,
            "flex_flow": null,
            "grid_area": null,
            "grid_auto_columns": null,
            "grid_auto_flow": null,
            "grid_auto_rows": null,
            "grid_column": null,
            "grid_gap": null,
            "grid_row": null,
            "grid_template_areas": null,
            "grid_template_columns": null,
            "grid_template_rows": null,
            "height": null,
            "justify_content": null,
            "justify_items": null,
            "left": null,
            "margin": null,
            "max_height": null,
            "max_width": null,
            "min_height": null,
            "min_width": null,
            "object_fit": null,
            "object_position": null,
            "order": null,
            "overflow": null,
            "overflow_x": null,
            "overflow_y": null,
            "padding": null,
            "right": null,
            "top": null,
            "visibility": null,
            "width": null
          }
        },
        "750bcbcb676d413797bb3171777eb64d": {
          "model_module": "@jupyter-widgets/controls",
          "model_name": "DescriptionStyleModel",
          "model_module_version": "1.5.0",
          "state": {
            "_model_module": "@jupyter-widgets/controls",
            "_model_module_version": "1.5.0",
            "_model_name": "DescriptionStyleModel",
            "_view_count": null,
            "_view_module": "@jupyter-widgets/base",
            "_view_module_version": "1.2.0",
            "_view_name": "StyleView",
            "description_width": ""
          }
        },
        "10f5b66de01d425eafda9ff3604bc2e2": {
          "model_module": "@jupyter-widgets/controls",
          "model_name": "HBoxModel",
          "model_module_version": "1.5.0",
          "state": {
            "_dom_classes": [],
            "_model_module": "@jupyter-widgets/controls",
            "_model_module_version": "1.5.0",
            "_model_name": "HBoxModel",
            "_view_count": null,
            "_view_module": "@jupyter-widgets/controls",
            "_view_module_version": "1.5.0",
            "_view_name": "HBoxView",
            "box_style": "",
            "children": [
              "IPY_MODEL_e6bff31b1b8f433d8adabce27f2f856c",
              "IPY_MODEL_b36f2b4780724c449efb39f76acea246",
              "IPY_MODEL_e477a66d18ef41e59143fb5c7ac10251"
            ],
            "layout": "IPY_MODEL_91f3c47dff40443c828cc83ffca628a9"
          }
        },
        "e6bff31b1b8f433d8adabce27f2f856c": {
          "model_module": "@jupyter-widgets/controls",
          "model_name": "HTMLModel",
          "model_module_version": "1.5.0",
          "state": {
            "_dom_classes": [],
            "_model_module": "@jupyter-widgets/controls",
            "_model_module_version": "1.5.0",
            "_model_name": "HTMLModel",
            "_view_count": null,
            "_view_module": "@jupyter-widgets/controls",
            "_view_module_version": "1.5.0",
            "_view_name": "HTMLView",
            "description": "",
            "description_tooltip": null,
            "layout": "IPY_MODEL_b2c1da4dd4244cb59fa514a1ed69590a",
            "placeholder": "​",
            "style": "IPY_MODEL_456eb11366ce4629a7cca2e78bc6bca3",
            "value": "Downloading (…)lve/main/config.json: 100%"
          }
        },
        "b36f2b4780724c449efb39f76acea246": {
          "model_module": "@jupyter-widgets/controls",
          "model_name": "FloatProgressModel",
          "model_module_version": "1.5.0",
          "state": {
            "_dom_classes": [],
            "_model_module": "@jupyter-widgets/controls",
            "_model_module_version": "1.5.0",
            "_model_name": "FloatProgressModel",
            "_view_count": null,
            "_view_module": "@jupyter-widgets/controls",
            "_view_module_version": "1.5.0",
            "_view_name": "ProgressView",
            "bar_style": "success",
            "description": "",
            "description_tooltip": null,
            "layout": "IPY_MODEL_f1311d91af454449977f3e5bded146cd",
            "max": 385,
            "min": 0,
            "orientation": "horizontal",
            "style": "IPY_MODEL_78ac20b3c04147ee88ae4663d9b3fe75",
            "value": 385
          }
        },
        "e477a66d18ef41e59143fb5c7ac10251": {
          "model_module": "@jupyter-widgets/controls",
          "model_name": "HTMLModel",
          "model_module_version": "1.5.0",
          "state": {
            "_dom_classes": [],
            "_model_module": "@jupyter-widgets/controls",
            "_model_module_version": "1.5.0",
            "_model_name": "HTMLModel",
            "_view_count": null,
            "_view_module": "@jupyter-widgets/controls",
            "_view_module_version": "1.5.0",
            "_view_name": "HTMLView",
            "description": "",
            "description_tooltip": null,
            "layout": "IPY_MODEL_bb3efa62bbbe4a5d8ede7fb6520b6c0e",
            "placeholder": "​",
            "style": "IPY_MODEL_f84d211d7f68473db8fdc8f18401a881",
            "value": " 385/385 [00:00&lt;00:00, 24.2kB/s]"
          }
        },
        "91f3c47dff40443c828cc83ffca628a9": {
          "model_module": "@jupyter-widgets/base",
          "model_name": "LayoutModel",
          "model_module_version": "1.2.0",
          "state": {
            "_model_module": "@jupyter-widgets/base",
            "_model_module_version": "1.2.0",
            "_model_name": "LayoutModel",
            "_view_count": null,
            "_view_module": "@jupyter-widgets/base",
            "_view_module_version": "1.2.0",
            "_view_name": "LayoutView",
            "align_content": null,
            "align_items": null,
            "align_self": null,
            "border": null,
            "bottom": null,
            "display": null,
            "flex": null,
            "flex_flow": null,
            "grid_area": null,
            "grid_auto_columns": null,
            "grid_auto_flow": null,
            "grid_auto_rows": null,
            "grid_column": null,
            "grid_gap": null,
            "grid_row": null,
            "grid_template_areas": null,
            "grid_template_columns": null,
            "grid_template_rows": null,
            "height": null,
            "justify_content": null,
            "justify_items": null,
            "left": null,
            "margin": null,
            "max_height": null,
            "max_width": null,
            "min_height": null,
            "min_width": null,
            "object_fit": null,
            "object_position": null,
            "order": null,
            "overflow": null,
            "overflow_x": null,
            "overflow_y": null,
            "padding": null,
            "right": null,
            "top": null,
            "visibility": null,
            "width": null
          }
        },
        "b2c1da4dd4244cb59fa514a1ed69590a": {
          "model_module": "@jupyter-widgets/base",
          "model_name": "LayoutModel",
          "model_module_version": "1.2.0",
          "state": {
            "_model_module": "@jupyter-widgets/base",
            "_model_module_version": "1.2.0",
            "_model_name": "LayoutModel",
            "_view_count": null,
            "_view_module": "@jupyter-widgets/base",
            "_view_module_version": "1.2.0",
            "_view_name": "LayoutView",
            "align_content": null,
            "align_items": null,
            "align_self": null,
            "border": null,
            "bottom": null,
            "display": null,
            "flex": null,
            "flex_flow": null,
            "grid_area": null,
            "grid_auto_columns": null,
            "grid_auto_flow": null,
            "grid_auto_rows": null,
            "grid_column": null,
            "grid_gap": null,
            "grid_row": null,
            "grid_template_areas": null,
            "grid_template_columns": null,
            "grid_template_rows": null,
            "height": null,
            "justify_content": null,
            "justify_items": null,
            "left": null,
            "margin": null,
            "max_height": null,
            "max_width": null,
            "min_height": null,
            "min_width": null,
            "object_fit": null,
            "object_position": null,
            "order": null,
            "overflow": null,
            "overflow_x": null,
            "overflow_y": null,
            "padding": null,
            "right": null,
            "top": null,
            "visibility": null,
            "width": null
          }
        },
        "456eb11366ce4629a7cca2e78bc6bca3": {
          "model_module": "@jupyter-widgets/controls",
          "model_name": "DescriptionStyleModel",
          "model_module_version": "1.5.0",
          "state": {
            "_model_module": "@jupyter-widgets/controls",
            "_model_module_version": "1.5.0",
            "_model_name": "DescriptionStyleModel",
            "_view_count": null,
            "_view_module": "@jupyter-widgets/base",
            "_view_module_version": "1.2.0",
            "_view_name": "StyleView",
            "description_width": ""
          }
        },
        "f1311d91af454449977f3e5bded146cd": {
          "model_module": "@jupyter-widgets/base",
          "model_name": "LayoutModel",
          "model_module_version": "1.2.0",
          "state": {
            "_model_module": "@jupyter-widgets/base",
            "_model_module_version": "1.2.0",
            "_model_name": "LayoutModel",
            "_view_count": null,
            "_view_module": "@jupyter-widgets/base",
            "_view_module_version": "1.2.0",
            "_view_name": "LayoutView",
            "align_content": null,
            "align_items": null,
            "align_self": null,
            "border": null,
            "bottom": null,
            "display": null,
            "flex": null,
            "flex_flow": null,
            "grid_area": null,
            "grid_auto_columns": null,
            "grid_auto_flow": null,
            "grid_auto_rows": null,
            "grid_column": null,
            "grid_gap": null,
            "grid_row": null,
            "grid_template_areas": null,
            "grid_template_columns": null,
            "grid_template_rows": null,
            "height": null,
            "justify_content": null,
            "justify_items": null,
            "left": null,
            "margin": null,
            "max_height": null,
            "max_width": null,
            "min_height": null,
            "min_width": null,
            "object_fit": null,
            "object_position": null,
            "order": null,
            "overflow": null,
            "overflow_x": null,
            "overflow_y": null,
            "padding": null,
            "right": null,
            "top": null,
            "visibility": null,
            "width": null
          }
        },
        "78ac20b3c04147ee88ae4663d9b3fe75": {
          "model_module": "@jupyter-widgets/controls",
          "model_name": "ProgressStyleModel",
          "model_module_version": "1.5.0",
          "state": {
            "_model_module": "@jupyter-widgets/controls",
            "_model_module_version": "1.5.0",
            "_model_name": "ProgressStyleModel",
            "_view_count": null,
            "_view_module": "@jupyter-widgets/base",
            "_view_module_version": "1.2.0",
            "_view_name": "StyleView",
            "bar_color": null,
            "description_width": ""
          }
        },
        "bb3efa62bbbe4a5d8ede7fb6520b6c0e": {
          "model_module": "@jupyter-widgets/base",
          "model_name": "LayoutModel",
          "model_module_version": "1.2.0",
          "state": {
            "_model_module": "@jupyter-widgets/base",
            "_model_module_version": "1.2.0",
            "_model_name": "LayoutModel",
            "_view_count": null,
            "_view_module": "@jupyter-widgets/base",
            "_view_module_version": "1.2.0",
            "_view_name": "LayoutView",
            "align_content": null,
            "align_items": null,
            "align_self": null,
            "border": null,
            "bottom": null,
            "display": null,
            "flex": null,
            "flex_flow": null,
            "grid_area": null,
            "grid_auto_columns": null,
            "grid_auto_flow": null,
            "grid_auto_rows": null,
            "grid_column": null,
            "grid_gap": null,
            "grid_row": null,
            "grid_template_areas": null,
            "grid_template_columns": null,
            "grid_template_rows": null,
            "height": null,
            "justify_content": null,
            "justify_items": null,
            "left": null,
            "margin": null,
            "max_height": null,
            "max_width": null,
            "min_height": null,
            "min_width": null,
            "object_fit": null,
            "object_position": null,
            "order": null,
            "overflow": null,
            "overflow_x": null,
            "overflow_y": null,
            "padding": null,
            "right": null,
            "top": null,
            "visibility": null,
            "width": null
          }
        },
        "f84d211d7f68473db8fdc8f18401a881": {
          "model_module": "@jupyter-widgets/controls",
          "model_name": "DescriptionStyleModel",
          "model_module_version": "1.5.0",
          "state": {
            "_model_module": "@jupyter-widgets/controls",
            "_model_module_version": "1.5.0",
            "_model_name": "DescriptionStyleModel",
            "_view_count": null,
            "_view_module": "@jupyter-widgets/base",
            "_view_module_version": "1.2.0",
            "_view_name": "StyleView",
            "description_width": ""
          }
        },
        "a655337b5fbf4492ac1d2e1d26db9865": {
          "model_module": "@jupyter-widgets/controls",
          "model_name": "HBoxModel",
          "model_module_version": "1.5.0",
          "state": {
            "_dom_classes": [],
            "_model_module": "@jupyter-widgets/controls",
            "_model_module_version": "1.5.0",
            "_model_name": "HBoxModel",
            "_view_count": null,
            "_view_module": "@jupyter-widgets/controls",
            "_view_module_version": "1.5.0",
            "_view_name": "HBoxView",
            "box_style": "",
            "children": [
              "IPY_MODEL_77c3f0a5393242ba994ca3aad02336ab",
              "IPY_MODEL_9279f7223a4a4f03bb9120c826ed03b3",
              "IPY_MODEL_cc312955160a4e50a9adc233e90e74b3"
            ],
            "layout": "IPY_MODEL_69062390a50f4fd38cc5a318cccd12df"
          }
        },
        "77c3f0a5393242ba994ca3aad02336ab": {
          "model_module": "@jupyter-widgets/controls",
          "model_name": "HTMLModel",
          "model_module_version": "1.5.0",
          "state": {
            "_dom_classes": [],
            "_model_module": "@jupyter-widgets/controls",
            "_model_module_version": "1.5.0",
            "_model_name": "HTMLModel",
            "_view_count": null,
            "_view_module": "@jupyter-widgets/controls",
            "_view_module_version": "1.5.0",
            "_view_name": "HTMLView",
            "description": "",
            "description_tooltip": null,
            "layout": "IPY_MODEL_8d90f5c2b02a46f78c88d8e314a00260",
            "placeholder": "​",
            "style": "IPY_MODEL_3f6987b5e8d64076a1bcf34da89d9042",
            "value": "Downloading (…)solve/main/vocab.txt: 100%"
          }
        },
        "9279f7223a4a4f03bb9120c826ed03b3": {
          "model_module": "@jupyter-widgets/controls",
          "model_name": "FloatProgressModel",
          "model_module_version": "1.5.0",
          "state": {
            "_dom_classes": [],
            "_model_module": "@jupyter-widgets/controls",
            "_model_module_version": "1.5.0",
            "_model_name": "FloatProgressModel",
            "_view_count": null,
            "_view_module": "@jupyter-widgets/controls",
            "_view_module_version": "1.5.0",
            "_view_name": "ProgressView",
            "bar_style": "success",
            "description": "",
            "description_tooltip": null,
            "layout": "IPY_MODEL_d2082b8cce734f9d97c42d09aea7e813",
            "max": 251003,
            "min": 0,
            "orientation": "horizontal",
            "style": "IPY_MODEL_fe156fa1fa2e4a45b8ac761def622041",
            "value": 251003
          }
        },
        "cc312955160a4e50a9adc233e90e74b3": {
          "model_module": "@jupyter-widgets/controls",
          "model_name": "HTMLModel",
          "model_module_version": "1.5.0",
          "state": {
            "_dom_classes": [],
            "_model_module": "@jupyter-widgets/controls",
            "_model_module_version": "1.5.0",
            "_model_name": "HTMLModel",
            "_view_count": null,
            "_view_module": "@jupyter-widgets/controls",
            "_view_module_version": "1.5.0",
            "_view_name": "HTMLView",
            "description": "",
            "description_tooltip": null,
            "layout": "IPY_MODEL_2c54777f1cc34dfe94f9f49880b514fe",
            "placeholder": "​",
            "style": "IPY_MODEL_607a2008779f4203a12675129d53844e",
            "value": " 251k/251k [00:00&lt;00:00, 5.38MB/s]"
          }
        },
        "69062390a50f4fd38cc5a318cccd12df": {
          "model_module": "@jupyter-widgets/base",
          "model_name": "LayoutModel",
          "model_module_version": "1.2.0",
          "state": {
            "_model_module": "@jupyter-widgets/base",
            "_model_module_version": "1.2.0",
            "_model_name": "LayoutModel",
            "_view_count": null,
            "_view_module": "@jupyter-widgets/base",
            "_view_module_version": "1.2.0",
            "_view_name": "LayoutView",
            "align_content": null,
            "align_items": null,
            "align_self": null,
            "border": null,
            "bottom": null,
            "display": null,
            "flex": null,
            "flex_flow": null,
            "grid_area": null,
            "grid_auto_columns": null,
            "grid_auto_flow": null,
            "grid_auto_rows": null,
            "grid_column": null,
            "grid_gap": null,
            "grid_row": null,
            "grid_template_areas": null,
            "grid_template_columns": null,
            "grid_template_rows": null,
            "height": null,
            "justify_content": null,
            "justify_items": null,
            "left": null,
            "margin": null,
            "max_height": null,
            "max_width": null,
            "min_height": null,
            "min_width": null,
            "object_fit": null,
            "object_position": null,
            "order": null,
            "overflow": null,
            "overflow_x": null,
            "overflow_y": null,
            "padding": null,
            "right": null,
            "top": null,
            "visibility": null,
            "width": null
          }
        },
        "8d90f5c2b02a46f78c88d8e314a00260": {
          "model_module": "@jupyter-widgets/base",
          "model_name": "LayoutModel",
          "model_module_version": "1.2.0",
          "state": {
            "_model_module": "@jupyter-widgets/base",
            "_model_module_version": "1.2.0",
            "_model_name": "LayoutModel",
            "_view_count": null,
            "_view_module": "@jupyter-widgets/base",
            "_view_module_version": "1.2.0",
            "_view_name": "LayoutView",
            "align_content": null,
            "align_items": null,
            "align_self": null,
            "border": null,
            "bottom": null,
            "display": null,
            "flex": null,
            "flex_flow": null,
            "grid_area": null,
            "grid_auto_columns": null,
            "grid_auto_flow": null,
            "grid_auto_rows": null,
            "grid_column": null,
            "grid_gap": null,
            "grid_row": null,
            "grid_template_areas": null,
            "grid_template_columns": null,
            "grid_template_rows": null,
            "height": null,
            "justify_content": null,
            "justify_items": null,
            "left": null,
            "margin": null,
            "max_height": null,
            "max_width": null,
            "min_height": null,
            "min_width": null,
            "object_fit": null,
            "object_position": null,
            "order": null,
            "overflow": null,
            "overflow_x": null,
            "overflow_y": null,
            "padding": null,
            "right": null,
            "top": null,
            "visibility": null,
            "width": null
          }
        },
        "3f6987b5e8d64076a1bcf34da89d9042": {
          "model_module": "@jupyter-widgets/controls",
          "model_name": "DescriptionStyleModel",
          "model_module_version": "1.5.0",
          "state": {
            "_model_module": "@jupyter-widgets/controls",
            "_model_module_version": "1.5.0",
            "_model_name": "DescriptionStyleModel",
            "_view_count": null,
            "_view_module": "@jupyter-widgets/base",
            "_view_module_version": "1.2.0",
            "_view_name": "StyleView",
            "description_width": ""
          }
        },
        "d2082b8cce734f9d97c42d09aea7e813": {
          "model_module": "@jupyter-widgets/base",
          "model_name": "LayoutModel",
          "model_module_version": "1.2.0",
          "state": {
            "_model_module": "@jupyter-widgets/base",
            "_model_module_version": "1.2.0",
            "_model_name": "LayoutModel",
            "_view_count": null,
            "_view_module": "@jupyter-widgets/base",
            "_view_module_version": "1.2.0",
            "_view_name": "LayoutView",
            "align_content": null,
            "align_items": null,
            "align_self": null,
            "border": null,
            "bottom": null,
            "display": null,
            "flex": null,
            "flex_flow": null,
            "grid_area": null,
            "grid_auto_columns": null,
            "grid_auto_flow": null,
            "grid_auto_rows": null,
            "grid_column": null,
            "grid_gap": null,
            "grid_row": null,
            "grid_template_areas": null,
            "grid_template_columns": null,
            "grid_template_rows": null,
            "height": null,
            "justify_content": null,
            "justify_items": null,
            "left": null,
            "margin": null,
            "max_height": null,
            "max_width": null,
            "min_height": null,
            "min_width": null,
            "object_fit": null,
            "object_position": null,
            "order": null,
            "overflow": null,
            "overflow_x": null,
            "overflow_y": null,
            "padding": null,
            "right": null,
            "top": null,
            "visibility": null,
            "width": null
          }
        },
        "fe156fa1fa2e4a45b8ac761def622041": {
          "model_module": "@jupyter-widgets/controls",
          "model_name": "ProgressStyleModel",
          "model_module_version": "1.5.0",
          "state": {
            "_model_module": "@jupyter-widgets/controls",
            "_model_module_version": "1.5.0",
            "_model_name": "ProgressStyleModel",
            "_view_count": null,
            "_view_module": "@jupyter-widgets/base",
            "_view_module_version": "1.2.0",
            "_view_name": "StyleView",
            "bar_color": null,
            "description_width": ""
          }
        },
        "2c54777f1cc34dfe94f9f49880b514fe": {
          "model_module": "@jupyter-widgets/base",
          "model_name": "LayoutModel",
          "model_module_version": "1.2.0",
          "state": {
            "_model_module": "@jupyter-widgets/base",
            "_model_module_version": "1.2.0",
            "_model_name": "LayoutModel",
            "_view_count": null,
            "_view_module": "@jupyter-widgets/base",
            "_view_module_version": "1.2.0",
            "_view_name": "LayoutView",
            "align_content": null,
            "align_items": null,
            "align_self": null,
            "border": null,
            "bottom": null,
            "display": null,
            "flex": null,
            "flex_flow": null,
            "grid_area": null,
            "grid_auto_columns": null,
            "grid_auto_flow": null,
            "grid_auto_rows": null,
            "grid_column": null,
            "grid_gap": null,
            "grid_row": null,
            "grid_template_areas": null,
            "grid_template_columns": null,
            "grid_template_rows": null,
            "height": null,
            "justify_content": null,
            "justify_items": null,
            "left": null,
            "margin": null,
            "max_height": null,
            "max_width": null,
            "min_height": null,
            "min_width": null,
            "object_fit": null,
            "object_position": null,
            "order": null,
            "overflow": null,
            "overflow_x": null,
            "overflow_y": null,
            "padding": null,
            "right": null,
            "top": null,
            "visibility": null,
            "width": null
          }
        },
        "607a2008779f4203a12675129d53844e": {
          "model_module": "@jupyter-widgets/controls",
          "model_name": "DescriptionStyleModel",
          "model_module_version": "1.5.0",
          "state": {
            "_model_module": "@jupyter-widgets/controls",
            "_model_module_version": "1.5.0",
            "_model_name": "DescriptionStyleModel",
            "_view_count": null,
            "_view_module": "@jupyter-widgets/base",
            "_view_module_version": "1.2.0",
            "_view_name": "StyleView",
            "description_width": ""
          }
        },
        "cb5e0bec84374332a60f5cd17f9f49eb": {
          "model_module": "@jupyter-widgets/controls",
          "model_name": "HBoxModel",
          "model_module_version": "1.5.0",
          "state": {
            "_dom_classes": [],
            "_model_module": "@jupyter-widgets/controls",
            "_model_module_version": "1.5.0",
            "_model_name": "HBoxModel",
            "_view_count": null,
            "_view_module": "@jupyter-widgets/controls",
            "_view_module_version": "1.5.0",
            "_view_name": "HBoxView",
            "box_style": "",
            "children": [
              "IPY_MODEL_9125f54b2b604cbba684a9094bf4f652",
              "IPY_MODEL_4f416ce87dee4a5184c8f5105270580f",
              "IPY_MODEL_0bd0fbd4b19048f9b4c255986f6abf36"
            ],
            "layout": "IPY_MODEL_fe0a6ca303514fd0ba226aad89b0affe"
          }
        },
        "9125f54b2b604cbba684a9094bf4f652": {
          "model_module": "@jupyter-widgets/controls",
          "model_name": "HTMLModel",
          "model_module_version": "1.5.0",
          "state": {
            "_dom_classes": [],
            "_model_module": "@jupyter-widgets/controls",
            "_model_module_version": "1.5.0",
            "_model_name": "HTMLModel",
            "_view_count": null,
            "_view_module": "@jupyter-widgets/controls",
            "_view_module_version": "1.5.0",
            "_view_name": "HTMLView",
            "description": "",
            "description_tooltip": null,
            "layout": "IPY_MODEL_fbff182e11294ba6b46935ff2b187ae6",
            "placeholder": "​",
            "style": "IPY_MODEL_b07b9f6fa790406dbf982ac5775e05ed",
            "value": "Downloading pytorch_model.bin: 100%"
          }
        },
        "4f416ce87dee4a5184c8f5105270580f": {
          "model_module": "@jupyter-widgets/controls",
          "model_name": "FloatProgressModel",
          "model_module_version": "1.5.0",
          "state": {
            "_dom_classes": [],
            "_model_module": "@jupyter-widgets/controls",
            "_model_module_version": "1.5.0",
            "_model_name": "FloatProgressModel",
            "_view_count": null,
            "_view_module": "@jupyter-widgets/controls",
            "_view_module_version": "1.5.0",
            "_view_name": "ProgressView",
            "bar_style": "success",
            "description": "",
            "description_tooltip": null,
            "layout": "IPY_MODEL_0846082e8ace4e2b938fbc83468c4e1d",
            "max": 445018508,
            "min": 0,
            "orientation": "horizontal",
            "style": "IPY_MODEL_f34b100547bf492a967f7023c739263a",
            "value": 445018508
          }
        },
        "0bd0fbd4b19048f9b4c255986f6abf36": {
          "model_module": "@jupyter-widgets/controls",
          "model_name": "HTMLModel",
          "model_module_version": "1.5.0",
          "state": {
            "_dom_classes": [],
            "_model_module": "@jupyter-widgets/controls",
            "_model_module_version": "1.5.0",
            "_model_name": "HTMLModel",
            "_view_count": null,
            "_view_module": "@jupyter-widgets/controls",
            "_view_module_version": "1.5.0",
            "_view_name": "HTMLView",
            "description": "",
            "description_tooltip": null,
            "layout": "IPY_MODEL_baa954d5cf39496a9bb47801da46c353",
            "placeholder": "​",
            "style": "IPY_MODEL_45dcfd8f84f34d9594297cc73fc3402f",
            "value": " 445M/445M [00:04&lt;00:00, 86.6MB/s]"
          }
        },
        "fe0a6ca303514fd0ba226aad89b0affe": {
          "model_module": "@jupyter-widgets/base",
          "model_name": "LayoutModel",
          "model_module_version": "1.2.0",
          "state": {
            "_model_module": "@jupyter-widgets/base",
            "_model_module_version": "1.2.0",
            "_model_name": "LayoutModel",
            "_view_count": null,
            "_view_module": "@jupyter-widgets/base",
            "_view_module_version": "1.2.0",
            "_view_name": "LayoutView",
            "align_content": null,
            "align_items": null,
            "align_self": null,
            "border": null,
            "bottom": null,
            "display": null,
            "flex": null,
            "flex_flow": null,
            "grid_area": null,
            "grid_auto_columns": null,
            "grid_auto_flow": null,
            "grid_auto_rows": null,
            "grid_column": null,
            "grid_gap": null,
            "grid_row": null,
            "grid_template_areas": null,
            "grid_template_columns": null,
            "grid_template_rows": null,
            "height": null,
            "justify_content": null,
            "justify_items": null,
            "left": null,
            "margin": null,
            "max_height": null,
            "max_width": null,
            "min_height": null,
            "min_width": null,
            "object_fit": null,
            "object_position": null,
            "order": null,
            "overflow": null,
            "overflow_x": null,
            "overflow_y": null,
            "padding": null,
            "right": null,
            "top": null,
            "visibility": null,
            "width": null
          }
        },
        "fbff182e11294ba6b46935ff2b187ae6": {
          "model_module": "@jupyter-widgets/base",
          "model_name": "LayoutModel",
          "model_module_version": "1.2.0",
          "state": {
            "_model_module": "@jupyter-widgets/base",
            "_model_module_version": "1.2.0",
            "_model_name": "LayoutModel",
            "_view_count": null,
            "_view_module": "@jupyter-widgets/base",
            "_view_module_version": "1.2.0",
            "_view_name": "LayoutView",
            "align_content": null,
            "align_items": null,
            "align_self": null,
            "border": null,
            "bottom": null,
            "display": null,
            "flex": null,
            "flex_flow": null,
            "grid_area": null,
            "grid_auto_columns": null,
            "grid_auto_flow": null,
            "grid_auto_rows": null,
            "grid_column": null,
            "grid_gap": null,
            "grid_row": null,
            "grid_template_areas": null,
            "grid_template_columns": null,
            "grid_template_rows": null,
            "height": null,
            "justify_content": null,
            "justify_items": null,
            "left": null,
            "margin": null,
            "max_height": null,
            "max_width": null,
            "min_height": null,
            "min_width": null,
            "object_fit": null,
            "object_position": null,
            "order": null,
            "overflow": null,
            "overflow_x": null,
            "overflow_y": null,
            "padding": null,
            "right": null,
            "top": null,
            "visibility": null,
            "width": null
          }
        },
        "b07b9f6fa790406dbf982ac5775e05ed": {
          "model_module": "@jupyter-widgets/controls",
          "model_name": "DescriptionStyleModel",
          "model_module_version": "1.5.0",
          "state": {
            "_model_module": "@jupyter-widgets/controls",
            "_model_module_version": "1.5.0",
            "_model_name": "DescriptionStyleModel",
            "_view_count": null,
            "_view_module": "@jupyter-widgets/base",
            "_view_module_version": "1.2.0",
            "_view_name": "StyleView",
            "description_width": ""
          }
        },
        "0846082e8ace4e2b938fbc83468c4e1d": {
          "model_module": "@jupyter-widgets/base",
          "model_name": "LayoutModel",
          "model_module_version": "1.2.0",
          "state": {
            "_model_module": "@jupyter-widgets/base",
            "_model_module_version": "1.2.0",
            "_model_name": "LayoutModel",
            "_view_count": null,
            "_view_module": "@jupyter-widgets/base",
            "_view_module_version": "1.2.0",
            "_view_name": "LayoutView",
            "align_content": null,
            "align_items": null,
            "align_self": null,
            "border": null,
            "bottom": null,
            "display": null,
            "flex": null,
            "flex_flow": null,
            "grid_area": null,
            "grid_auto_columns": null,
            "grid_auto_flow": null,
            "grid_auto_rows": null,
            "grid_column": null,
            "grid_gap": null,
            "grid_row": null,
            "grid_template_areas": null,
            "grid_template_columns": null,
            "grid_template_rows": null,
            "height": null,
            "justify_content": null,
            "justify_items": null,
            "left": null,
            "margin": null,
            "max_height": null,
            "max_width": null,
            "min_height": null,
            "min_width": null,
            "object_fit": null,
            "object_position": null,
            "order": null,
            "overflow": null,
            "overflow_x": null,
            "overflow_y": null,
            "padding": null,
            "right": null,
            "top": null,
            "visibility": null,
            "width": null
          }
        },
        "f34b100547bf492a967f7023c739263a": {
          "model_module": "@jupyter-widgets/controls",
          "model_name": "ProgressStyleModel",
          "model_module_version": "1.5.0",
          "state": {
            "_model_module": "@jupyter-widgets/controls",
            "_model_module_version": "1.5.0",
            "_model_name": "ProgressStyleModel",
            "_view_count": null,
            "_view_module": "@jupyter-widgets/base",
            "_view_module_version": "1.2.0",
            "_view_name": "StyleView",
            "bar_color": null,
            "description_width": ""
          }
        },
        "baa954d5cf39496a9bb47801da46c353": {
          "model_module": "@jupyter-widgets/base",
          "model_name": "LayoutModel",
          "model_module_version": "1.2.0",
          "state": {
            "_model_module": "@jupyter-widgets/base",
            "_model_module_version": "1.2.0",
            "_model_name": "LayoutModel",
            "_view_count": null,
            "_view_module": "@jupyter-widgets/base",
            "_view_module_version": "1.2.0",
            "_view_name": "LayoutView",
            "align_content": null,
            "align_items": null,
            "align_self": null,
            "border": null,
            "bottom": null,
            "display": null,
            "flex": null,
            "flex_flow": null,
            "grid_area": null,
            "grid_auto_columns": null,
            "grid_auto_flow": null,
            "grid_auto_rows": null,
            "grid_column": null,
            "grid_gap": null,
            "grid_row": null,
            "grid_template_areas": null,
            "grid_template_columns": null,
            "grid_template_rows": null,
            "height": null,
            "justify_content": null,
            "justify_items": null,
            "left": null,
            "margin": null,
            "max_height": null,
            "max_width": null,
            "min_height": null,
            "min_width": null,
            "object_fit": null,
            "object_position": null,
            "order": null,
            "overflow": null,
            "overflow_x": null,
            "overflow_y": null,
            "padding": null,
            "right": null,
            "top": null,
            "visibility": null,
            "width": null
          }
        },
        "45dcfd8f84f34d9594297cc73fc3402f": {
          "model_module": "@jupyter-widgets/controls",
          "model_name": "DescriptionStyleModel",
          "model_module_version": "1.5.0",
          "state": {
            "_model_module": "@jupyter-widgets/controls",
            "_model_module_version": "1.5.0",
            "_model_name": "DescriptionStyleModel",
            "_view_count": null,
            "_view_module": "@jupyter-widgets/base",
            "_view_module_version": "1.2.0",
            "_view_name": "StyleView",
            "description_width": ""
          }
        }
      }
    }
  },
  "cells": [
    {
      "cell_type": "code",
      "execution_count": null,
      "metadata": {
        "id": "ImrV6alr_AJu",
        "colab": {
          "base_uri": "https://localhost:8080/"
        },
        "outputId": "46b7dbb9-bcbe-4443-ee6d-857c146d9b61"
      },
      "outputs": [
        {
          "output_type": "stream",
          "name": "stdout",
          "text": [
            "Looking in indexes: https://pypi.org/simple, https://us-python.pkg.dev/colab-wheels/public/simple/\n",
            "Collecting transformers\n",
            "  Downloading transformers-4.30.2-py3-none-any.whl (7.2 MB)\n",
            "\u001b[2K     \u001b[90m━━━━━━━━━━━━━━━━━━━━━━━━━━━━━━━━━━━━━━━━\u001b[0m \u001b[32m7.2/7.2 MB\u001b[0m \u001b[31m45.2 MB/s\u001b[0m eta \u001b[36m0:00:00\u001b[0m\n",
            "\u001b[?25hRequirement already satisfied: filelock in /usr/local/lib/python3.10/dist-packages (from transformers) (3.12.0)\n",
            "Collecting huggingface-hub<1.0,>=0.14.1 (from transformers)\n",
            "  Downloading huggingface_hub-0.15.1-py3-none-any.whl (236 kB)\n",
            "\u001b[2K     \u001b[90m━━━━━━━━━━━━━━━━━━━━━━━━━━━━━━━━━━━━━━\u001b[0m \u001b[32m236.8/236.8 kB\u001b[0m \u001b[31m28.0 MB/s\u001b[0m eta \u001b[36m0:00:00\u001b[0m\n",
            "\u001b[?25hRequirement already satisfied: numpy>=1.17 in /usr/local/lib/python3.10/dist-packages (from transformers) (1.22.4)\n",
            "Requirement already satisfied: packaging>=20.0 in /usr/local/lib/python3.10/dist-packages (from transformers) (23.1)\n",
            "Requirement already satisfied: pyyaml>=5.1 in /usr/local/lib/python3.10/dist-packages (from transformers) (6.0)\n",
            "Requirement already satisfied: regex!=2019.12.17 in /usr/local/lib/python3.10/dist-packages (from transformers) (2022.10.31)\n",
            "Requirement already satisfied: requests in /usr/local/lib/python3.10/dist-packages (from transformers) (2.27.1)\n",
            "Collecting tokenizers!=0.11.3,<0.14,>=0.11.1 (from transformers)\n",
            "  Downloading tokenizers-0.13.3-cp310-cp310-manylinux_2_17_x86_64.manylinux2014_x86_64.whl (7.8 MB)\n",
            "\u001b[2K     \u001b[90m━━━━━━━━━━━━━━━━━━━━━━━━━━━━━━━━━━━━━━━━\u001b[0m \u001b[32m7.8/7.8 MB\u001b[0m \u001b[31m39.0 MB/s\u001b[0m eta \u001b[36m0:00:00\u001b[0m\n",
            "\u001b[?25hCollecting safetensors>=0.3.1 (from transformers)\n",
            "  Downloading safetensors-0.3.1-cp310-cp310-manylinux_2_17_x86_64.manylinux2014_x86_64.whl (1.3 MB)\n",
            "\u001b[2K     \u001b[90m━━━━━━━━━━━━━━━━━━━━━━━━━━━━━━━━━━━━━━━━\u001b[0m \u001b[32m1.3/1.3 MB\u001b[0m \u001b[31m50.3 MB/s\u001b[0m eta \u001b[36m0:00:00\u001b[0m\n",
            "\u001b[?25hRequirement already satisfied: tqdm>=4.27 in /usr/local/lib/python3.10/dist-packages (from transformers) (4.65.0)\n",
            "Requirement already satisfied: fsspec in /usr/local/lib/python3.10/dist-packages (from huggingface-hub<1.0,>=0.14.1->transformers) (2023.4.0)\n",
            "Requirement already satisfied: typing-extensions>=3.7.4.3 in /usr/local/lib/python3.10/dist-packages (from huggingface-hub<1.0,>=0.14.1->transformers) (4.5.0)\n",
            "Requirement already satisfied: urllib3<1.27,>=1.21.1 in /usr/local/lib/python3.10/dist-packages (from requests->transformers) (1.26.15)\n",
            "Requirement already satisfied: certifi>=2017.4.17 in /usr/local/lib/python3.10/dist-packages (from requests->transformers) (2022.12.7)\n",
            "Requirement already satisfied: charset-normalizer~=2.0.0 in /usr/local/lib/python3.10/dist-packages (from requests->transformers) (2.0.12)\n",
            "Requirement already satisfied: idna<4,>=2.5 in /usr/local/lib/python3.10/dist-packages (from requests->transformers) (3.4)\n",
            "Installing collected packages: tokenizers, safetensors, huggingface-hub, transformers\n",
            "Successfully installed huggingface-hub-0.15.1 safetensors-0.3.1 tokenizers-0.13.3 transformers-4.30.2\n"
          ]
        }
      ],
      "source": [
        "!pip install transformers"
      ]
    },
    {
      "cell_type": "code",
      "source": [
        "!pip install zemberek-python"
      ],
      "metadata": {
        "colab": {
          "base_uri": "https://localhost:8080/"
        },
        "id": "LXE-pfjKnMC4",
        "outputId": "d2d3193f-db1a-4a4d-f113-c4d56930a7a3"
      },
      "execution_count": null,
      "outputs": [
        {
          "output_type": "stream",
          "name": "stdout",
          "text": [
            "Looking in indexes: https://pypi.org/simple, https://us-python.pkg.dev/colab-wheels/public/simple/\n",
            "Collecting zemberek-python\n",
            "  Downloading zemberek_python-0.2.3-py3-none-any.whl (95.1 MB)\n",
            "\u001b[2K     \u001b[90m━━━━━━━━━━━━━━━━━━━━━━━━━━━━━━━━━━━━━━━━\u001b[0m \u001b[32m95.1/95.1 MB\u001b[0m \u001b[31m9.2 MB/s\u001b[0m eta \u001b[36m0:00:00\u001b[0m\n",
            "\u001b[?25hCollecting antlr4-python3-runtime==4.8 (from zemberek-python)\n",
            "  Downloading antlr4-python3-runtime-4.8.tar.gz (112 kB)\n",
            "\u001b[2K     \u001b[90m━━━━━━━━━━━━━━━━━━━━━━━━━━━━━━━━━━━━━━\u001b[0m \u001b[32m112.4/112.4 kB\u001b[0m \u001b[31m14.8 MB/s\u001b[0m eta \u001b[36m0:00:00\u001b[0m\n",
            "\u001b[?25h  Preparing metadata (setup.py) ... \u001b[?25l\u001b[?25hdone\n",
            "Requirement already satisfied: numpy>=1.19.0 in /usr/local/lib/python3.10/dist-packages (from zemberek-python) (1.22.4)\n",
            "Building wheels for collected packages: antlr4-python3-runtime\n",
            "  Building wheel for antlr4-python3-runtime (setup.py) ... \u001b[?25l\u001b[?25hdone\n",
            "  Created wheel for antlr4-python3-runtime: filename=antlr4_python3_runtime-4.8-py3-none-any.whl size=141210 sha256=cfb9e1255af1e85b6b8ebb39dec612a43839ec6f1ba51f2bf10055466a9fbc53\n",
            "  Stored in directory: /root/.cache/pip/wheels/a7/20/bd/e1477d664f22d99989fd28ee1a43d6633dddb5cb9e801350d5\n",
            "Successfully built antlr4-python3-runtime\n",
            "Installing collected packages: antlr4-python3-runtime, zemberek-python\n",
            "Successfully installed antlr4-python3-runtime-4.8 zemberek-python-0.2.3\n"
          ]
        }
      ]
    },
    {
      "cell_type": "markdown",
      "source": [
        "# 1.Setup"
      ],
      "metadata": {
        "id": "WCzZcQ1UEkmJ"
      }
    },
    {
      "cell_type": "code",
      "source": [
        "import pandas as pd\n",
        "import numpy as np\n",
        "import matplotlib.pyplot as plt"
      ],
      "metadata": {
        "id": "Lfbomf3BFjsw"
      },
      "execution_count": null,
      "outputs": []
    },
    {
      "cell_type": "code",
      "source": [
        "import string\n",
        "from nltk import word_tokenize\n",
        "from nltk.util import ngrams\n",
        "from collections import Counter\n",
        "\n",
        "import nltk\n",
        "nltk.download('stopwords')\n",
        "nltk.download('punkt')\n",
        "from nltk.corpus import stopwords"
      ],
      "metadata": {
        "colab": {
          "base_uri": "https://localhost:8080/"
        },
        "id": "hf8xmvKBLiIC",
        "outputId": "0d005ac4-6aec-4e2c-8114-68e75e8981ab"
      },
      "execution_count": null,
      "outputs": [
        {
          "output_type": "stream",
          "name": "stderr",
          "text": [
            "[nltk_data] Downloading package stopwords to /root/nltk_data...\n",
            "[nltk_data]   Unzipping corpora/stopwords.zip.\n",
            "[nltk_data] Downloading package punkt to /root/nltk_data...\n",
            "[nltk_data]   Unzipping tokenizers/punkt.zip.\n"
          ]
        }
      ]
    },
    {
      "cell_type": "code",
      "source": [
        "import tensorflow as tf\n",
        "\n",
        "# Get the GPU device name.\n",
        "device_name = tf.test.gpu_device_name()\n",
        "\n",
        "# The device name should look like the following:\n",
        "if device_name == '/device:GPU:0':\n",
        "    print('Found GPU at: {}'.format(device_name))\n",
        "else:\n",
        "    raise SystemError('GPU device not found')"
      ],
      "metadata": {
        "colab": {
          "base_uri": "https://localhost:8080/"
        },
        "id": "8MoY48PtAXLr",
        "outputId": "97f0a26d-a60c-433a-8b84-7d8469dc56ec"
      },
      "execution_count": null,
      "outputs": [
        {
          "output_type": "stream",
          "name": "stdout",
          "text": [
            "Found GPU at: /device:GPU:0\n"
          ]
        }
      ]
    },
    {
      "cell_type": "code",
      "source": [
        "import torch\n",
        "\n",
        "# If there's a GPU available...\n",
        "if torch.cuda.is_available():\n",
        "\n",
        "    # Tell PyTorch to use the GPU.\n",
        "    device = torch.device(\"cuda\")\n",
        "\n",
        "    print('There are %d GPU(s) available.' % torch.cuda.device_count())\n",
        "\n",
        "    print('We will use the GPU:', torch.cuda.get_device_name(0))\n",
        "\n",
        "# If not...\n",
        "else:\n",
        "    print('No GPU available, using the CPU instead.')\n",
        "    device = torch.device(\"cpu\")"
      ],
      "metadata": {
        "colab": {
          "base_uri": "https://localhost:8080/"
        },
        "id": "uwZPjx1BAFBY",
        "outputId": "79cd3324-5691-45ed-a6ab-c22dd62be4c7"
      },
      "execution_count": null,
      "outputs": [
        {
          "output_type": "stream",
          "name": "stdout",
          "text": [
            "There are 1 GPU(s) available.\n",
            "We will use the GPU: Tesla T4\n"
          ]
        }
      ]
    },
    {
      "cell_type": "markdown",
      "source": [
        "# 2.Loading Turkish Tweets Dataset"
      ],
      "metadata": {
        "id": "L3iiibj7E5-c"
      }
    },
    {
      "cell_type": "code",
      "source": [
        "from google.colab import files\n",
        "\n",
        "uploaded = files.upload()"
      ],
      "metadata": {
        "colab": {
          "base_uri": "https://localhost:8080/",
          "height": 73
        },
        "id": "kYuwbl_eAkoB",
        "outputId": "41d0cbbb-d0e9-4330-a43b-22c0a04f1c69"
      },
      "execution_count": null,
      "outputs": [
        {
          "output_type": "display_data",
          "data": {
            "text/plain": [
              "<IPython.core.display.HTML object>"
            ],
            "text/html": [
              "\n",
              "     <input type=\"file\" id=\"files-6d3f8779-48f0-42e2-b1d6-13652cd859fb\" name=\"files[]\" multiple disabled\n",
              "        style=\"border:none\" />\n",
              "     <output id=\"result-6d3f8779-48f0-42e2-b1d6-13652cd859fb\">\n",
              "      Upload widget is only available when the cell has been executed in the\n",
              "      current browser session. Please rerun this cell to enable.\n",
              "      </output>\n",
              "      <script>// Copyright 2017 Google LLC\n",
              "//\n",
              "// Licensed under the Apache License, Version 2.0 (the \"License\");\n",
              "// you may not use this file except in compliance with the License.\n",
              "// You may obtain a copy of the License at\n",
              "//\n",
              "//      http://www.apache.org/licenses/LICENSE-2.0\n",
              "//\n",
              "// Unless required by applicable law or agreed to in writing, software\n",
              "// distributed under the License is distributed on an \"AS IS\" BASIS,\n",
              "// WITHOUT WARRANTIES OR CONDITIONS OF ANY KIND, either express or implied.\n",
              "// See the License for the specific language governing permissions and\n",
              "// limitations under the License.\n",
              "\n",
              "/**\n",
              " * @fileoverview Helpers for google.colab Python module.\n",
              " */\n",
              "(function(scope) {\n",
              "function span(text, styleAttributes = {}) {\n",
              "  const element = document.createElement('span');\n",
              "  element.textContent = text;\n",
              "  for (const key of Object.keys(styleAttributes)) {\n",
              "    element.style[key] = styleAttributes[key];\n",
              "  }\n",
              "  return element;\n",
              "}\n",
              "\n",
              "// Max number of bytes which will be uploaded at a time.\n",
              "const MAX_PAYLOAD_SIZE = 100 * 1024;\n",
              "\n",
              "function _uploadFiles(inputId, outputId) {\n",
              "  const steps = uploadFilesStep(inputId, outputId);\n",
              "  const outputElement = document.getElementById(outputId);\n",
              "  // Cache steps on the outputElement to make it available for the next call\n",
              "  // to uploadFilesContinue from Python.\n",
              "  outputElement.steps = steps;\n",
              "\n",
              "  return _uploadFilesContinue(outputId);\n",
              "}\n",
              "\n",
              "// This is roughly an async generator (not supported in the browser yet),\n",
              "// where there are multiple asynchronous steps and the Python side is going\n",
              "// to poll for completion of each step.\n",
              "// This uses a Promise to block the python side on completion of each step,\n",
              "// then passes the result of the previous step as the input to the next step.\n",
              "function _uploadFilesContinue(outputId) {\n",
              "  const outputElement = document.getElementById(outputId);\n",
              "  const steps = outputElement.steps;\n",
              "\n",
              "  const next = steps.next(outputElement.lastPromiseValue);\n",
              "  return Promise.resolve(next.value.promise).then((value) => {\n",
              "    // Cache the last promise value to make it available to the next\n",
              "    // step of the generator.\n",
              "    outputElement.lastPromiseValue = value;\n",
              "    return next.value.response;\n",
              "  });\n",
              "}\n",
              "\n",
              "/**\n",
              " * Generator function which is called between each async step of the upload\n",
              " * process.\n",
              " * @param {string} inputId Element ID of the input file picker element.\n",
              " * @param {string} outputId Element ID of the output display.\n",
              " * @return {!Iterable<!Object>} Iterable of next steps.\n",
              " */\n",
              "function* uploadFilesStep(inputId, outputId) {\n",
              "  const inputElement = document.getElementById(inputId);\n",
              "  inputElement.disabled = false;\n",
              "\n",
              "  const outputElement = document.getElementById(outputId);\n",
              "  outputElement.innerHTML = '';\n",
              "\n",
              "  const pickedPromise = new Promise((resolve) => {\n",
              "    inputElement.addEventListener('change', (e) => {\n",
              "      resolve(e.target.files);\n",
              "    });\n",
              "  });\n",
              "\n",
              "  const cancel = document.createElement('button');\n",
              "  inputElement.parentElement.appendChild(cancel);\n",
              "  cancel.textContent = 'Cancel upload';\n",
              "  const cancelPromise = new Promise((resolve) => {\n",
              "    cancel.onclick = () => {\n",
              "      resolve(null);\n",
              "    };\n",
              "  });\n",
              "\n",
              "  // Wait for the user to pick the files.\n",
              "  const files = yield {\n",
              "    promise: Promise.race([pickedPromise, cancelPromise]),\n",
              "    response: {\n",
              "      action: 'starting',\n",
              "    }\n",
              "  };\n",
              "\n",
              "  cancel.remove();\n",
              "\n",
              "  // Disable the input element since further picks are not allowed.\n",
              "  inputElement.disabled = true;\n",
              "\n",
              "  if (!files) {\n",
              "    return {\n",
              "      response: {\n",
              "        action: 'complete',\n",
              "      }\n",
              "    };\n",
              "  }\n",
              "\n",
              "  for (const file of files) {\n",
              "    const li = document.createElement('li');\n",
              "    li.append(span(file.name, {fontWeight: 'bold'}));\n",
              "    li.append(span(\n",
              "        `(${file.type || 'n/a'}) - ${file.size} bytes, ` +\n",
              "        `last modified: ${\n",
              "            file.lastModifiedDate ? file.lastModifiedDate.toLocaleDateString() :\n",
              "                                    'n/a'} - `));\n",
              "    const percent = span('0% done');\n",
              "    li.appendChild(percent);\n",
              "\n",
              "    outputElement.appendChild(li);\n",
              "\n",
              "    const fileDataPromise = new Promise((resolve) => {\n",
              "      const reader = new FileReader();\n",
              "      reader.onload = (e) => {\n",
              "        resolve(e.target.result);\n",
              "      };\n",
              "      reader.readAsArrayBuffer(file);\n",
              "    });\n",
              "    // Wait for the data to be ready.\n",
              "    let fileData = yield {\n",
              "      promise: fileDataPromise,\n",
              "      response: {\n",
              "        action: 'continue',\n",
              "      }\n",
              "    };\n",
              "\n",
              "    // Use a chunked sending to avoid message size limits. See b/62115660.\n",
              "    let position = 0;\n",
              "    do {\n",
              "      const length = Math.min(fileData.byteLength - position, MAX_PAYLOAD_SIZE);\n",
              "      const chunk = new Uint8Array(fileData, position, length);\n",
              "      position += length;\n",
              "\n",
              "      const base64 = btoa(String.fromCharCode.apply(null, chunk));\n",
              "      yield {\n",
              "        response: {\n",
              "          action: 'append',\n",
              "          file: file.name,\n",
              "          data: base64,\n",
              "        },\n",
              "      };\n",
              "\n",
              "      let percentDone = fileData.byteLength === 0 ?\n",
              "          100 :\n",
              "          Math.round((position / fileData.byteLength) * 100);\n",
              "      percent.textContent = `${percentDone}% done`;\n",
              "\n",
              "    } while (position < fileData.byteLength);\n",
              "  }\n",
              "\n",
              "  // All done.\n",
              "  yield {\n",
              "    response: {\n",
              "      action: 'complete',\n",
              "    }\n",
              "  };\n",
              "}\n",
              "\n",
              "scope.google = scope.google || {};\n",
              "scope.google.colab = scope.google.colab || {};\n",
              "scope.google.colab._files = {\n",
              "  _uploadFiles,\n",
              "  _uploadFilesContinue,\n",
              "};\n",
              "})(self);\n",
              "</script> "
            ]
          },
          "metadata": {}
        },
        {
          "output_type": "stream",
          "name": "stdout",
          "text": [
            "Saving TurkishTweets.xlsx to TurkishTweets.xlsx\n"
          ]
        }
      ]
    },
    {
      "cell_type": "code",
      "source": [
        "dataset_tweets = pd.read_excel('TurkishTweets.xlsx')"
      ],
      "metadata": {
        "id": "es_kKID9Akq8"
      },
      "execution_count": null,
      "outputs": []
    },
    {
      "cell_type": "code",
      "source": [
        "dataset_tweets.info()"
      ],
      "metadata": {
        "colab": {
          "base_uri": "https://localhost:8080/"
        },
        "id": "w63J2f3dAkt-",
        "outputId": "39e44cc0-cd8f-4332-984c-e78e00fd26c4"
      },
      "execution_count": null,
      "outputs": [
        {
          "output_type": "stream",
          "name": "stdout",
          "text": [
            "<class 'pandas.core.frame.DataFrame'>\n",
            "RangeIndex: 4000 entries, 0 to 3999\n",
            "Data columns (total 2 columns):\n",
            " #   Column  Non-Null Count  Dtype \n",
            "---  ------  --------------  ----- \n",
            " 0   Tweet   3999 non-null   object\n",
            " 1   Etiket  4000 non-null   object\n",
            "dtypes: object(2)\n",
            "memory usage: 62.6+ KB\n"
          ]
        }
      ]
    },
    {
      "cell_type": "code",
      "source": [
        "dataset_tweets.Etiket.value_counts()"
      ],
      "metadata": {
        "colab": {
          "base_uri": "https://localhost:8080/"
        },
        "id": "_uDypYUlAkwX",
        "outputId": "47dc1399-76e1-40cf-a505-ddbb8659ba07"
      },
      "execution_count": null,
      "outputs": [
        {
          "output_type": "execute_result",
          "data": {
            "text/plain": [
              "kızgın     800\n",
              "korku      800\n",
              "mutlu      800\n",
              "surpriz    800\n",
              "üzgün      800\n",
              "Name: Etiket, dtype: int64"
            ]
          },
          "metadata": {},
          "execution_count": 9
        }
      ]
    },
    {
      "cell_type": "code",
      "source": [
        "dataset_tweets.rename(columns = {'Etiket':'Label'}, inplace=True)\n",
        "dataset_tweets['Label'] = np.where(dataset_tweets['Label'] == 'kızgın', 0,\n",
        "                                   np.where(dataset_tweets['Label'] == 'korku', 1,\n",
        "                                            np.where(dataset_tweets['Label'] == 'mutlu', 2,\n",
        "                                                     np.where(dataset_tweets['Label'] == 'surpriz', 3, 4))))"
      ],
      "metadata": {
        "id": "OWIXnB-fAkzZ"
      },
      "execution_count": null,
      "outputs": []
    },
    {
      "cell_type": "code",
      "source": [
        "dataset_tweets.head()"
      ],
      "metadata": {
        "colab": {
          "base_uri": "https://localhost:8080/",
          "height": 206
        },
        "id": "UGRl2EuUAk1z",
        "outputId": "f954b684-d965-4bc5-c0c1-4e282a8aa91e"
      },
      "execution_count": null,
      "outputs": [
        {
          "output_type": "execute_result",
          "data": {
            "text/plain": [
              "                                               Tweet  Label\n",
              "0  Allah'ım çıldıracağım. Yemin ederim çıldıracağ...      0\n",
              "1  site ne zaman çalıştıda ürün stokları bitti di...      0\n",
              "2    Sebebi neydi ki diye bağıracağım şimdi az kaldı      0\n",
              "3  Black friday ne amk bu yıl çıkardınız bu bokud...      0\n",
              "4  kısa kısa cevaplar vericeksen niye yazıyorsun ...      0"
            ],
            "text/html": [
              "\n",
              "  <div id=\"df-6376e00c-b133-424e-83e0-6f6f59b9b808\">\n",
              "    <div class=\"colab-df-container\">\n",
              "      <div>\n",
              "<style scoped>\n",
              "    .dataframe tbody tr th:only-of-type {\n",
              "        vertical-align: middle;\n",
              "    }\n",
              "\n",
              "    .dataframe tbody tr th {\n",
              "        vertical-align: top;\n",
              "    }\n",
              "\n",
              "    .dataframe thead th {\n",
              "        text-align: right;\n",
              "    }\n",
              "</style>\n",
              "<table border=\"1\" class=\"dataframe\">\n",
              "  <thead>\n",
              "    <tr style=\"text-align: right;\">\n",
              "      <th></th>\n",
              "      <th>Tweet</th>\n",
              "      <th>Label</th>\n",
              "    </tr>\n",
              "  </thead>\n",
              "  <tbody>\n",
              "    <tr>\n",
              "      <th>0</th>\n",
              "      <td>Allah'ım çıldıracağım. Yemin ederim çıldıracağ...</td>\n",
              "      <td>0</td>\n",
              "    </tr>\n",
              "    <tr>\n",
              "      <th>1</th>\n",
              "      <td>site ne zaman çalıştıda ürün stokları bitti di...</td>\n",
              "      <td>0</td>\n",
              "    </tr>\n",
              "    <tr>\n",
              "      <th>2</th>\n",
              "      <td>Sebebi neydi ki diye bağıracağım şimdi az kaldı</td>\n",
              "      <td>0</td>\n",
              "    </tr>\n",
              "    <tr>\n",
              "      <th>3</th>\n",
              "      <td>Black friday ne amk bu yıl çıkardınız bu bokud...</td>\n",
              "      <td>0</td>\n",
              "    </tr>\n",
              "    <tr>\n",
              "      <th>4</th>\n",
              "      <td>kısa kısa cevaplar vericeksen niye yazıyorsun ...</td>\n",
              "      <td>0</td>\n",
              "    </tr>\n",
              "  </tbody>\n",
              "</table>\n",
              "</div>\n",
              "      <button class=\"colab-df-convert\" onclick=\"convertToInteractive('df-6376e00c-b133-424e-83e0-6f6f59b9b808')\"\n",
              "              title=\"Convert this dataframe to an interactive table.\"\n",
              "              style=\"display:none;\">\n",
              "        \n",
              "  <svg xmlns=\"http://www.w3.org/2000/svg\" height=\"24px\"viewBox=\"0 0 24 24\"\n",
              "       width=\"24px\">\n",
              "    <path d=\"M0 0h24v24H0V0z\" fill=\"none\"/>\n",
              "    <path d=\"M18.56 5.44l.94 2.06.94-2.06 2.06-.94-2.06-.94-.94-2.06-.94 2.06-2.06.94zm-11 1L8.5 8.5l.94-2.06 2.06-.94-2.06-.94L8.5 2.5l-.94 2.06-2.06.94zm10 10l.94 2.06.94-2.06 2.06-.94-2.06-.94-.94-2.06-.94 2.06-2.06.94z\"/><path d=\"M17.41 7.96l-1.37-1.37c-.4-.4-.92-.59-1.43-.59-.52 0-1.04.2-1.43.59L10.3 9.45l-7.72 7.72c-.78.78-.78 2.05 0 2.83L4 21.41c.39.39.9.59 1.41.59.51 0 1.02-.2 1.41-.59l7.78-7.78 2.81-2.81c.8-.78.8-2.07 0-2.86zM5.41 20L4 18.59l7.72-7.72 1.47 1.35L5.41 20z\"/>\n",
              "  </svg>\n",
              "      </button>\n",
              "      \n",
              "  <style>\n",
              "    .colab-df-container {\n",
              "      display:flex;\n",
              "      flex-wrap:wrap;\n",
              "      gap: 12px;\n",
              "    }\n",
              "\n",
              "    .colab-df-convert {\n",
              "      background-color: #E8F0FE;\n",
              "      border: none;\n",
              "      border-radius: 50%;\n",
              "      cursor: pointer;\n",
              "      display: none;\n",
              "      fill: #1967D2;\n",
              "      height: 32px;\n",
              "      padding: 0 0 0 0;\n",
              "      width: 32px;\n",
              "    }\n",
              "\n",
              "    .colab-df-convert:hover {\n",
              "      background-color: #E2EBFA;\n",
              "      box-shadow: 0px 1px 2px rgba(60, 64, 67, 0.3), 0px 1px 3px 1px rgba(60, 64, 67, 0.15);\n",
              "      fill: #174EA6;\n",
              "    }\n",
              "\n",
              "    [theme=dark] .colab-df-convert {\n",
              "      background-color: #3B4455;\n",
              "      fill: #D2E3FC;\n",
              "    }\n",
              "\n",
              "    [theme=dark] .colab-df-convert:hover {\n",
              "      background-color: #434B5C;\n",
              "      box-shadow: 0px 1px 3px 1px rgba(0, 0, 0, 0.15);\n",
              "      filter: drop-shadow(0px 1px 2px rgba(0, 0, 0, 0.3));\n",
              "      fill: #FFFFFF;\n",
              "    }\n",
              "  </style>\n",
              "\n",
              "      <script>\n",
              "        const buttonEl =\n",
              "          document.querySelector('#df-6376e00c-b133-424e-83e0-6f6f59b9b808 button.colab-df-convert');\n",
              "        buttonEl.style.display =\n",
              "          google.colab.kernel.accessAllowed ? 'block' : 'none';\n",
              "\n",
              "        async function convertToInteractive(key) {\n",
              "          const element = document.querySelector('#df-6376e00c-b133-424e-83e0-6f6f59b9b808');\n",
              "          const dataTable =\n",
              "            await google.colab.kernel.invokeFunction('convertToInteractive',\n",
              "                                                     [key], {});\n",
              "          if (!dataTable) return;\n",
              "\n",
              "          const docLinkHtml = 'Like what you see? Visit the ' +\n",
              "            '<a target=\"_blank\" href=https://colab.research.google.com/notebooks/data_table.ipynb>data table notebook</a>'\n",
              "            + ' to learn more about interactive tables.';\n",
              "          element.innerHTML = '';\n",
              "          dataTable['output_type'] = 'display_data';\n",
              "          await google.colab.output.renderOutput(dataTable, element);\n",
              "          const docLink = document.createElement('div');\n",
              "          docLink.innerHTML = docLinkHtml;\n",
              "          element.appendChild(docLink);\n",
              "        }\n",
              "      </script>\n",
              "    </div>\n",
              "  </div>\n",
              "  "
            ]
          },
          "metadata": {},
          "execution_count": 11
        }
      ]
    },
    {
      "cell_type": "code",
      "source": [
        "dataset_tweets[dataset_tweets.Tweet.isna()]"
      ],
      "metadata": {
        "colab": {
          "base_uri": "https://localhost:8080/",
          "height": 80
        },
        "id": "yzkqkZagIOPZ",
        "outputId": "205a6ec7-2b24-49ff-d7ae-c319f712cd49"
      },
      "execution_count": null,
      "outputs": [
        {
          "output_type": "execute_result",
          "data": {
            "text/plain": [
              "     Tweet  Label\n",
              "3430   NaN      4"
            ],
            "text/html": [
              "\n",
              "  <div id=\"df-d8730d6c-9a2b-445a-b974-d0ff5d566d4e\">\n",
              "    <div class=\"colab-df-container\">\n",
              "      <div>\n",
              "<style scoped>\n",
              "    .dataframe tbody tr th:only-of-type {\n",
              "        vertical-align: middle;\n",
              "    }\n",
              "\n",
              "    .dataframe tbody tr th {\n",
              "        vertical-align: top;\n",
              "    }\n",
              "\n",
              "    .dataframe thead th {\n",
              "        text-align: right;\n",
              "    }\n",
              "</style>\n",
              "<table border=\"1\" class=\"dataframe\">\n",
              "  <thead>\n",
              "    <tr style=\"text-align: right;\">\n",
              "      <th></th>\n",
              "      <th>Tweet</th>\n",
              "      <th>Label</th>\n",
              "    </tr>\n",
              "  </thead>\n",
              "  <tbody>\n",
              "    <tr>\n",
              "      <th>3430</th>\n",
              "      <td>NaN</td>\n",
              "      <td>4</td>\n",
              "    </tr>\n",
              "  </tbody>\n",
              "</table>\n",
              "</div>\n",
              "      <button class=\"colab-df-convert\" onclick=\"convertToInteractive('df-d8730d6c-9a2b-445a-b974-d0ff5d566d4e')\"\n",
              "              title=\"Convert this dataframe to an interactive table.\"\n",
              "              style=\"display:none;\">\n",
              "        \n",
              "  <svg xmlns=\"http://www.w3.org/2000/svg\" height=\"24px\"viewBox=\"0 0 24 24\"\n",
              "       width=\"24px\">\n",
              "    <path d=\"M0 0h24v24H0V0z\" fill=\"none\"/>\n",
              "    <path d=\"M18.56 5.44l.94 2.06.94-2.06 2.06-.94-2.06-.94-.94-2.06-.94 2.06-2.06.94zm-11 1L8.5 8.5l.94-2.06 2.06-.94-2.06-.94L8.5 2.5l-.94 2.06-2.06.94zm10 10l.94 2.06.94-2.06 2.06-.94-2.06-.94-.94-2.06-.94 2.06-2.06.94z\"/><path d=\"M17.41 7.96l-1.37-1.37c-.4-.4-.92-.59-1.43-.59-.52 0-1.04.2-1.43.59L10.3 9.45l-7.72 7.72c-.78.78-.78 2.05 0 2.83L4 21.41c.39.39.9.59 1.41.59.51 0 1.02-.2 1.41-.59l7.78-7.78 2.81-2.81c.8-.78.8-2.07 0-2.86zM5.41 20L4 18.59l7.72-7.72 1.47 1.35L5.41 20z\"/>\n",
              "  </svg>\n",
              "      </button>\n",
              "      \n",
              "  <style>\n",
              "    .colab-df-container {\n",
              "      display:flex;\n",
              "      flex-wrap:wrap;\n",
              "      gap: 12px;\n",
              "    }\n",
              "\n",
              "    .colab-df-convert {\n",
              "      background-color: #E8F0FE;\n",
              "      border: none;\n",
              "      border-radius: 50%;\n",
              "      cursor: pointer;\n",
              "      display: none;\n",
              "      fill: #1967D2;\n",
              "      height: 32px;\n",
              "      padding: 0 0 0 0;\n",
              "      width: 32px;\n",
              "    }\n",
              "\n",
              "    .colab-df-convert:hover {\n",
              "      background-color: #E2EBFA;\n",
              "      box-shadow: 0px 1px 2px rgba(60, 64, 67, 0.3), 0px 1px 3px 1px rgba(60, 64, 67, 0.15);\n",
              "      fill: #174EA6;\n",
              "    }\n",
              "\n",
              "    [theme=dark] .colab-df-convert {\n",
              "      background-color: #3B4455;\n",
              "      fill: #D2E3FC;\n",
              "    }\n",
              "\n",
              "    [theme=dark] .colab-df-convert:hover {\n",
              "      background-color: #434B5C;\n",
              "      box-shadow: 0px 1px 3px 1px rgba(0, 0, 0, 0.15);\n",
              "      filter: drop-shadow(0px 1px 2px rgba(0, 0, 0, 0.3));\n",
              "      fill: #FFFFFF;\n",
              "    }\n",
              "  </style>\n",
              "\n",
              "      <script>\n",
              "        const buttonEl =\n",
              "          document.querySelector('#df-d8730d6c-9a2b-445a-b974-d0ff5d566d4e button.colab-df-convert');\n",
              "        buttonEl.style.display =\n",
              "          google.colab.kernel.accessAllowed ? 'block' : 'none';\n",
              "\n",
              "        async function convertToInteractive(key) {\n",
              "          const element = document.querySelector('#df-d8730d6c-9a2b-445a-b974-d0ff5d566d4e');\n",
              "          const dataTable =\n",
              "            await google.colab.kernel.invokeFunction('convertToInteractive',\n",
              "                                                     [key], {});\n",
              "          if (!dataTable) return;\n",
              "\n",
              "          const docLinkHtml = 'Like what you see? Visit the ' +\n",
              "            '<a target=\"_blank\" href=https://colab.research.google.com/notebooks/data_table.ipynb>data table notebook</a>'\n",
              "            + ' to learn more about interactive tables.';\n",
              "          element.innerHTML = '';\n",
              "          dataTable['output_type'] = 'display_data';\n",
              "          await google.colab.output.renderOutput(dataTable, element);\n",
              "          const docLink = document.createElement('div');\n",
              "          docLink.innerHTML = docLinkHtml;\n",
              "          element.appendChild(docLink);\n",
              "        }\n",
              "      </script>\n",
              "    </div>\n",
              "  </div>\n",
              "  "
            ]
          },
          "metadata": {},
          "execution_count": 10
        }
      ]
    },
    {
      "cell_type": "code",
      "source": [
        "dataset_tweets.dropna(inplace=True)\n",
        "dataset_tweets.reset_index(drop=True, inplace=True)"
      ],
      "metadata": {
        "id": "dm-ERbL0IZzE"
      },
      "execution_count": null,
      "outputs": []
    },
    {
      "cell_type": "code",
      "source": [
        "# Get the lists of tweetz and their labels.\n",
        "tweets = dataset_tweets.Tweet.values\n",
        "labels = dataset_tweets.Label.values"
      ],
      "metadata": {
        "id": "sYy3XxawIemQ"
      },
      "execution_count": null,
      "outputs": []
    },
    {
      "cell_type": "code",
      "source": [
        "tweets"
      ],
      "metadata": {
        "colab": {
          "base_uri": "https://localhost:8080/"
        },
        "id": "788A-xmeg7IR",
        "outputId": "c334b150-122a-42d0-f710-00b11b74232e"
      },
      "execution_count": null,
      "outputs": [
        {
          "output_type": "execute_result",
          "data": {
            "text/plain": [
              "array([\"Allah'ım çıldıracağım. Yemin ederim çıldıracağım sinirimden. Bir yerden de çıkaramıyorum cam çerçeve indireceğim şimdi ne varsa.\",\n",
              "       'site ne zaman çalıştıda ürün stokları bitti diyor mal mısınız oğlum kimi kandırıyorsunuz!',\n",
              "       'Sebebi neydi ki diye bağıracağım şimdi az kaldı', ...,\n",
              "       'Çok şey istiyorum ama sonu hep fiyasko MUTSUZUM',\n",
              "       'Garip bir şekilde canım çok yanıyor moralim bozuk',\n",
              "       'Üzgünüm birazdan takipten çıkarıp hesabımı gizliye alıcağım daha fazla acı çekmeye gerek yok'],\n",
              "      dtype=object)"
            ]
          },
          "metadata": {},
          "execution_count": 15
        }
      ]
    },
    {
      "cell_type": "markdown",
      "source": [
        "## Unigram and Bigrams for each class"
      ],
      "metadata": {
        "id": "zVNtz5L4LOXM"
      }
    },
    {
      "cell_type": "code",
      "source": [
        "def process_text(dataframe, label=0, gram='uni'):\n",
        "\n",
        "  stop_words=stopwords.words(\"turkish\")\n",
        "  exclude = set(string.punctuation)\n",
        "\n",
        "  #sentiments based on given label\n",
        "  df_pos=dataframe[dataframe[\"Label\"]==label]\n",
        "\n",
        "  token_list=[]\n",
        "\n",
        "  for i,r in df_pos.iterrows():\n",
        "      text=''.join(ch for ch in df_pos[\"Tweet\"][i] if ch not in exclude and ch != \"’\") #remove punctuations from the text in order not to distort frequencies\n",
        "      tokens=word_tokenize(text)\n",
        "      tokens=[tok.lower() for tok in tokens if tok not in stop_words] #remove stopwords from the text in order not to distort frequencies\n",
        "      token_list.extend(tokens)\n",
        "\n",
        "  if gram == 'uni':\n",
        "    frequencies=Counter(token_list)\n",
        "  else:\n",
        "    bigrams=list(ngrams(token_list,2))\n",
        "    frequencies=Counter(bigrams)\n",
        "\n",
        "  frequencies_sorted=sorted(frequencies.items(), key=lambda k: k[1],reverse=True)\n",
        "  top_15=dict(frequencies_sorted[0:15])\n",
        "\n",
        "  return top_15"
      ],
      "metadata": {
        "id": "Mvt_9fz3LNfe"
      },
      "execution_count": null,
      "outputs": []
    },
    {
      "cell_type": "code",
      "source": [
        "def plot_grams(top_15, sentiment='positive'):\n",
        "  plt.rcdefaults()\n",
        "  fig, ax = plt.subplots()\n",
        "\n",
        "  # Example data\n",
        "  ngram = top_15.keys()\n",
        "  y_pos = np.arange(len(ngram))\n",
        "  performance = top_15.values()\n",
        "\n",
        "\n",
        "  ax.barh(y_pos, performance, align='center')\n",
        "  ax.set_yticks(y_pos)\n",
        "  ax.set_yticklabels(ngram)\n",
        "  ax.invert_yaxis()  # labels read top-to-bottom\n",
        "  ax.set_xlabel('Counts')\n",
        "  first_name = \"John\"\n",
        "  sent = sentiment\n",
        "  ax.set_title(\"Top-15 Most Common Bigrams in {} Comments\".format(sent))\n",
        "\n",
        "  plt.show()"
      ],
      "metadata": {
        "id": "nBTJrheeLw8R"
      },
      "execution_count": null,
      "outputs": []
    },
    {
      "cell_type": "markdown",
      "source": [
        "### Unigram & Bigram - for different classes"
      ],
      "metadata": {
        "id": "G-dPw0xkL3Q5"
      }
    },
    {
      "cell_type": "code",
      "source": [
        "sentiment_dict = {\"kızgın\":0,\n",
        "                  \"korku\":1,\n",
        "                  \"mutlu\":2,\n",
        "                  \"surpriz\":3,\n",
        "                  \"üzgün\":4}\n",
        "plot_grams(process_text(dataset_tweets, label=2, gram='bi'), sentiment='mutlu')"
      ],
      "metadata": {
        "colab": {
          "base_uri": "https://localhost:8080/",
          "height": 472
        },
        "id": "JRmhVgMGL2l3",
        "outputId": "5046e7ee-b4f0-42d4-aeaa-64be69381e4e"
      },
      "execution_count": null,
      "outputs": [
        {
          "output_type": "display_data",
          "data": {
            "text/plain": [
              "<Figure size 640x480 with 1 Axes>"
            ],
            "image/png": "[encoded data removed]"
          },
          "metadata": {}
        }
      ]
    },
    {
      "cell_type": "markdown",
      "source": [
        "# 3.Tokenization & Input Formatting"
      ],
      "metadata": {
        "id": "SlCUTmYlJd1L"
      }
    },
    {
      "cell_type": "code",
      "source": [
        "from transformers import AutoModel, AutoTokenizer\n",
        "\n",
        "# Load pretrained model/tokenizer\n",
        "tokenizer = AutoTokenizer.from_pretrained(\"dbmdz/bert-base-turkish-cased\")"
      ],
      "metadata": {
        "id": "-P_6NcmhSsyz",
        "colab": {
          "base_uri": "https://localhost:8080/",
          "height": 113,
          "referenced_widgets": [
            "899ea4222d1f42bfa448b8d70c744bd8",
            "5c5e25c6c2c048458ee679f74fb35245",
            "92224905f7c047bda79c5889be4ee265",
            "af0e09bcdac74a76832a874f6aa53ed8",
            "babc6fd1e6104d279553368d8c5295c1",
            "592b604789f348f69cccd1a4ba63ec75",
            "d1dcab75cb4c430fa145af3f43112ffc",
            "6aaba44846254b5a85c985c7f6606fb6",
            "02e9949a794945b1baa843cfae83f795",
            "4377b08d5be34a0aa00780e8c3bba734",
            "750bcbcb676d413797bb3171777eb64d",
            "10f5b66de01d425eafda9ff3604bc2e2",
            "e6bff31b1b8f433d8adabce27f2f856c",
            "b36f2b4780724c449efb39f76acea246",
            "e477a66d18ef41e59143fb5c7ac10251",
            "91f3c47dff40443c828cc83ffca628a9",
            "b2c1da4dd4244cb59fa514a1ed69590a",
            "456eb11366ce4629a7cca2e78bc6bca3",
            "f1311d91af454449977f3e5bded146cd",
            "78ac20b3c04147ee88ae4663d9b3fe75",
            "bb3efa62bbbe4a5d8ede7fb6520b6c0e",
            "f84d211d7f68473db8fdc8f18401a881",
            "a655337b5fbf4492ac1d2e1d26db9865",
            "77c3f0a5393242ba994ca3aad02336ab",
            "9279f7223a4a4f03bb9120c826ed03b3",
            "cc312955160a4e50a9adc233e90e74b3",
            "69062390a50f4fd38cc5a318cccd12df",
            "8d90f5c2b02a46f78c88d8e314a00260",
            "3f6987b5e8d64076a1bcf34da89d9042",
            "d2082b8cce734f9d97c42d09aea7e813",
            "fe156fa1fa2e4a45b8ac761def622041",
            "2c54777f1cc34dfe94f9f49880b514fe",
            "607a2008779f4203a12675129d53844e"
          ]
        },
        "outputId": "10c1576c-d0b1-4efd-f290-d7059f38bb49"
      },
      "execution_count": null,
      "outputs": [
        {
          "output_type": "display_data",
          "data": {
            "text/plain": [
              "Downloading (…)okenizer_config.json:   0%|          | 0.00/60.0 [00:00<?, ?B/s]"
            ],
            "application/vnd.jupyter.widget-view+json": {
              "version_major": 2,
              "version_minor": 0,
              "model_id": "899ea4222d1f42bfa448b8d70c744bd8"
            }
          },
          "metadata": {}
        },
        {
          "output_type": "display_data",
          "data": {
            "text/plain": [
              "Downloading (…)lve/main/config.json:   0%|          | 0.00/385 [00:00<?, ?B/s]"
            ],
            "application/vnd.jupyter.widget-view+json": {
              "version_major": 2,
              "version_minor": 0,
              "model_id": "10f5b66de01d425eafda9ff3604bc2e2"
            }
          },
          "metadata": {}
        },
        {
          "output_type": "display_data",
          "data": {
            "text/plain": [
              "Downloading (…)solve/main/vocab.txt:   0%|          | 0.00/251k [00:00<?, ?B/s]"
            ],
            "application/vnd.jupyter.widget-view+json": {
              "version_major": 2,
              "version_minor": 0,
              "model_id": "a655337b5fbf4492ac1d2e1d26db9865"
            }
          },
          "metadata": {}
        }
      ]
    },
    {
      "cell_type": "code",
      "source": [
        "def plot_sentence_embeddings_length(text_list, tokenizer):\n",
        "    tokenized_texts = list(map(lambda t: tokenizer.tokenize(t), text_list))\n",
        "    tokenized_texts_len = list(map(lambda t: len(t), tokenized_texts))\n",
        "    fig, ax = plt.subplots(figsize=(8, 5));\n",
        "    ax.hist(tokenized_texts_len, bins=40);\n",
        "    ax.set_xlabel(\"Length of Comment Embeddings\");\n",
        "    ax.set_ylabel(\"Number of Tweets\");\n",
        "    return"
      ],
      "metadata": {
        "id": "fgMLYxL9JTvH"
      },
      "execution_count": null,
      "outputs": []
    },
    {
      "cell_type": "code",
      "source": [
        "plot_sentence_embeddings_length(tweets, tokenizer)"
      ],
      "metadata": {
        "colab": {
          "base_uri": "https://localhost:8080/",
          "height": 465
        },
        "id": "g_AXmjknN-2c",
        "outputId": "e3918732-6ba6-4bbb-a12f-b8b475013d86"
      },
      "execution_count": null,
      "outputs": [
        {
          "output_type": "display_data",
          "data": {
            "text/plain": [
              "<Figure size 800x500 with 1 Axes>"
            ],
            "image/png": "[encoded data removed]"
          },
          "metadata": {}
        }
      ]
    },
    {
      "cell_type": "code",
      "source": [
        "for i in range(5):\n",
        "\n",
        "  # Print the original sentence.\n",
        "  print(' Original: ', tweets[i])\n",
        "\n",
        "  # Print the sentence split into tokens.\n",
        "  print('Tokenized: ', tokenizer.tokenize(tweets[i]))\n",
        "\n",
        "  # Print the sentence mapped to token ids.\n",
        "  print('Token IDs: ', tokenizer.convert_tokens_to_ids(tokenizer.tokenize(tweets[i])))\n",
        "  print(\"\\n\")"
      ],
      "metadata": {
        "colab": {
          "base_uri": "https://localhost:8080/"
        },
        "id": "xliC8_lBOHJt",
        "outputId": "43052db9-2d4b-4bcb-cf80-c72a0c79f866"
      },
      "execution_count": null,
      "outputs": [
        {
          "output_type": "stream",
          "name": "stdout",
          "text": [
            " Original:  Allah'ım çıldıracağım. Yemin ederim çıldıracağım sinirimden. Bir yerden de çıkaramıyorum cam çerçeve indireceğim şimdi ne varsa.\n",
            "Tokenized:  ['Allah', \"'\", 'ım', 'çıldır', '##acağım', '.', 'Yemin', 'ederim', 'çıldır', '##acağım', 'sinir', '##imden', '.', 'Bir', 'yerden', 'de', 'çıkara', '##mıyorum', 'cam', 'çerçeve', 'indir', '##eceğim', 'şimdi', 'ne', 'varsa', '.']\n",
            "Token IDs:  [3199, 11, 26987, 24552, 6950, 18, 23533, 5002, 24552, 6950, 6689, 6063, 18, 2281, 7197, 2012, 14516, 7654, 4340, 17557, 3349, 4224, 3653, 2142, 4385, 18]\n",
            "\n",
            "\n",
            " Original:  site ne zaman çalıştıda ürün stokları bitti diyor mal mısınız oğlum kimi kandırıyorsunuz!\n",
            "Tokenized:  ['site', 'ne', 'zaman', 'çalıştı', '##da', 'ürün', 'stok', '##ları', 'bitti', 'diyor', 'mal', 'mısınız', 'oğlum', 'kimi', 'kandır', '##ıyorsunuz', '!']\n",
            "Token IDs:  [6521, 2142, 2248, 9879, 1986, 2782, 10992, 2037, 10638, 4022, 2810, 12760, 9747, 7470, 13413, 16566, 5]\n",
            "\n",
            "\n",
            " Original:  Sebebi neydi ki diye bağıracağım şimdi az kaldı\n",
            "Tokenized:  ['Seb', '##ebi', 'neydi', 'ki', 'diye', 'bağır', '##acağım', 'şimdi', 'az', 'kaldı']\n",
            "Token IDs:  [9985, 9254, 21074, 2402, 2636, 7355, 6950, 3653, 2539, 5234]\n",
            "\n",
            "\n",
            " Original:  Black friday ne amk bu yıl çıkardınız bu bokuda mal mısınız nesiniz.\n",
            "Tokenized:  ['Black', 'fr', '##ida', '##y', 'ne', 'am', '##k', 'bu', 'yıl', 'çıkardı', '##nı', '##z', 'bu', 'bok', '##uda', 'mal', 'mısınız', 'nesi', '##ni', '##z', '.']\n",
            "Token IDs:  [13611, 15384, 8465, 1032, 2142, 4134, 1007, 2048, 2180, 9684, 2538, 1050, 2048, 11098, 27387, 2810, 12760, 31073, 3926, 1050, 18]\n",
            "\n",
            "\n",
            " Original:  kısa kısa cevaplar vericeksen niye yazıyorsun gerizekalı\n",
            "Tokenized:  ['kısa', 'kısa', 'cevaplar', 'veri', '##cek', '##sen', 'niye', 'yazıyor', '##sun', 'geri', '##ze', '##kal', '##ı']\n",
            "Token IDs:  [3308, 3308, 18058, 6669, 2966, 3975, 8618, 9988, 2354, 3135, 5426, 7117, 1048]\n",
            "\n",
            "\n"
          ]
        }
      ]
    },
    {
      "cell_type": "code",
      "source": [
        "max_len = 0\n",
        "\n",
        "# For every sentence...\n",
        "for tweet in tweets:\n",
        "\n",
        "    # Tokenize the text and add `[CLS]` and `[SEP]` tokens.\n",
        "    input_ids = tokenizer.encode(tweet, add_special_tokens=True)\n",
        "\n",
        "    # Update the maximum sentence length.\n",
        "    max_len = max(max_len, len(input_ids))\n",
        "\n",
        "print('Max sentence length: ', max_len)"
      ],
      "metadata": {
        "colab": {
          "base_uri": "https://localhost:8080/"
        },
        "id": "HYRZHWdjOoWR",
        "outputId": "1846589a-7625-41ef-de5c-148bafcb1e92"
      },
      "execution_count": null,
      "outputs": [
        {
          "output_type": "stream",
          "name": "stdout",
          "text": [
            "Max sentence length:  39\n"
          ]
        }
      ]
    },
    {
      "cell_type": "code",
      "source": [
        "indices=tokenizer.batch_encode_plus(list(tweets),\n",
        "                                    max_length=64,\n",
        "                                    add_special_tokens=True,\n",
        "                                    return_attention_mask=True,\n",
        "                                    pad_to_max_length=True,\n",
        "                                    truncation=True)\n",
        "input_ids=indices[\"input_ids\"]\n",
        "attention_masks=indices[\"attention_mask\"]\n",
        "print(input_ids[0])\n",
        "print(tweets[0])"
      ],
      "metadata": {
        "colab": {
          "base_uri": "https://localhost:8080/"
        },
        "id": "uce22hnpfZIt",
        "outputId": "edbaeeab-6b0d-47bb-a809-cfd0cd91a241"
      },
      "execution_count": null,
      "outputs": [
        {
          "output_type": "stream",
          "name": "stderr",
          "text": [
            "/usr/local/lib/python3.10/dist-packages/transformers/tokenization_utils_base.py:2377: FutureWarning: The `pad_to_max_length` argument is deprecated and will be removed in a future version, use `padding=True` or `padding='longest'` to pad to the longest sequence in the batch, or use `padding='max_length'` to pad to a max length. In this case, you can give a specific length with `max_length` (e.g. `max_length=45`) or leave max_length to None to pad to the maximal input size of the model (e.g. 512 for Bert).\n",
            "  warnings.warn(\n"
          ]
        },
        {
          "output_type": "stream",
          "name": "stdout",
          "text": [
            "[2, 3199, 11, 26987, 24552, 6950, 18, 23533, 5002, 24552, 6950, 6689, 6063, 18, 2281, 7197, 2012, 14516, 7654, 4340, 17557, 3349, 4224, 3653, 2142, 4385, 18, 3, 0, 0, 0, 0, 0, 0, 0, 0, 0, 0, 0, 0, 0, 0, 0, 0, 0, 0, 0, 0, 0, 0, 0, 0, 0, 0, 0, 0, 0, 0, 0, 0, 0, 0, 0, 0]\n",
            "Allah'ım çıldıracağım. Yemin ederim çıldıracağım sinirimden. Bir yerden de çıkaramıyorum cam çerçeve indireceğim şimdi ne varsa.\n"
          ]
        }
      ]
    },
    {
      "cell_type": "code",
      "source": [
        "from sklearn.model_selection import train_test_split\n",
        "\n",
        "# Use 99% for training and 1% for validation.\n",
        "train_inputs, validation_inputs, train_labels, validation_labels = train_test_split(input_ids, labels,\n",
        "                                                            random_state=42, test_size=0.2)\n",
        "# Do the same for the masks.\n",
        "train_masks, validation_masks, _, _ = train_test_split(attention_masks, labels,\n",
        "                                             random_state=42, test_size=0.2)"
      ],
      "metadata": {
        "id": "XvL_9Mm4e0yI"
      },
      "execution_count": null,
      "outputs": []
    },
    {
      "cell_type": "code",
      "source": [
        "# Convert all of our data into torch tensors, the required datatype for our model\n",
        "train_inputs = torch.tensor(train_inputs)\n",
        "validation_inputs = torch.tensor(validation_inputs)\n",
        "train_labels = torch.tensor(train_labels, dtype=torch.long)\n",
        "validation_labels = torch.tensor(validation_labels, dtype=torch.long)\n",
        "train_masks = torch.tensor(train_masks, dtype=torch.long)\n",
        "validation_masks = torch.tensor(validation_masks, dtype=torch.long)"
      ],
      "metadata": {
        "id": "fQrCNFC9hdY_"
      },
      "execution_count": null,
      "outputs": []
    },
    {
      "cell_type": "code",
      "source": [
        "from torch.utils.data import TensorDataset, DataLoader, RandomSampler, SequentialSampler\n",
        "\n",
        "batch_size = 32\n",
        "\n",
        "# Create the DataLoader for our training set.\n",
        "train_data = TensorDataset(train_inputs, train_masks, train_labels)\n",
        "train_sampler = RandomSampler(train_data)\n",
        "train_dataloader = DataLoader(train_data, sampler=train_sampler, batch_size=batch_size)\n",
        "\n",
        "# Create the DataLoader for our validation set.\n",
        "validation_data = TensorDataset(validation_inputs, validation_masks, validation_labels)\n",
        "validation_sampler = SequentialSampler(validation_data)\n",
        "validation_dataloader = DataLoader(validation_data, sampler=validation_sampler, batch_size=batch_size)"
      ],
      "metadata": {
        "id": "Mpz2nTlNhf71"
      },
      "execution_count": null,
      "outputs": []
    },
    {
      "cell_type": "markdown",
      "source": [
        "# 4.Train the Classification Model"
      ],
      "metadata": {
        "id": "t0tjQQi8UloW"
      }
    },
    {
      "cell_type": "code",
      "source": [
        "from transformers import AutoModelForSequenceClassification, AdamW, AutoConfig\n",
        "config = AutoConfig.from_pretrained(\n",
        "        \"dbmdz/bert-base-turkish-cased\",num_labels=5)\n",
        "# Load BertForSequenceClassification, the pretrained BERT model with a single\n",
        "# linear classification layer on top.\n",
        "model = AutoModelForSequenceClassification.from_pretrained(\n",
        "    \"dbmdz/bert-base-turkish-cased\",config=config)\n",
        "\n",
        "model.cuda()"
      ],
      "metadata": {
        "colab": {
          "base_uri": "https://localhost:8080/",
          "height": 937,
          "referenced_widgets": [
            "cb5e0bec84374332a60f5cd17f9f49eb",
            "9125f54b2b604cbba684a9094bf4f652",
            "4f416ce87dee4a5184c8f5105270580f",
            "0bd0fbd4b19048f9b4c255986f6abf36",
            "fe0a6ca303514fd0ba226aad89b0affe",
            "fbff182e11294ba6b46935ff2b187ae6",
            "b07b9f6fa790406dbf982ac5775e05ed",
            "0846082e8ace4e2b938fbc83468c4e1d",
            "f34b100547bf492a967f7023c739263a",
            "baa954d5cf39496a9bb47801da46c353",
            "45dcfd8f84f34d9594297cc73fc3402f"
          ]
        },
        "id": "moQRdN9hOutQ",
        "outputId": "6289d816-f3fd-4070-acc6-4a4e21aaa6a6"
      },
      "execution_count": null,
      "outputs": [
        {
          "output_type": "display_data",
          "data": {
            "text/plain": [
              "Downloading pytorch_model.bin:   0%|          | 0.00/445M [00:00<?, ?B/s]"
            ],
            "application/vnd.jupyter.widget-view+json": {
              "version_major": 2,
              "version_minor": 0,
              "model_id": "cb5e0bec84374332a60f5cd17f9f49eb"
            }
          },
          "metadata": {}
        },
        {
          "output_type": "stream",
          "name": "stderr",
          "text": [
            "Some weights of the model checkpoint at dbmdz/bert-base-turkish-cased were not used when initializing BertForSequenceClassification: ['cls.predictions.transform.dense.weight', 'cls.seq_relationship.weight', 'cls.seq_relationship.bias', 'cls.predictions.decoder.bias', 'cls.predictions.decoder.weight', 'cls.predictions.transform.LayerNorm.weight', 'cls.predictions.bias', 'cls.predictions.transform.dense.bias', 'cls.predictions.transform.LayerNorm.bias']\n",
            "- This IS expected if you are initializing BertForSequenceClassification from the checkpoint of a model trained on another task or with another architecture (e.g. initializing a BertForSequenceClassification model from a BertForPreTraining model).\n",
            "- This IS NOT expected if you are initializing BertForSequenceClassification from the checkpoint of a model that you expect to be exactly identical (initializing a BertForSequenceClassification model from a BertForSequenceClassification model).\n",
            "Some weights of BertForSequenceClassification were not initialized from the model checkpoint at dbmdz/bert-base-turkish-cased and are newly initialized: ['classifier.weight', 'classifier.bias']\n",
            "You should probably TRAIN this model on a down-stream task to be able to use it for predictions and inference.\n"
          ]
        },
        {
          "output_type": "execute_result",
          "data": {
            "text/plain": [
              "BertForSequenceClassification(\n",
              "  (bert): BertModel(\n",
              "    (embeddings): BertEmbeddings(\n",
              "      (word_embeddings): Embedding(32000, 768, padding_idx=0)\n",
              "      (position_embeddings): Embedding(512, 768)\n",
              "      (token_type_embeddings): Embedding(2, 768)\n",
              "      (LayerNorm): LayerNorm((768,), eps=1e-12, elementwise_affine=True)\n",
              "      (dropout): Dropout(p=0.1, inplace=False)\n",
              "    )\n",
              "    (encoder): BertEncoder(\n",
              "      (layer): ModuleList(\n",
              "        (0-11): 12 x BertLayer(\n",
              "          (attention): BertAttention(\n",
              "            (self): BertSelfAttention(\n",
              "              (query): Linear(in_features=768, out_features=768, bias=True)\n",
              "              (key): Linear(in_features=768, out_features=768, bias=True)\n",
              "              (value): Linear(in_features=768, out_features=768, bias=True)\n",
              "              (dropout): Dropout(p=0.1, inplace=False)\n",
              "            )\n",
              "            (output): BertSelfOutput(\n",
              "              (dense): Linear(in_features=768, out_features=768, bias=True)\n",
              "              (LayerNorm): LayerNorm((768,), eps=1e-12, elementwise_affine=True)\n",
              "              (dropout): Dropout(p=0.1, inplace=False)\n",
              "            )\n",
              "          )\n",
              "          (intermediate): BertIntermediate(\n",
              "            (dense): Linear(in_features=768, out_features=3072, bias=True)\n",
              "            (intermediate_act_fn): GELUActivation()\n",
              "          )\n",
              "          (output): BertOutput(\n",
              "            (dense): Linear(in_features=3072, out_features=768, bias=True)\n",
              "            (LayerNorm): LayerNorm((768,), eps=1e-12, elementwise_affine=True)\n",
              "            (dropout): Dropout(p=0.1, inplace=False)\n",
              "          )\n",
              "        )\n",
              "      )\n",
              "    )\n",
              "    (pooler): BertPooler(\n",
              "      (dense): Linear(in_features=768, out_features=768, bias=True)\n",
              "      (activation): Tanh()\n",
              "    )\n",
              "  )\n",
              "  (dropout): Dropout(p=0.1, inplace=False)\n",
              "  (classifier): Linear(in_features=768, out_features=5, bias=True)\n",
              ")"
            ]
          },
          "metadata": {},
          "execution_count": 19
        }
      ]
    },
    {
      "cell_type": "code",
      "source": [
        "# Get all of the model's parameters as a list of tuples.\n",
        "params = list(model.named_parameters())\n",
        "\n",
        "print('The BERT model has {:} different named parameters.\\n'.format(len(params)))\n",
        "\n",
        "print('==== Embedding Layer ====\\n')\n",
        "\n",
        "for p in params[0:5]:\n",
        "    print(\"{:<55} {:>12}\".format(p[0], str(tuple(p[1].size()))))\n",
        "\n",
        "print('\\n==== First Transformer ====\\n')\n",
        "\n",
        "for p in params[5:21]:\n",
        "    print(\"{:<55} {:>12}\".format(p[0], str(tuple(p[1].size()))))\n",
        "\n",
        "print('\\n==== Output Layer ====\\n')\n",
        "\n",
        "for p in params[-4:]:\n",
        "    print(\"{:<55} {:>12}\".format(p[0], str(tuple(p[1].size()))))"
      ],
      "metadata": {
        "colab": {
          "base_uri": "https://localhost:8080/"
        },
        "id": "62xo1ZmkTYIu",
        "outputId": "62ec01ef-abae-4315-8a73-46a3dc32d1cf"
      },
      "execution_count": null,
      "outputs": [
        {
          "output_type": "stream",
          "name": "stdout",
          "text": [
            "The BERT model has 201 different named parameters.\n",
            "\n",
            "==== Embedding Layer ====\n",
            "\n",
            "bert.embeddings.word_embeddings.weight                  (32000, 768)\n",
            "bert.embeddings.position_embeddings.weight                (512, 768)\n",
            "bert.embeddings.token_type_embeddings.weight                (2, 768)\n",
            "bert.embeddings.LayerNorm.weight                              (768,)\n",
            "bert.embeddings.LayerNorm.bias                                (768,)\n",
            "\n",
            "==== First Transformer ====\n",
            "\n",
            "bert.encoder.layer.0.attention.self.query.weight          (768, 768)\n",
            "bert.encoder.layer.0.attention.self.query.bias                (768,)\n",
            "bert.encoder.layer.0.attention.self.key.weight            (768, 768)\n",
            "bert.encoder.layer.0.attention.self.key.bias                  (768,)\n",
            "bert.encoder.layer.0.attention.self.value.weight          (768, 768)\n",
            "bert.encoder.layer.0.attention.self.value.bias                (768,)\n",
            "bert.encoder.layer.0.attention.output.dense.weight        (768, 768)\n",
            "bert.encoder.layer.0.attention.output.dense.bias              (768,)\n",
            "bert.encoder.layer.0.attention.output.LayerNorm.weight        (768,)\n",
            "bert.encoder.layer.0.attention.output.LayerNorm.bias          (768,)\n",
            "bert.encoder.layer.0.intermediate.dense.weight           (3072, 768)\n",
            "bert.encoder.layer.0.intermediate.dense.bias                 (3072,)\n",
            "bert.encoder.layer.0.output.dense.weight                 (768, 3072)\n",
            "bert.encoder.layer.0.output.dense.bias                        (768,)\n",
            "bert.encoder.layer.0.output.LayerNorm.weight                  (768,)\n",
            "bert.encoder.layer.0.output.LayerNorm.bias                    (768,)\n",
            "\n",
            "==== Output Layer ====\n",
            "\n",
            "bert.pooler.dense.weight                                  (768, 768)\n",
            "bert.pooler.dense.bias                                        (768,)\n",
            "classifier.weight                                           (5, 768)\n",
            "classifier.bias                                                 (5,)\n"
          ]
        }
      ]
    },
    {
      "cell_type": "code",
      "source": [
        "# Note: AdamW is a class from the huggingface library (as opposed to pytorch)\n",
        "# 'W' stands for 'Weight Decay fix\"\n",
        "optimizer = AdamW(model.parameters(),\n",
        "                  lr = 2e-5, # args.learning_rate - default is 5e-5\n",
        "                  betas=[0.9,0.999],\n",
        "                  eps = 1e-6 # args.adam_epsilon  - default is 1e-8.\n",
        "                )\n",
        "from transformers import get_linear_schedule_with_warmup\n",
        "\n",
        "# Number of training epochs (authors recommend between 2 and 4)\n",
        "epochs = 5\n",
        "\n",
        "# Total number of training steps is number of batches * number of epochs.\n",
        "total_steps = len(train_dataloader) * epochs\n",
        "\n",
        "# Create the learning rate scheduler.\n",
        "scheduler = get_linear_schedule_with_warmup(optimizer,\n",
        "                                            num_warmup_steps = 0, # Default value in run_glue.py\n",
        "                                            num_training_steps = total_steps)"
      ],
      "metadata": {
        "colab": {
          "base_uri": "https://localhost:8080/"
        },
        "id": "PvJ7ykwGiLyU",
        "outputId": "fa1af6fe-5dc7-4798-e997-e7ebf5021aaf"
      },
      "execution_count": null,
      "outputs": [
        {
          "output_type": "stream",
          "name": "stderr",
          "text": [
            "/usr/local/lib/python3.10/dist-packages/transformers/optimization.py:411: FutureWarning: This implementation of AdamW is deprecated and will be removed in a future version. Use the PyTorch implementation torch.optim.AdamW instead, or set `no_deprecation_warning=True` to disable this warning\n",
            "  warnings.warn(\n"
          ]
        }
      ]
    },
    {
      "cell_type": "markdown",
      "source": [
        "## Training Loop"
      ],
      "metadata": {
        "id": "9EDqpQ-9iz33"
      }
    },
    {
      "cell_type": "code",
      "source": [
        "import numpy as np\n",
        "\n",
        "# Function to calculate the accuracy of our predictions vs labels\n",
        "def flat_accuracy(preds, labels):\n",
        "    pred_flat = np.argmax(preds, axis=1).flatten()\n",
        "    labels_flat = labels.flatten()\n",
        "    return np.sum(pred_flat == labels_flat) / len(labels_flat)"
      ],
      "metadata": {
        "id": "B4toZN8BiL0z"
      },
      "execution_count": null,
      "outputs": []
    },
    {
      "cell_type": "code",
      "source": [
        "import time\n",
        "import datetime\n",
        "\n",
        "def format_time(elapsed):\n",
        "    '''\n",
        "    Takes a time in seconds and returns a string hh:mm:ss\n",
        "    '''\n",
        "    # Round to the nearest second.\n",
        "    elapsed_rounded = int(round((elapsed)))\n",
        "\n",
        "    # Format as hh:mm:ss\n",
        "    return str(datetime.timedelta(seconds=elapsed_rounded))"
      ],
      "metadata": {
        "id": "tkQsJoGsiL4m"
      },
      "execution_count": null,
      "outputs": []
    },
    {
      "cell_type": "code",
      "source": [
        "import random\n",
        "\n",
        "# This training code is based on the `run_glue.py` script here:\n",
        "# https://github.com/huggingface/transformers/blob/5bfcd0485ece086ebcbed2d008813037968a9e58/examples/run_glue.py#L128\n",
        "\n",
        "\n",
        "# Set the seed value all over the place to make this reproducible.\n",
        "seed_val = 42\n",
        "\n",
        "random.seed(seed_val)\n",
        "np.random.seed(seed_val)\n",
        "torch.manual_seed(seed_val)\n",
        "torch.cuda.manual_seed_all(seed_val)\n",
        "\n",
        "# Store the average loss after each epoch so we can plot them.\n",
        "loss_values = []\n",
        "\n",
        "# For each epoch...\n",
        "for epoch_i in range(0, epochs):\n",
        "\n",
        "    # ========================================\n",
        "    #               Training\n",
        "    # ========================================\n",
        "\n",
        "    # Perform one full pass over the training set.\n",
        "\n",
        "    print(\"\")\n",
        "    print('======== Epoch {:} / {:} ========'.format(epoch_i + 1, epochs))\n",
        "    print('Training...')\n",
        "\n",
        "    # Measure how long the training epoch takes.\n",
        "    t0 = time.time()\n",
        "\n",
        "    # Reset the total loss for this epoch.\n",
        "    total_loss = 0\n",
        "\n",
        "    # Put the model into training mode. Don't be mislead--the call to\n",
        "    # `train` just changes the *mode*, it doesn't *perform* the training.\n",
        "    # `dropout` and `batchnorm` layers behave differently during training\n",
        "    # vs. test (source: https://stackoverflow.com/questions/51433378/what-does-model-train-do-in-pytorch)\n",
        "    model.train()\n",
        "\n",
        "    # For each batch of training data...\n",
        "    for step, batch in enumerate(train_dataloader):\n",
        "\n",
        "        # Progress update every 30 batches.\n",
        "        if step % 30 == 0 and not step == 0:\n",
        "            # Calculate elapsed time in minutes.\n",
        "            elapsed = format_time(time.time() - t0)\n",
        "\n",
        "            # Report progress.\n",
        "            print('  Batch {:>5,}  of  {:>5,}.    Elapsed: {:}.'.format(step, len(train_dataloader), elapsed))\n",
        "\n",
        "        # Unpack this training batch from our dataloader.\n",
        "        #\n",
        "        # As we unpack the batch, we'll also copy each tensor to the GPU using the\n",
        "        # `to` method.\n",
        "        #\n",
        "        # `batch` contains three pytorch tensors:\n",
        "        #   [0]: input ids\n",
        "        #   [1]: attention masks\n",
        "        #   [2]: labels\n",
        "        b_input_ids = batch[0].to(device)\n",
        "        b_input_mask = batch[1].to(device)\n",
        "        b_labels = batch[2].to(device)\n",
        "\n",
        "        # Always clear any previously calculated gradients before performing a\n",
        "        # backward pass. PyTorch doesn't do this automatically because\n",
        "        # accumulating the gradients is \"convenient while training RNNs\".\n",
        "        # (source: https://stackoverflow.com/questions/48001598/why-do-we-need-to-call-zero-grad-in-pytorch)\n",
        "        model.zero_grad()\n",
        "\n",
        "        # Perform a forward pass (evaluate the model on this training batch).\n",
        "        # This will return the loss (rather than the model output) because we\n",
        "        # have provided the `labels`.\n",
        "        # The documentation for this `model` function is here:\n",
        "        # https://huggingface.co/transformers/v2.2.0/model_doc/bert.html#transformers.BertForSequenceClassification\n",
        "        outputs = model(b_input_ids,\n",
        "                        attention_mask=b_input_mask,\n",
        "                        labels=b_labels)\n",
        "\n",
        "        # The call to `model` always returns a tuple, so we need to pull the\n",
        "        # loss value out of the tuple.\n",
        "        loss = outputs[0]\n",
        "\n",
        "        # Accumulate the training loss over all of the batches so that we can\n",
        "        # calculate the average loss at the end. `loss` is a Tensor containing a\n",
        "        # single value; the `.item()` function just returns the Python value\n",
        "        # from the tensor.\n",
        "        total_loss += loss.item()\n",
        "\n",
        "        # Perform a backward pass to calculate the gradients.\n",
        "        loss.backward()\n",
        "\n",
        "        # Clip the norm of the gradients to 1.0.\n",
        "        # This is to help prevent the \"exploding gradients\" problem.\n",
        "        torch.nn.utils.clip_grad_norm_(model.parameters(), 1.0)\n",
        "\n",
        "        # Update parameters and take a step using the computed gradient.\n",
        "        # The optimizer dictates the \"update rule\"--how the parameters are\n",
        "        # modified based on their gradients, the learning rate, etc.\n",
        "        optimizer.step()\n",
        "\n",
        "        # Update the learning rate.\n",
        "        scheduler.step()\n",
        "\n",
        "    # Calculate the average loss over the training data.\n",
        "    avg_train_loss = total_loss / len(train_dataloader)\n",
        "\n",
        "    # Store the loss value for plotting the learning curve.\n",
        "    loss_values.append(avg_train_loss)\n",
        "\n",
        "    print(\"\")\n",
        "    print(\"  Average training loss: {0:.2f}\".format(avg_train_loss))\n",
        "    print(\"  Training epoch took: {:}\".format(format_time(time.time() - t0)))\n",
        "\n",
        "    # ========================================\n",
        "    #               Validation\n",
        "    # ========================================\n",
        "    # After the completion of each training epoch, measure our performance on\n",
        "    # our validation set.\n",
        "\n",
        "    print(\"\")\n",
        "    print(\"Running Validation...\")\n",
        "\n",
        "    t0 = time.time()\n",
        "\n",
        "    # Put the model in evaluation mode--the dropout layers behave differently\n",
        "    # during evaluation.\n",
        "    model.eval()\n",
        "\n",
        "    # Tracking variables\n",
        "    eval_loss, eval_accuracy = 0, 0\n",
        "    nb_eval_steps, nb_eval_examples = 0, 0\n",
        "\n",
        "    # Evaluate data for one epoch\n",
        "    for batch in validation_dataloader:\n",
        "\n",
        "        # Add batch to GPU\n",
        "        batch = tuple(t.to(device) for t in batch)\n",
        "\n",
        "        # Unpack the inputs from our dataloader\n",
        "        b_input_ids, b_input_mask, b_labels = batch\n",
        "\n",
        "        # Telling the model not to compute or store gradients, saving memory and\n",
        "        # speeding up validation\n",
        "        with torch.no_grad():\n",
        "\n",
        "            # Forward pass, calculate logit predictions.\n",
        "            # This will return the logits rather than the loss because we have\n",
        "            # not provided labels.\n",
        "            # token_type_ids is the same as the \"segment ids\", which\n",
        "            # differentiates sentence 1 and 2 in 2-sentence tasks.\n",
        "            # The documentation for this `model` function is here:\n",
        "            # https://huggingface.co/transformers/v2.2.0/model_doc/bert.html#transformers.BertForSequenceClassification\n",
        "            outputs = model(b_input_ids,\n",
        "                            attention_mask=b_input_mask,\n",
        "                            )\n",
        "\n",
        "        # Get the \"logits\" output by the model. The \"logits\" are the output\n",
        "        # values prior to applying an activation function like the softmax.\n",
        "        logits = outputs[0]\n",
        "\n",
        "        # Move logits and labels to CPU\n",
        "        logits = logits.detach().cpu().numpy()\n",
        "        label_ids = b_labels.to('cpu').numpy()\n",
        "\n",
        "        # Calculate the accuracy for this batch of test sentences.\n",
        "        tmp_eval_accuracy = flat_accuracy(logits, label_ids)\n",
        "\n",
        "        # Accumulate the total accuracy.\n",
        "        eval_accuracy += tmp_eval_accuracy\n",
        "\n",
        "        # Track the number of batches\n",
        "        nb_eval_steps += 1\n",
        "\n",
        "    # Report the final accuracy for this validation run.\n",
        "    print(\"  Accuracy: {0:.2f}\".format(eval_accuracy/nb_eval_steps))\n",
        "    print(\"  Validation took: {:}\".format(format_time(time.time() - t0)))\n",
        "\n",
        "print(\"\")\n",
        "print(\"Training complete!\")"
      ],
      "metadata": {
        "colab": {
          "base_uri": "https://localhost:8080/"
        },
        "id": "uZxgKeWiit8p",
        "outputId": "1dcdac26-d07a-4248-dc4b-d1fbf72cc3f7"
      },
      "execution_count": null,
      "outputs": [
        {
          "output_type": "stream",
          "name": "stdout",
          "text": [
            "\n",
            "======== Epoch 1 / 5 ========\n",
            "Training...\n",
            "  Batch    30  of    100.    Elapsed: 0:00:12.\n",
            "  Batch    60  of    100.    Elapsed: 0:00:22.\n",
            "  Batch    90  of    100.    Elapsed: 0:00:31.\n",
            "\n",
            "  Average training loss: 1.34\n",
            "  Training epoch took: 0:00:35\n",
            "\n",
            "Running Validation...\n",
            "  Accuracy: 0.93\n",
            "  Validation took: 0:00:03\n",
            "\n",
            "======== Epoch 2 / 5 ========\n",
            "Training...\n",
            "  Batch    30  of    100.    Elapsed: 0:00:10.\n",
            "  Batch    60  of    100.    Elapsed: 0:00:19.\n",
            "  Batch    90  of    100.    Elapsed: 0:00:29.\n",
            "\n",
            "  Average training loss: 0.17\n",
            "  Training epoch took: 0:00:32\n",
            "\n",
            "Running Validation...\n",
            "  Accuracy: 0.99\n",
            "  Validation took: 0:00:03\n",
            "\n",
            "======== Epoch 3 / 5 ========\n",
            "Training...\n",
            "  Batch    30  of    100.    Elapsed: 0:00:09.\n",
            "  Batch    60  of    100.    Elapsed: 0:00:19.\n",
            "  Batch    90  of    100.    Elapsed: 0:00:28.\n",
            "\n",
            "  Average training loss: 0.03\n",
            "  Training epoch took: 0:00:32\n",
            "\n",
            "Running Validation...\n",
            "  Accuracy: 0.99\n",
            "  Validation took: 0:00:03\n",
            "\n",
            "======== Epoch 4 / 5 ========\n",
            "Training...\n",
            "  Batch    30  of    100.    Elapsed: 0:00:10.\n",
            "  Batch    60  of    100.    Elapsed: 0:00:19.\n",
            "  Batch    90  of    100.    Elapsed: 0:00:29.\n",
            "\n",
            "  Average training loss: 0.01\n",
            "  Training epoch took: 0:00:32\n",
            "\n",
            "Running Validation...\n",
            "  Accuracy: 0.99\n",
            "  Validation took: 0:00:03\n",
            "\n",
            "======== Epoch 5 / 5 ========\n",
            "Training...\n",
            "  Batch    30  of    100.    Elapsed: 0:00:10.\n",
            "  Batch    60  of    100.    Elapsed: 0:00:19.\n",
            "  Batch    90  of    100.    Elapsed: 0:00:29.\n",
            "\n",
            "  Average training loss: 0.01\n",
            "  Training epoch took: 0:00:32\n",
            "\n",
            "Running Validation...\n",
            "  Accuracy: 0.99\n",
            "  Validation took: 0:00:03\n",
            "\n",
            "Training complete!\n"
          ]
        }
      ]
    },
    {
      "cell_type": "markdown",
      "source": [
        "# Inference to predict tweet samples"
      ],
      "metadata": {
        "id": "aPSzWBvVmhqQ"
      }
    },
    {
      "cell_type": "markdown",
      "source": [
        "## Clean up the tweets"
      ],
      "metadata": {
        "id": "rh9BWqqVmm7I"
      }
    },
    {
      "cell_type": "code",
      "source": [
        "import re\n",
        "from zemberek import (TurkishMorphology,\n",
        "                      TurkishSentenceNormalizer,\n",
        "                      TurkishSpellChecker,\n",
        "                      )\n",
        "morphology = TurkishMorphology.create_with_defaults()\n",
        "normalizer = TurkishSentenceNormalizer(morphology)"
      ],
      "metadata": {
        "colab": {
          "base_uri": "https://localhost:8080/"
        },
        "id": "xrZOglbxi8ZA",
        "outputId": "3be84d36-c98b-495c-e3bf-1ad4332b95a7"
      },
      "execution_count": null,
      "outputs": [
        {
          "output_type": "stream",
          "name": "stderr",
          "text": [
            "INFO:zemberek.morphology.turkish_morphology:TurkishMorphology instance initialized in 9.0670747756958\n"
          ]
        },
        {
          "output_type": "stream",
          "name": "stdout",
          "text": [
            "2023-06-14 22:32:43,196 - zemberek.morphology.turkish_morphology - INFO\n",
            "Msg: TurkishMorphology instance initialized in 9.0670747756958\n",
            "\n"
          ]
        }
      ]
    },
    {
      "cell_type": "code",
      "source": [
        "emoji_pattern = re.compile(pattern = \"[\"\n",
        "        u\"\\U0001F600-\\U0001F64F\"  # emoticons\n",
        "        u\"\\U0001F300-\\U0001F5FF\"  # symbols & pictographs\n",
        "        u\"\\U0001F680-\\U0001F6FF\"  # transport & map symbols\n",
        "        u\"\\U0001F1E0-\\U0001F1FF\"  # flags (iOS)\n",
        "        \"]+\", flags = re.UNICODE)\n",
        "\n",
        "def clean_tweet(tweet):\n",
        "    if type(tweet) == np.float:\n",
        "        return \"\"\n",
        "    temp = re.sub(\"'\", \"\", tweet) # to avoid removing contractions in english\n",
        "    temp = re.sub(\"@[A-Za-z0-9iığüşöç]+\",\"\", temp)\n",
        "    temp = re.sub(\"#[A-Za-z0-9iığüşöç]+\",\"\", temp)\n",
        "    temp = re.sub(r'http\\S+', '', temp)\n",
        "    temp = re.sub('[()!?]', ' ', temp)\n",
        "    temp = re.sub('\\[.*?\\]',' ', temp)\n",
        "    temp = emoji_pattern.sub(r'',temp)\n",
        "#     temp = re.sub(\"[^a-z0-9İığüşöç]\",\" \", temp)\n",
        "    temp = temp.split()\n",
        "#     temp = [w for w in temp if not w in stopwords]\n",
        "    temp = \" \".join(word for word in temp)\n",
        "    return temp"
      ],
      "metadata": {
        "id": "WIQLJjcpi8bp"
      },
      "execution_count": null,
      "outputs": []
    },
    {
      "cell_type": "code",
      "source": [
        "raw_tweets = [\n",
        "    'Özgür ve temiz bir turkiye icin 🇹🇷\\n#SanaSoz \\n#SanaSozBaharlarGelecek \\n#cezevindenseskaydi \\n#bizdendesanasoz \\n#kilicdaroglu \\n#GenelAf \\n#infazduezenlemesi \\n#ADALET \\n#af \\n#MilletTarihYazacak \\n#Milletİttifakı https://t.co/9hhKFNftGs',\n",
        "    'İşte bu! Türkiye’me yeni bir nefes #kılıçdaroğlu https://t.co/APxXlsvV4l',\n",
        "    'MüslümanızElhamdürillah\\nkalkıp da terörisİTlerin desteklediği yalamalara OY verirmiyiz\\nkatiLLErin ittifakçılarına OY verirmiyiz\\nİnsanız Biz,beynimiz var Allah akılfikir ihsan eylemiş\\nanguSdeğilik\\nKuranıkerim yakan bebek katillerine OY istiyor kasetci #Kılıçdaroğlu  ve adaylarda👇 https://t.co/n5hAsxKRqb',\n",
        "    'Şimdi #HaberGlobal; İçişleri bakanı #Soylu, \\n-#Demirtaş\\'ın #PKK\\'ya \"silah bıraktırma\" çıkışı örgüte nefeslenme numarasıdır, diyor.\\nBu doğru değil..\\nPKK ilk defa #Sevr\\'deki bölünme projesi\\'ni #Kılıçdaroğlu ve #Milletittifakı yapılanmasıyla güçlü olrk yakalamıştır, buna oynuyor https://t.co/ppiazSatHI',\n",
        "    'İhanetin arkasında #emperyalizm ile işbirliği yapan #Türksolu var.\\n-09 temmuz 1934 1.Kürdoloji kongresi\"\\n-1955 Moskova Komünist yazarlar kongresi\\n-1978 Lice, Fis köyü #PKK\\'nın kuruluşu.\\nBu iğrenç sol, #Kılıçdaroğlu ile harekete geçti.. https://t.co/feD6TwpwiF',\n",
        "    'Ne diyor #Kılıçdaroğlu; \"#Kürtkimliği\\'ni meclise kabul ettireceğim, #yerelyönetimler yasasını çıkaracağım\". Bu sinsi bir Sevr çıkışıdır\\n#Sevr\\'i imzlayanlar \"vatan haini\" ilan edilmiştir.\\nBu ihaneti #Atatürk ve arkadaşları \"Kurtuluş savaşı\" sonrası #Lozan\\'da yırtıp atmışlardır. https://t.co/JJJWQ2M8kW',\n",
        "    'Kılıçdaroğlu Bu Sefer Çok Güçlü. #kılıçdaroğlu #chp https://t.co/JgSoLgI1da @YouTube aracılığıyla',\n",
        "    \"@__KESAFET64__ #Kılıçdaroğlu’na oy yok👎🏻\",\n",
        "    '#MuhammetYakut #Tether\\n#kilicdaroglu #ibbguvenligizambekliyor %4 zam %300 enflasyon bu gidiş nereye',\n",
        "    \"Kılıçdaroğlu 'Alevi' notuyla paylaştığı videoda ilk kez oy kullanacak gençlere seslendi \\nhttps://t.co/nFj6WBQhxT \\n#kılıçdaroğlu #alevi https://t.co/l63u311gYD\",\n",
        "    'Optimar, İlk kez oy kullanacak gençlerin nabzının tutulduğu anketinin sonuçlarını yayınladı:   📷 % 51,2 Erdoğan,  📷 % 39,2 Kılıçdaroğlu   📷 % 7,4 Muharrem İnce  📷 % 1,1 Sinan Oğan  \\n\\n#anket #optimar #seçim2023 #erdoğan #kılıçdaroğlu #ince #oğan https://t.co/NE2ORt22E4',\n",
        "]"
      ],
      "metadata": {
        "id": "z_4owHe5it_p"
      },
      "execution_count": null,
      "outputs": []
    },
    {
      "cell_type": "code",
      "source": [
        "tweet_samples = []\n",
        "for tweet in raw_tweets:\n",
        "  tweet_samples.append(normalizer.normalize(clean_tweet(tweet)))\n",
        "tweet_samples"
      ],
      "metadata": {
        "colab": {
          "base_uri": "https://localhost:8080/"
        },
        "id": "q8nr1KpyiL68",
        "outputId": "30dd96dc-c69d-4561-87db-2f0a578996aa"
      },
      "execution_count": null,
      "outputs": [
        {
          "output_type": "stream",
          "name": "stderr",
          "text": [
            "<ipython-input-26-645be516534a>:9: DeprecationWarning: `np.float` is a deprecated alias for the builtin `float`. To silence this warning, use `float` by itself. Doing this will not modify any behavior and is safe. If you specifically wanted the numpy scalar type, use `np.float64` here.\n",
            "Deprecated in NumPy 1.20; for more details and guidance: https://numpy.org/devdocs/release/1.20.0-notes.html#deprecations\n",
            "  if type(tweet) == np.float:\n"
          ]
        },
        {
          "output_type": "execute_result",
          "data": {
            "text/plain": [
              "['özgür ve temiz bir türkiye için ittifakı',\n",
              " 'işte bu türkiyeme yeni bir nefes',\n",
              " 'müslümanizelhamdürillah kalkıp da teröristlerin desteklediği yalamalara oy verir miyiz katillerin ittifakçılarına oy verir miyiz insanız biz , beynimiz var allah akılfikir ihsan eylemiş angusdeğilik kuranıkerim yakan bebek katillerine oy istiyor kasetçi ve adaylarda',\n",
              " 'şimdi ; içişleri bakanı , - \" silah bıraktırma \" çıkışı örgüte nefeslenme numarasıdır , diyor . bu doğru değil . . pkk ilk defa bölünme projesini ve yapılanmasıyla güçlü olarak yakalamıştır , buna oynuyor',\n",
              " 'ihanetin arkasında ile işbirliği yapan var . -09 temmuz 1934 1. kürdoloji kongresi \" -1955 moskova komünist yazarlar kongresi -1978 lice , fiş köyü kuruluşu . bu iğrenç sol , ile harekete geçti . .',\n",
              " 'ne diyor ; \" meclise kabul ettireceğim , yasasını çıkaracağım \" . bu sinsi bir sevr çıkısıdır imzalayanlar \" vatan haini \" ilan edilmiştir . bu ihaneti ve arkadaşları \" kurtuluş savaşı \" sonrası yırtıp atmışlardır .',\n",
              " 'kılıçdaroğlu bu sefer çok güçlü . aracılığıyla',\n",
              " '@__kesafet64__ ’ na oy yok',\n",
              " '%4 zam %300 enflasyon bu gidiş nereye',\n",
              " 'kılıçdaroğlu alevi notuyla paylaştığı videoda ilk kez oy kullanacak gençlere seslendi',\n",
              " 'optimal , ilk kez oy kullanacak gençlerin nabzının tutulduğu anketinin sonuçlarını yayınladı : % 51,2 erdoğan , % 39,2 kılıçdaroğlu % 7,4 muharrem ince % 1,1 sinan oğan']"
            ]
          },
          "metadata": {},
          "execution_count": 28
        }
      ]
    },
    {
      "cell_type": "code",
      "source": [
        "test_encodings = tokenizer.batch_encode_plus(tweet_samples,\n",
        "                                             max_length=64,\n",
        "                                             add_special_tokens=True,\n",
        "                                             return_attention_mask=True,\n",
        "                                             pad_to_max_length=True,\n",
        "                                             truncation=True)"
      ],
      "metadata": {
        "id": "unmMfyB-mvV3"
      },
      "execution_count": null,
      "outputs": []
    },
    {
      "cell_type": "code",
      "source": [
        "test_input_ids = test_encodings[\"input_ids\"]\n",
        "test_attention_masks = test_encodings[\"attention_mask\"]\n",
        "print(test_input_ids[0])\n",
        "print(tweet_samples[0])"
      ],
      "metadata": {
        "colab": {
          "base_uri": "https://localhost:8080/"
        },
        "id": "wmJGHEsgoL5f",
        "outputId": "477c1ce3-68fd-4696-e505-af45df44df3a"
      },
      "execution_count": null,
      "outputs": [
        {
          "output_type": "stream",
          "name": "stdout",
          "text": [
            "[2, 4742, 1992, 3477, 1996, 13604, 2058, 10618, 1048, 3, 0, 0, 0, 0, 0, 0, 0, 0, 0, 0, 0, 0, 0, 0, 0, 0, 0, 0, 0, 0, 0, 0, 0, 0, 0, 0, 0, 0, 0, 0, 0, 0, 0, 0, 0, 0, 0, 0, 0, 0, 0, 0, 0, 0, 0, 0, 0, 0, 0, 0, 0, 0, 0, 0]\n",
            "özgür ve temiz bir türkiye için ittifakı\n"
          ]
        }
      ]
    },
    {
      "cell_type": "markdown",
      "source": [
        "## Predicting their sentiments with the trained BERT model"
      ],
      "metadata": {
        "id": "28wi8SVboufn"
      }
    },
    {
      "cell_type": "code",
      "source": [
        "def predict_fn(encodings, model):\n",
        "    device = torch.device(\"cuda\" if torch.cuda.is_available() else \"cpu\")\n",
        "    model.to(device)\n",
        "    model.eval()\n",
        "\n",
        "    test_inputs = torch.tensor(encodings[\"input_ids\"]).to(device)\n",
        "    test_masks = torch.tensor(encodings[\"attention_mask\"]).to(device)\n",
        "    with torch.no_grad():\n",
        "        return model(test_inputs, attention_mask=test_masks)"
      ],
      "metadata": {
        "id": "80SJTrMOxElO"
      },
      "execution_count": null,
      "outputs": []
    },
    {
      "cell_type": "code",
      "source": [
        "test_results = predict_fn(test_encodings, model)"
      ],
      "metadata": {
        "id": "a8ZOQk-rxoG7"
      },
      "execution_count": null,
      "outputs": []
    },
    {
      "cell_type": "code",
      "source": [
        "# Move logits and labels to CPU\n",
        "logits = test_results[0].detach().cpu().numpy()\n",
        "logits\n"
      ],
      "metadata": {
        "colab": {
          "base_uri": "https://localhost:8080/"
        },
        "id": "vBfAyv6vzpd-",
        "outputId": "87699db6-a1e2-452a-addb-1fa7cb42cffd"
      },
      "execution_count": null,
      "outputs": [
        {
          "output_type": "execute_result",
          "data": {
            "text/plain": [
              "array([[-0.6428584 , -2.3196328 ,  4.163816  , -1.99258   , -0.59135884],\n",
              "       [-3.343495  , -2.2413785 ,  4.6428356 , -0.01008765, -0.6379364 ],\n",
              "       [ 4.5469213 , -1.3599429 , -0.8531418 , -0.76345813, -1.2896671 ],\n",
              "       [ 0.3674781 ,  0.0810919 , -1.7619007 ,  3.76909   , -1.4329953 ],\n",
              "       [ 4.526331  ,  0.01386757, -2.322728  , -0.690689  , -1.8575532 ],\n",
              "       [ 3.497656  ,  0.9631811 , -2.056192  , -0.71271867, -2.009854  ],\n",
              "       [ 0.09808169, -0.44521496,  2.4193895 , -0.03519984, -2.0791414 ],\n",
              "       [-1.2797536 , -2.9105232 ,  4.050158  ,  1.3136945 , -1.9247807 ],\n",
              "       [ 2.9371743 , -2.9049664 , -0.8771319 ,  0.7480168 ,  0.6712223 ],\n",
              "       [ 2.1233249 ,  1.1220071 , -0.74053663, -0.10266677, -2.057682  ],\n",
              "       [-2.0952768 , -1.3479416 ,  2.107271  ,  3.199038  , -1.7505984 ]],\n",
              "      dtype=float32)"
            ]
          },
          "metadata": {},
          "execution_count": 33
        }
      ]
    },
    {
      "cell_type": "code",
      "source": [
        "predicted_labels = np.argmax(logits, axis=1).flatten()\n",
        "predicted_labels"
      ],
      "metadata": {
        "colab": {
          "base_uri": "https://localhost:8080/"
        },
        "id": "HAEcJheD0X6K",
        "outputId": "0b9f490d-68e4-42c7-d966-70c623914160"
      },
      "execution_count": null,
      "outputs": [
        {
          "output_type": "execute_result",
          "data": {
            "text/plain": [
              "array([2, 2, 0, 3, 0, 0, 2, 2, 0, 0, 3])"
            ]
          },
          "metadata": {},
          "execution_count": 34
        }
      ]
    },
    {
      "cell_type": "code",
      "source": [
        "label_sentiment = sentiment_dict = {0:\"kızgın\",\n",
        "                                    1:\"korku\",\n",
        "                                    2:\"mutlu\",\n",
        "                                    3:\"surpriz\",\n",
        "                                    4:\"üzgün\"}\n",
        "for tweet, predicted_label in zip(tweet_samples, predicted_labels):\n",
        "\n",
        "\n",
        "  print(tweet)\n",
        "  # Print the sentence split into tokens.\n",
        "  print('Tokenized: ', tokenizer.tokenize(tweet))\n",
        "  # Print the sentence mapped to token ids.\n",
        "  print('Token IDs: ', tokenizer.convert_tokens_to_ids(tokenizer.tokenize(tweet)))\n",
        "  print(label_sentiment[predicted_label], '\\n')\n"
      ],
      "metadata": {
        "colab": {
          "base_uri": "https://localhost:8080/"
        },
        "id": "2JIg1J6V0X9B",
        "outputId": "bd0e25be-1c06-41af-84f2-4a68937acc49"
      },
      "execution_count": null,
      "outputs": [
        {
          "output_type": "stream",
          "name": "stdout",
          "text": [
            "özgür ve temiz bir türkiye için ittifakı\n",
            "Tokenized:  ['özgür', 've', 'temiz', 'bir', 'türkiye', 'için', 'ittifak', '##ı']\n",
            "Token IDs:  [4742, 1992, 3477, 1996, 13604, 2058, 10618, 1048]\n",
            "mutlu \n",
            "\n",
            "işte bu türkiyeme yeni bir nefes\n",
            "Tokenized:  ['işte', 'bu', 'türkiye', '##me', 'yeni', 'bir', 'nefes']\n",
            "Token IDs:  [4936, 2048, 13604, 2078, 2360, 1996, 7138]\n",
            "mutlu \n",
            "\n",
            "müslümanizelhamdürillah kalkıp da teröristlerin desteklediği yalamalara oy verir miyiz katillerin ittifakçılarına oy verir miyiz insanız biz , beynimiz var allah akılfikir ihsan eylemiş angusdeğilik kuranıkerim yakan bebek katillerine oy istiyor kasetçi ve adaylarda\n",
            "Tokenized:  ['müslüman', '##ize', '##l', '##ham', '##dür', '##illa', '##h', 'kalkıp', 'da', 'teröristlerin', 'desteklediği', 'yal', '##ama', '##lara', 'oy', 'verir', 'miyiz', 'katil', '##lerin', 'ittifak', '##çıların', '##a', 'oy', 'verir', 'miyiz', 'insanı', '##z', 'biz', ',', 'beyni', '##mi', '##z', 'var', 'allah', 'akıl', '##fik', '##ir', 'ihsan', 'eylemi', '##ş', 'an', '##gu', '##s', '##de', '##ği', '##lik', 'kuran', '##ık', '##erim', 'yaka', '##n', 'bebek', 'katil', '##lerine', 'oy', 'istiyor', 'kaset', '##çi', 've', 'adaylar', '##da']\n",
            "Token IDs:  [15406, 3232, 1008, 5311, 2352, 7321, 1055, 17589, 2054, 26088, 27666, 10229, 2226, 2249, 2299, 4221, 12043, 10269, 2208, 10618, 17422, 1006, 2299, 4221, 12043, 7344, 1050, 2384, 16, 27385, 2938, 1050, 2166, 14906, 4631, 8038, 1977, 28446, 17637, 1026, 2085, 2310, 1022, 1988, 2087, 2102, 13052, 2040, 6272, 5565, 1009, 4979, 10269, 2633, 2299, 3427, 23454, 3018, 1992, 12627, 1986]\n",
            "kızgın \n",
            "\n",
            "şimdi ; içişleri bakanı , - \" silah bıraktırma \" çıkışı örgüte nefeslenme numarasıdır , diyor . bu doğru değil . . pkk ilk defa bölünme projesini ve yapılanmasıyla güçlü olarak yakalamıştır , buna oynuyor\n",
            "Tokenized:  ['şimdi', ';', 'içi', '##ş', '##leri', 'bakanı', ',', '-', '\"', 'silah', 'bıraktı', '##r', '##ma', '\"', 'çıkışı', 'örgüte', 'nefes', '##lenme', 'numarası', '##dır', ',', 'diyor', '.', 'bu', 'doğru', 'değil', '.', '.', 'p', '##kk', 'ilk', 'defa', 'bölün', '##me', 'projesini', 've', 'yapılanma', '##sıyla', 'güçlü', 'olarak', 'yakalamış', '##tır', ',', 'buna', 'oynuyor']\n",
            "Token IDs:  [3653, 31, 5438, 1026, 2065, 23156, 16, 17, 6, 3960, 9546, 1028, 1981, 6, 14412, 31739, 7138, 4817, 8630, 2077, 16, 4022, 18, 2048, 2713, 2306, 18, 18, 84, 16311, 2411, 4635, 8816, 2078, 21998, 1992, 23685, 18629, 4245, 2133, 30599, 2134, 16, 4347, 13454]\n",
            "surpriz \n",
            "\n",
            "ihanetin arkasında ile işbirliği yapan var . -09 temmuz 1934 1. kürdoloji kongresi \" -1955 moskova komünist yazarlar kongresi -1978 lice , fiş köyü kuruluşu . bu iğrenç sol , ile harekete geçti . .\n",
            "Tokenized:  ['ihanet', '##in', 'arkasında', 'ile', 'işbirliği', 'yapan', 'var', '.', '-', '09', 'temmuz', '193', '##4', '1', '.', 'kür', '##do', '##lo', '##ji', 'kongre', '##si', '\"', '-', '1955', 'mo', '##sk', '##ova', 'komünist', 'yazarlar', 'kongre', '##si', '-', '1978', 'li', '##ce', ',', 'fiş', 'köyü', 'kuruluşu', '.', 'bu', 'iğrenç', 'sol', ',', 'ile', 'harekete', 'geçti', '.', '.']\n",
            "Token IDs:  [13403, 1973, 8559, 2074, 6939, 3158, 2166, 18, 17, 5763, 18208, 7395, 1119, 21, 18, 5282, 6106, 3178, 8161, 16612, 2462, 6, 17, 28331, 5930, 11947, 4115, 20479, 21203, 16612, 2462, 17, 20606, 6043, 2090, 16, 13931, 12591, 11655, 18, 2048, 19555, 4341, 16, 2074, 8076, 5797, 18, 18]\n",
            "kızgın \n",
            "\n",
            "ne diyor ; \" meclise kabul ettireceğim , yasasını çıkaracağım \" . bu sinsi bir sevr çıkısıdır imzalayanlar \" vatan haini \" ilan edilmiştir . bu ihaneti ve arkadaşları \" kurtuluş savaşı \" sonrası yırtıp atmışlardır .\n",
            "Tokenized:  ['ne', 'diyor', ';', '\"', 'meclise', 'kabul', 'ettir', '##eceğim', ',', 'yasası', '##nı', 'çıkara', '##cağım', '\"', '.', 'bu', 'sinsi', 'bir', 'sev', '##r', 'çık', '##ısı', '##dır', 'imzala', '##yan', '##lar', '\"', 'vatan', 'hain', '##i', '\"', 'ilan', 'edilmiştir', '.', 'bu', 'ihanet', '##i', 've', 'arkadaşları', '\"', 'kurtuluş', 'savaşı', '\"', 'sonrası', 'yırt', '##ıp', 'atmış', '##lardır', '.']\n",
            "Token IDs:  [2142, 4022, 31, 6, 30298, 2989, 5268, 4224, 16, 20842, 2538, 14516, 4688, 6, 18, 2048, 28382, 1996, 2391, 1028, 2199, 2413, 2077, 9359, 2414, 1980, 6, 3449, 12646, 1024, 6, 4087, 6754, 18, 2048, 13403, 1024, 1992, 9624, 6, 15219, 10452, 6, 4674, 23579, 2503, 15068, 3599, 18]\n",
            "kızgın \n",
            "\n",
            "kılıçdaroğlu bu sefer çok güçlü . aracılığıyla\n",
            "Tokenized:  ['kılıç', '##daroğlu', 'bu', 'sefer', 'çok', 'güçlü', '.', 'aracılığıyla']\n",
            "Token IDs:  [16652, 9610, 2048, 4773, 2140, 4245, 18, 7725]\n",
            "mutlu \n",
            "\n",
            "@__kesafet64__ ’ na oy yok\n",
            "Tokenized:  ['@', '_', '_', 'kes', '##afe', '##t', '##64', '_', '_', '’', 'na', 'oy', 'yok']\n",
            "Token IDs:  [36, 67, 67, 3028, 12967, 1023, 23043, 67, 67, 554, 4044, 2299, 2407]\n",
            "mutlu \n",
            "\n",
            "%4 zam %300 enflasyon bu gidiş nereye\n",
            "Tokenized:  ['%', '4', 'zam', '%', '300', 'enflasyon', 'bu', 'gidiş', 'nereye']\n",
            "Token IDs:  [9, 24, 5071, 9, 6156, 7443, 2048, 9756, 9193]\n",
            "kızgın \n",
            "\n",
            "kılıçdaroğlu alevi notuyla paylaştığı videoda ilk kez oy kullanacak gençlere seslendi\n",
            "Tokenized:  ['kılıç', '##daroğlu', 'alev', '##i', 'notu', '##yla', 'paylaştığı', 'videoda', 'ilk', 'kez', 'oy', 'kullanacak', 'gençlere', 'seslen', '##di']\n",
            "Token IDs:  [16652, 9610, 11586, 1024, 16846, 2218, 18988, 28046, 2411, 3119, 2299, 15125, 17853, 17215, 2016]\n",
            "kızgın \n",
            "\n",
            "optimal , ilk kez oy kullanacak gençlerin nabzının tutulduğu anketinin sonuçlarını yayınladı : % 51,2 erdoğan , % 39,2 kılıçdaroğlu % 7,4 muharrem ince % 1,1 sinan oğan\n",
            "Tokenized:  ['opt', '##ima', '##l', ',', 'ilk', 'kez', 'oy', 'kullanacak', 'gençlerin', 'nab', '##zını', '##n', 'tutul', '##duğu', 'anket', '##inin', 'sonuçlarını', 'yayınladı', ':', '%', '51', ',', '2', 'er', '##doğan', ',', '%', '39', ',', '2', 'kılıç', '##daroğlu', '%', '7', ',', '4', 'muhar', '##rem', 'ince', '%', '1', ',', '1', 'sin', '##an', 'oğ', '##an']\n",
            "Token IDs:  [17944, 7101, 1008, 16, 2411, 3119, 2299, 15125, 12496, 23441, 29604, 1009, 8291, 2909, 9654, 2082, 13449, 16054, 30, 9, 8236, 16, 22, 2527, 3500, 16, 9, 6898, 16, 22, 16652, 9610, 9, 27, 16, 24, 23093, 5779, 6318, 9, 21, 16, 21, 4071, 1974, 4212, 1974]\n",
            "surpriz \n",
            "\n"
          ]
        }
      ]
    },
    {
      "cell_type": "markdown",
      "source": [
        "## Saving the model"
      ],
      "metadata": {
        "id": "E42Fqoa43kTv"
      }
    },
    {
      "cell_type": "code",
      "source": [
        "import os\n",
        "\n",
        "# Saving best-practices: if you use defaults names for the model, you can reload it using from_pretrained()\n",
        "\n",
        "output_dir = './model_save/'\n",
        "\n",
        "# Create output directory if needed\n",
        "if not os.path.exists(output_dir):\n",
        "    os.makedirs(output_dir)\n",
        "\n",
        "print(\"Saving model to %s\" % output_dir)\n",
        "\n",
        "# Save a trained model, configuration and tokenizer using `save_pretrained()`.\n",
        "# They can then be reloaded using `from_pretrained()`\n",
        "model_to_save = model.module if hasattr(model, 'module') else model  # Take care of distributed/parallel training\n",
        "model_to_save.save_pretrained(output_dir)\n",
        "tokenizer.save_pretrained(output_dir)\n",
        "\n",
        "# Good practice: save your training arguments together with the trained model\n",
        "# torch.save(args, os.path.join(output_dir, 'training_args.bin'))\n"
      ],
      "metadata": {
        "colab": {
          "base_uri": "https://localhost:8080/"
        },
        "id": "UDGuA1Hv3joy",
        "outputId": "76946026-9cd8-483c-a610-3e915eedb6a7"
      },
      "execution_count": null,
      "outputs": [
        {
          "output_type": "stream",
          "name": "stdout",
          "text": [
            "Saving model to ./model_save/\n"
          ]
        },
        {
          "output_type": "execute_result",
          "data": {
            "text/plain": [
              "('./model_save/tokenizer_config.json',\n",
              " './model_save/special_tokens_map.json',\n",
              " './model_save/vocab.txt',\n",
              " './model_save/added_tokens.json',\n",
              " './model_save/tokenizer.json')"
            ]
          },
          "metadata": {},
          "execution_count": 36
        }
      ]
    },
    {
      "cell_type": "code",
      "source": [],
      "metadata": {
        "id": "_YxDBXxpGx3q"
      },
      "execution_count": null,
      "outputs": []
    }
  ]
}